{
  "nbformat": 4,
  "nbformat_minor": 0,
  "metadata": {
    "colab": {
      "provenance": [],
      "include_colab_link": true
    },
    "kernelspec": {
      "name": "ir",
      "display_name": "R"
    },
    "language_info": {
      "name": "R"
    }
  },
  "cells": [
    {
      "cell_type": "markdown",
      "metadata": {
        "id": "view-in-github",
        "colab_type": "text"
      },
      "source": [
        "<a href=\"https://colab.research.google.com/github/Nico5011/labo2025v/blob/main/src/ensembles/470_GBDT_LightGBM.ipynb\" target=\"_parent\"><img src=\"https://colab.research.google.com/assets/colab-badge.svg\" alt=\"Open In Colab\"/></a>"
      ]
    },
    {
      "cell_type": "markdown",
      "source": [
        "# 4. Ensembles de Arboles de Decision"
      ],
      "metadata": {
        "id": "O94qX1svwzoC"
      }
    },
    {
      "cell_type": "markdown",
      "source": [
        "## 4.06 GBDT LightGBM"
      ],
      "metadata": {
        "id": "HsJFTcBZw1bE"
      }
    },
    {
      "cell_type": "markdown",
      "source": [
        "La técnica de Gradient Boosting fue creada por Jerome H. Friedman en 1999 - 2001\n",
        "<br>Se implementaron librerías ineficientes\n",
        "<br>En 2016 se crea XGBoost, en 2017 LightGBM\n",
        "\n",
        "\n"
      ],
      "metadata": {
        "id": "nsgvDbemw9Tc"
      }
    },
    {
      "cell_type": "markdown",
      "source": [
        "Paper original de  Gradient Boosting\n",
        "\n",
        "\n",
        "Friedman JH. Greedy function approximation: A gradient\n",
        "boosting machine. Ann Stat. 2001;29(5):1189–232. https://\n",
        "doi.org/10.1214/aos/1013203451.\n",
        "<br>\n",
        "https://projecteuclid.org/journals/annals-of-statistics/volume-29/issue-5/Greedy-function-approximation-A-gradient-boosting-machine/10.1214/aos/1013203451.pdf"
      ],
      "metadata": {
        "id": "1o-6jjy0Yedk"
      }
    },
    {
      "cell_type": "markdown",
      "source": [
        "Paper XGBoost\n",
        "\n",
        "Chen, T.; Guestrin, C. Xgboost: A scalable tree boosting system. In Proceedings of the 22nd ACM Sigkdd International Conference on Knowledge Discovery and Data Mining, San Francisco, CA, USA, 13–17 August 2016; pp. 785–794.\n",
        "\n",
        "https://dl.acm.org/doi/pdf/10.1145/2939672.2939785"
      ],
      "metadata": {
        "id": "14MlfCxMZWIc"
      }
    },
    {
      "cell_type": "markdown",
      "source": [
        "Paper  LightGBM\n",
        "\n",
        "Ke G., Meng Q., Finley T., Wang T., Chen W., Ma W., et al.\n",
        "Lightgbm: A highly efficient gradient boosting decision tree\n",
        "Advances in Neural Information Processing Systems, 30 (2017)\n",
        "\n",
        "https://proceedings.neurips.cc/paper/2017/file/6449f44a102fde848669bdd9eb6b76fa-Paper.pdf"
      ],
      "metadata": {
        "id": "IDk5edloZpBI"
      }
    },
    {
      "cell_type": "markdown",
      "source": [
        "Videos \"simplificados\" :\n",
        "*  https://www.youtube.com/watch?v=3CC4N4z3GJc\n",
        "*  https://www.youtube.com/watch?v=2xudPOBz-vs\n",
        "*  https://www.youtube.com/watch?v=jxuNLH5dXCs\n",
        "*  https://www.youtube.com/watch?v=StWY5QWMXCw"
      ],
      "metadata": {
        "id": "ZMyXpQyJaCsP"
      }
    },
    {
      "cell_type": "markdown",
      "source": [
        "Artículos ligeros:\n",
        "*  https://machinelearningmastery.com/gentle-introduction-gradient-boosting-algorithm-machine-learning/\n",
        "*   https://www.machinelearningplus.com/machine-learning/an-introduction-to-gradient-boosting-decision-trees/\n",
        "*   https://medium.com/@ruchi.awasthi63/gradient-boosted-decision-tree-clearly-explained-bd1d8c7d9923\n",
        "*   https://medium.com/data-science/a-visual-understanding-of-decision-trees-and-gradient-boosting-c6bc53f982ce\n",
        "*   https://medium.com/analytics-vidhya/introduction-to-the-gradient-boosting-algorithm-c25c653f826b\n",
        "*   https://medium.com/@datasciencewizards/understanding-the-gradient-boosting-algorithm-9fe698a352ad"
      ],
      "metadata": {
        "id": "Eyffb3AAahth"
      }
    },
    {
      "cell_type": "markdown",
      "source": [
        "El Gradient Boosting of Decision Trees es un ensemble de árboles de decisión, para un nuevo registro la predicción se hace sumando el score que cada arbol asigna a ese registro.\n",
        "\n",
        "En GBDT la construccion de los árboles es secuencial, ya que el arbol n-simo se genera para predecir el error del modelo conformado por los n-1 arboles previos, aunque sea un arbol de clasificación lo que se predice es un numero real mediante un arbol de regresión."
      ],
      "metadata": {
        "id": "0YOyfUaESdsX"
      }
    },
    {
      "cell_type": "markdown",
      "source": [
        "<br>Qué tipo de perturbaciones se realiza LightGBM\n",
        "\n",
        "*   Se perturba el dataset, seleccionando para cada arbol un subconjunto de las columnas.\n",
        "*   El algortimo de arbol de decisión no presenta perturbaciones"
      ],
      "metadata": {
        "id": "nF6XblBIYnY6"
      }
    },
    {
      "cell_type": "markdown",
      "source": [
        "Cada arbolito de LightGBM se entrena sobre un dataset perturbado, que en principio posee :\n",
        "* todos los registros del dataset original\n",
        "* solo un porcentaje *feature_fraction* de las columnas originales del dataset"
      ],
      "metadata": {
        "id": "j75A--Tsx2df"
      }
    },
    {
      "cell_type": "markdown",
      "source": [
        "#### 4.06.1  Seteo del ambiente en Google Colab"
      ],
      "metadata": {
        "id": "PX0qg_c0yqob"
      }
    },
    {
      "cell_type": "markdown",
      "metadata": {
        "id": "NGY7H9xza7Zr"
      },
      "source": [
        "Esta parte se debe correr con el runtime en Python3\n",
        "<br>Ir al menu, Runtime -> Change Runtime Type -> Runtime type ->  **Python 3**"
      ]
    },
    {
      "cell_type": "markdown",
      "metadata": {
        "id": "7PupIBNba7Zr"
      },
      "source": [
        "Conectar la virtual machine donde esta corriendo Google Colab con el  Google Drive, para poder tener persistencia de archivos"
      ]
    },
    {
      "cell_type": "code",
      "execution_count": 1,
      "metadata": {
        "id": "9LpZCst5a7Zs",
        "outputId": "89e74462-7ab7-413a-e89e-381ea603bed7",
        "colab": {
          "base_uri": "https://localhost:8080/"
        }
      },
      "outputs": [
        {
          "output_type": "stream",
          "name": "stdout",
          "text": [
            "Drive already mounted at /content/.drive; to attempt to forcibly remount, call drive.mount(\"/content/.drive\", force_remount=True).\n"
          ]
        }
      ],
      "source": [
        "# primero establecer el Runtime de Python 3\n",
        "from google.colab import drive\n",
        "drive.mount('/content/.drive')"
      ]
    },
    {
      "cell_type": "markdown",
      "metadata": {
        "id": "JYC_F-wla7Zs"
      },
      "source": [
        "Para correr la siguiente celda es fundamental en Arranque en Frio haber copiado el archivo kaggle.json al Google Drive, en la carpeta indicada en el instructivo\n",
        "\n",
        "<br>los siguientes comando estan en shell script de Linux\n",
        "*   Crear las carpetas en el Google Drive\n",
        "*   \"instalar\" el archivo kaggle.json desde el Google Drive a la virtual machine para que pueda ser utilizado por la libreria  kaggle de Python\n",
        "*   Bajar el  **dataset_pequeno**  al  Google Drive  y tambien al disco local de la virtual machine que esta corriendo Google Colab\n",
        "\n"
      ]
    },
    {
      "cell_type": "code",
      "execution_count": 2,
      "metadata": {
        "id": "XWLelftXa7Zt",
        "outputId": "2d71fa9a-574d-41fa-d528-633fbccb695e",
        "colab": {
          "base_uri": "https://localhost:8080/"
        }
      },
      "outputs": [
        {
          "output_type": "stream",
          "name": "stdout",
          "text": [
            "ln: failed to create symbolic link '/content/buckets/b1/labo1': File exists\n"
          ]
        },
        {
          "output_type": "execute_result",
          "data": {
            "text/plain": []
          },
          "metadata": {},
          "execution_count": 2
        }
      ],
      "source": [
        "%%shell\n",
        "\n",
        "mkdir -p \"/content/.drive/My Drive/labo1\"\n",
        "mkdir -p \"/content/buckets\"\n",
        "ln -s \"/content/.drive/My Drive/labo1\" /content/buckets/b1\n",
        "\n",
        "mkdir -p ~/.kaggle\n",
        "cp /content/buckets/b1/kaggle/kaggle.json  ~/.kaggle\n",
        "chmod 600 ~/.kaggle/kaggle.json\n",
        "\n",
        "\n",
        "mkdir -p /content/buckets/b1/exp\n",
        "mkdir -p /content/buckets/b1/datasets\n",
        "mkdir -p /content/datasets\n",
        "\n",
        "\n",
        "\n",
        "archivo_origen=\"https://storage.googleapis.com/open-courses/austral2025-af91/dataset_pequeno.csv\"\n",
        "archivo_destino=\"/content/datasets/dataset_pequeno.csv\"\n",
        "archivo_destino_bucket=\"/content/buckets/b1/datasets/dataset_pequeno.csv\"\n",
        "\n",
        "if ! test -f $archivo_destino_bucket; then\n",
        "  wget  $archivo_origen  -O $archivo_destino_bucket\n",
        "fi\n",
        "\n",
        "\n",
        "if ! test -f $archivo_destino; then\n",
        "  cp  $archivo_destino_bucket  $archivo_destino\n",
        "fi\n"
      ]
    },
    {
      "cell_type": "markdown",
      "source": [
        "### 4.07  LightGBM, una corrida"
      ],
      "metadata": {
        "id": "oSKhZRToy2F7"
      }
    },
    {
      "cell_type": "markdown",
      "metadata": {
        "id": "eSU5vi00CPRS"
      },
      "source": [
        "Esta parte se debe correr con el runtime en lenguaje **R** Ir al menu, Runtime -> Change Runtime Type -> Runtime type -> R"
      ]
    },
    {
      "cell_type": "markdown",
      "metadata": {
        "id": "Zq8dySimCPRT"
      },
      "source": [
        "limpio el ambiente de R"
      ]
    },
    {
      "cell_type": "code",
      "source": [
        "format(Sys.time(), \"%a %b %d %X %Y\")"
      ],
      "metadata": {
        "id": "Tjda_YGOXaPw",
        "outputId": "2dadaf1e-2d3c-4d46-9aa1-52324bae41db",
        "colab": {
          "base_uri": "https://localhost:8080/",
          "height": 34
        }
      },
      "execution_count": 1,
      "outputs": [
        {
          "output_type": "display_data",
          "data": {
            "text/html": [
              "'Wed Oct 29 12:19:52 AM 2025'"
            ],
            "text/markdown": "'Wed Oct 29 12:19:52 AM 2025'",
            "text/latex": "'Wed Oct 29 12:19:52 AM 2025'",
            "text/plain": [
              "[1] \"Wed Oct 29 12:19:52 AM 2025\""
            ]
          },
          "metadata": {}
        }
      ]
    },
    {
      "cell_type": "code",
      "execution_count": 2,
      "metadata": {
        "id": "1iE0U4_WCPRT",
        "outputId": "c534ba3c-fb6c-4e93-bc6f-83ce7e48319a",
        "colab": {
          "base_uri": "https://localhost:8080/",
          "height": 129
        }
      },
      "outputs": [
        {
          "output_type": "display_data",
          "data": {
            "text/html": [
              "<table class=\"dataframe\">\n",
              "<caption>A matrix: 2 × 6 of type dbl</caption>\n",
              "<thead>\n",
              "\t<tr><th></th><th scope=col>used</th><th scope=col>(Mb)</th><th scope=col>gc trigger</th><th scope=col>(Mb)</th><th scope=col>max used</th><th scope=col>(Mb)</th></tr>\n",
              "</thead>\n",
              "<tbody>\n",
              "\t<tr><th scope=row>Ncells</th><td> 660468</td><td>35.3</td><td>1454482</td><td>77.7</td><td>1438471</td><td>76.9</td></tr>\n",
              "\t<tr><th scope=row>Vcells</th><td>1226772</td><td> 9.4</td><td>8388608</td><td>64.0</td><td>1975128</td><td>15.1</td></tr>\n",
              "</tbody>\n",
              "</table>\n"
            ],
            "text/markdown": "\nA matrix: 2 × 6 of type dbl\n\n| <!--/--> | used | (Mb) | gc trigger | (Mb) | max used | (Mb) |\n|---|---|---|---|---|---|---|\n| Ncells |  660468 | 35.3 | 1454482 | 77.7 | 1438471 | 76.9 |\n| Vcells | 1226772 |  9.4 | 8388608 | 64.0 | 1975128 | 15.1 |\n\n",
            "text/latex": "A matrix: 2 × 6 of type dbl\n\\begin{tabular}{r|llllll}\n  & used & (Mb) & gc trigger & (Mb) & max used & (Mb)\\\\\n\\hline\n\tNcells &  660468 & 35.3 & 1454482 & 77.7 & 1438471 & 76.9\\\\\n\tVcells & 1226772 &  9.4 & 8388608 & 64.0 & 1975128 & 15.1\\\\\n\\end{tabular}\n",
            "text/plain": [
              "       used    (Mb) gc trigger (Mb) max used (Mb)\n",
              "Ncells  660468 35.3 1454482    77.7 1438471  76.9\n",
              "Vcells 1226772  9.4 8388608    64.0 1975128  15.1"
            ]
          },
          "metadata": {}
        }
      ],
      "source": [
        "# limpio la memoria\n",
        "rm(list=ls(all.names=TRUE)) # remove all objects\n",
        "gc(full=TRUE, verbose=FALSE) # garbage collection"
      ]
    },
    {
      "cell_type": "code",
      "execution_count": 3,
      "metadata": {
        "id": "BJDwdD0dCPRU",
        "outputId": "2aabd4d8-7404-4e07-bf17-d28b4b5b8abc",
        "colab": {
          "base_uri": "https://localhost:8080/"
        }
      },
      "outputs": [
        {
          "output_type": "stream",
          "name": "stderr",
          "text": [
            "Loading required package: data.table\n",
            "\n",
            "Loading required package: rpart\n",
            "\n",
            "Loading required package: rlist\n",
            "\n",
            "Warning message in library(package, lib.loc = lib.loc, character.only = TRUE, logical.return = TRUE, :\n",
            "“there is no package called ‘rlist’”\n",
            "Installing package into ‘/usr/local/lib/R/site-library’\n",
            "(as ‘lib’ is unspecified)\n",
            "\n",
            "also installing the dependency ‘XML’\n",
            "\n",
            "\n",
            "Loading required package: rlist\n",
            "\n",
            "Loading required package: lightgbm\n",
            "\n",
            "Warning message in library(package, lib.loc = lib.loc, character.only = TRUE, logical.return = TRUE, :\n",
            "“there is no package called ‘lightgbm’”\n",
            "Installing package into ‘/usr/local/lib/R/site-library’\n",
            "(as ‘lib’ is unspecified)\n",
            "\n",
            "Loading required package: lightgbm\n",
            "\n"
          ]
        }
      ],
      "source": [
        "# cargo las librerias que necesito\n",
        "require(\"data.table\")\n",
        "require(\"rpart\")\n",
        "\n",
        "if( !require(\"rlist\") ) install.packages(\"rlist\")\n",
        "require(\"rlist\")\n",
        "\n",
        "if( !require(\"lightgbm\") ) install.packages(\"lightgbm\")\n",
        "require(\"lightgbm\")"
      ]
    },
    {
      "cell_type": "markdown",
      "source": [
        "Aqui debe cargar SU semilla primigenia"
      ],
      "metadata": {
        "id": "M8-Pyp6CCPRU"
      }
    },
    {
      "cell_type": "code",
      "source": [
        "PARAM <- list()\n",
        "PARAM$experimento <- 4070\n",
        "PARAM$semilla_primigenia <- 523519\n",
        "\n",
        "# estos hiperparametros de LightGBM surgieron de una Bayesian Optimization\n",
        "PARAM$lgb$num_iterations <- 1000  # cantidad de arbolitos\n",
        "PARAM$lgb$learning_rate <- 0.027\n",
        "PARAM$lgb$feature_fraction <- 0.8\n",
        "PARAM$lgb$min_data_in_leaf <- 76\n",
        "PARAM$lgb$num_leaves <- 8\n",
        "PARAM$lgb$max_bin <- 31\n"
      ],
      "metadata": {
        "id": "peRH7ySLCPRV"
      },
      "execution_count": 4,
      "outputs": []
    },
    {
      "cell_type": "code",
      "source": [
        "# carpeta de trabajo\n",
        "setwd(\"/content/buckets/b1/exp\")\n",
        "experimento_folder <- paste0(\"KA\", PARAM$experimento)\n",
        "dir.create(experimento_folder, showWarnings=FALSE)\n",
        "setwd( paste0(\"/content/buckets/b1/exp/\", experimento_folder ))"
      ],
      "metadata": {
        "id": "1gZD6ZMvCPRV"
      },
      "execution_count": 5,
      "outputs": []
    },
    {
      "cell_type": "code",
      "source": [
        "# lectura del dataset\n",
        "dataset <- fread(\"/content/datasets/dataset_pequeno.csv\", stringsAsFactors= TRUE)"
      ],
      "metadata": {
        "id": "Xi0emX2ECPRV"
      },
      "execution_count": 6,
      "outputs": []
    },
    {
      "cell_type": "code",
      "source": [
        "# paso la clase a binaria\n",
        "\n",
        "dataset[, clase01 := ifelse(clase_ternaria %in% c(\"BAJA+2\"), 1L, 0L)]"
      ],
      "metadata": {
        "id": "-3XuBeDy1Ugj"
      },
      "execution_count": 7,
      "outputs": []
    },
    {
      "cell_type": "code",
      "source": [
        "# los campos que se van a utilizar\n",
        "\n",
        "campos_buenos <- setdiff(colnames(dataset), c(\"clase_ternaria\", \"clase01\"))"
      ],
      "metadata": {
        "id": "h8Anoo4Sel8S"
      },
      "execution_count": 8,
      "outputs": []
    },
    {
      "cell_type": "code",
      "source": [
        "# establezco donde entreno\n",
        "\n",
        "dataset[, train := 0L]\n",
        "dataset[foto_mes %in% c(202107), train := 1L]"
      ],
      "metadata": {
        "id": "RA3cSJ6KaGwA"
      },
      "execution_count": 9,
      "outputs": []
    },
    {
      "cell_type": "code",
      "source": [
        "# dejo los datos en el formato que necesita LightGBM\n",
        "\n",
        "dtrain <- lgb.Dataset(\n",
        "  data= data.matrix(dataset[train == 1L, campos_buenos, with= FALSE]),\n",
        "  label= dataset[train == 1L, clase01]\n",
        ")"
      ],
      "metadata": {
        "id": "T6Zr06HB1kMU"
      },
      "execution_count": 10,
      "outputs": []
    },
    {
      "cell_type": "code",
      "source": [
        "# genero el modelo\n",
        "# estos hiperparametros  salieron de una laaarga Optmizacion Bayesiana\n",
        "\n",
        "set.seed(PARAM$semilla_primigenia, kind = \"L'Ecuyer-CMRG\") # Establezco la semilla aleatoria\n",
        "\n",
        "modelo <- lgb.train(\n",
        "  data= dtrain,\n",
        "  param= list(\n",
        "    objective= \"binary\",\n",
        "    max_bin= PARAM$lgb$max_bin,\n",
        "    learning_rate= PARAM$lgb$learning_rate,\n",
        "    num_iterations= PARAM$lgb$num_iterations,\n",
        "    num_leaves= PARAM$lgb$num_leaves,\n",
        "    min_data_in_leaf= PARAM$lgb$min_data_in_leaf,\n",
        "    feature_fraction= PARAM$lgb$feature_fraction,\n",
        "    seed= PARAM$semilla_primigenia\n",
        "  )\n",
        ")\n"
      ],
      "metadata": {
        "id": "TI9_5pii2zCF",
        "outputId": "47e08066-b260-46e2-eab4-37684325b1ee",
        "colab": {
          "base_uri": "https://localhost:8080/"
        }
      },
      "execution_count": 11,
      "outputs": [
        {
          "output_type": "stream",
          "name": "stdout",
          "text": [
            "[LightGBM] [Info] Number of positive: 1248, number of negative: 163348\n",
            "[LightGBM] [Info] Auto-choosing row-wise multi-threading, the overhead of testing was 0.137350 seconds.\n",
            "You can set `force_row_wise=true` to remove the overhead.\n",
            "And if memory is not enough, you can set `force_col_wise=true`.\n",
            "[LightGBM] [Info] Total Bins 3612\n",
            "[LightGBM] [Info] Number of data points in the train set: 164596, number of used features: 153\n",
            "[LightGBM] [Info] [binary:BoostFromScore]: pavg=0.007582 -> initscore=-4.874341\n",
            "[LightGBM] [Info] Start training from score -4.874341\n"
          ]
        }
      ]
    },
    {
      "cell_type": "code",
      "source": [
        "# ahora imprimo la importancia de variables\n",
        "tb_importancia <- as.data.table(lgb.importance(modelo))\n",
        "archivo_importancia <- \"impo.txt\"\n",
        "\n",
        "fwrite(tb_importancia,\n",
        "  file= archivo_importancia,\n",
        "  sep= \"\\t\"\n",
        ")\n"
      ],
      "metadata": {
        "id": "69QcMsSkg9d-"
      },
      "execution_count": 12,
      "outputs": []
    },
    {
      "cell_type": "code",
      "source": [
        "# grabo a disco el modelo en un formato para seres humanos ... ponele ...\n",
        "\n",
        "lgb.save(modelo, \"modelo.txt\" )"
      ],
      "metadata": {
        "id": "lauiNeQDg-XP"
      },
      "execution_count": 13,
      "outputs": []
    },
    {
      "cell_type": "code",
      "source": [
        "# aplico el modelo a los datos sin clase\n",
        "dfuture <- dataset[foto_mes == 202109]\n",
        "\n",
        "# aplico el modelo a los datos nuevos\n",
        "prediccion <- predict(\n",
        "  modelo,\n",
        "  data.matrix(dfuture[, campos_buenos, with= FALSE])\n",
        ")\n"
      ],
      "metadata": {
        "id": "VQhEcNmBhF7u"
      },
      "execution_count": 14,
      "outputs": []
    },
    {
      "cell_type": "code",
      "source": [
        "# tabla de prediccion\n",
        "\n",
        "tb_prediccion <- dfuture[, list(numero_de_cliente)]\n",
        "tb_prediccion[, prob := prediccion ]\n",
        "\n",
        "# grabo las probabilidad del modelo\n",
        "fwrite(tb_prediccion,\n",
        "  file= \"prediccion.txt\",\n",
        "  sep= \"\\t\"\n",
        ")"
      ],
      "metadata": {
        "id": "Z5LYpStThlIC"
      },
      "execution_count": 15,
      "outputs": []
    },
    {
      "cell_type": "code",
      "source": [
        "# subidas a Kaggle\n",
        "# ordeno por probabilidad descendente\n",
        "\n",
        "setorder(tb_prediccion, -prob)"
      ],
      "metadata": {
        "id": "vSopCODCh6kL"
      },
      "execution_count": 16,
      "outputs": []
    },
    {
      "cell_type": "code",
      "source": [
        "# genero la prediccion y subo a Kaggle\n",
        "\n",
        "tb_prediccion[, Predicted := 0L]\n",
        "tb_prediccion[prob>(1/40), Predicted := 1L]\n",
        "\n",
        "archivo_kaggle <- paste0(\"KA\", PARAM$experimento, \".csv\")\n",
        "\n",
        "# grabo el archivo\n",
        "fwrite(tb_prediccion[, list(numero_de_cliente, Predicted)],\n",
        "  file= archivo_kaggle,\n",
        "  sep= \",\"\n",
        ")\n",
        "\n",
        "# subida a Kaggle\n",
        "comando <- \"kaggle competitions submit\"\n",
        "competencia <- \"-c labo-i-2025-virtual-analista-sr\"\n",
        "arch <- paste( \"-f\", archivo_kaggle)\n",
        "\n",
        "mensaje <- paste0(\"-m 'num_iterations=\", PARAM$lgb$num_iterations,\n",
        "  \"  learning_rate=\", PARAM$lgb$learning_rate,\n",
        "  \"  feature_fraction=\", PARAM$lgb$feature_fraction,\n",
        "  \"  min_data_in_leaf=\", PARAM$lgb$min_data_in_leaf,\n",
        "  \"  num_leaves=\",PARAM$lgb$num_leaves,\n",
        "  \"  max_bin=\", PARAM$lgb$max_bin,\n",
        "\"'\" )\n",
        "\n",
        "linea <- paste( comando, competencia, arch, mensaje)\n",
        "salida <- system(linea, intern=TRUE)\n",
        "cat(salida)"
      ],
      "metadata": {
        "id": "pmxc2Z0fpJAZ",
        "outputId": "4ab76a87-cf44-4a6d-c678-9badb31b149d",
        "colab": {
          "base_uri": "https://localhost:8080/"
        }
      },
      "execution_count": 17,
      "outputs": [
        {
          "output_type": "stream",
          "name": "stdout",
          "text": [
            "Successfully submitted to LaboI 2025 virtual analista sr"
          ]
        }
      ]
    },
    {
      "cell_type": "code",
      "source": [
        "format(Sys.time(), \"%a %b %d %X %Y\")"
      ],
      "metadata": {
        "id": "PK3QGWJsXk_k",
        "outputId": "41a6a5ba-7a39-4c3c-8d57-44bf9fabe5d2",
        "colab": {
          "base_uri": "https://localhost:8080/",
          "height": 34
        }
      },
      "execution_count": 18,
      "outputs": [
        {
          "output_type": "display_data",
          "data": {
            "text/html": [
              "'Wed Oct 29 12:29:04 AM 2025'"
            ],
            "text/markdown": "'Wed Oct 29 12:29:04 AM 2025'",
            "text/latex": "'Wed Oct 29 12:29:04 AM 2025'",
            "text/plain": [
              "[1] \"Wed Oct 29 12:29:04 AM 2025\""
            ]
          },
          "metadata": {}
        }
      ]
    },
    {
      "cell_type": "markdown",
      "metadata": {
        "id": "UMr6Z1enOyd3"
      },
      "source": [
        "\n",
        "\n",
        "---\n",
        "\n"
      ]
    },
    {
      "cell_type": "markdown",
      "source": [
        "### 4.08  LightGBM  optimizacion de hiperparámetros"
      ],
      "metadata": {
        "id": "lO4QwOEU-xPe"
      }
    },
    {
      "cell_type": "markdown",
      "source": [
        "La optimizacion de los hiperparámetros de LightGBM mediante el método de optimizacion bayesiana será su *caballito de batalla* durante la asignatura !"
      ],
      "metadata": {
        "id": "75FU3LjSF2uN"
      }
    },
    {
      "cell_type": "markdown",
      "metadata": {
        "id": "aJBO5Dcb_B7s"
      },
      "source": [
        "limpio el ambiente de R"
      ]
    },
    {
      "cell_type": "code",
      "source": [
        "format(Sys.time(), \"%a %b %d %X %Y\")"
      ],
      "metadata": {
        "id": "2CeMTfCuX3bH",
        "outputId": "2e5dcb2d-88a5-4743-e7e4-dfeb5cdd8cd7",
        "colab": {
          "base_uri": "https://localhost:8080/",
          "height": 34
        }
      },
      "execution_count": 19,
      "outputs": [
        {
          "output_type": "display_data",
          "data": {
            "text/html": [
              "'Wed Oct 29 12:35:40 AM 2025'"
            ],
            "text/markdown": "'Wed Oct 29 12:35:40 AM 2025'",
            "text/latex": "'Wed Oct 29 12:35:40 AM 2025'",
            "text/plain": [
              "[1] \"Wed Oct 29 12:35:40 AM 2025\""
            ]
          },
          "metadata": {}
        }
      ]
    },
    {
      "cell_type": "code",
      "execution_count": 20,
      "metadata": {
        "id": "HPKFI6yP_B7s",
        "outputId": "8cb8aaba-0aa7-41cf-cb91-d14ab0082065",
        "colab": {
          "base_uri": "https://localhost:8080/",
          "height": 129
        }
      },
      "outputs": [
        {
          "output_type": "display_data",
          "data": {
            "text/html": [
              "<table class=\"dataframe\">\n",
              "<caption>A matrix: 2 × 6 of type dbl</caption>\n",
              "<thead>\n",
              "\t<tr><th></th><th scope=col>used</th><th scope=col>(Mb)</th><th scope=col>gc trigger</th><th scope=col>(Mb)</th><th scope=col>max used</th><th scope=col>(Mb)</th></tr>\n",
              "</thead>\n",
              "<tbody>\n",
              "\t<tr><th scope=row>Ncells</th><td>1849446</td><td>98.8</td><td>  3776381</td><td>201.7</td><td>  3776381</td><td> 201.7</td></tr>\n",
              "\t<tr><th scope=row>Vcells</th><td>3564952</td><td>27.2</td><td>116547804</td><td>889.2</td><td>135599276</td><td>1034.6</td></tr>\n",
              "</tbody>\n",
              "</table>\n"
            ],
            "text/markdown": "\nA matrix: 2 × 6 of type dbl\n\n| <!--/--> | used | (Mb) | gc trigger | (Mb) | max used | (Mb) |\n|---|---|---|---|---|---|---|\n| Ncells | 1849446 | 98.8 |   3776381 | 201.7 |   3776381 |  201.7 |\n| Vcells | 3564952 | 27.2 | 116547804 | 889.2 | 135599276 | 1034.6 |\n\n",
            "text/latex": "A matrix: 2 × 6 of type dbl\n\\begin{tabular}{r|llllll}\n  & used & (Mb) & gc trigger & (Mb) & max used & (Mb)\\\\\n\\hline\n\tNcells & 1849446 & 98.8 &   3776381 & 201.7 &   3776381 &  201.7\\\\\n\tVcells & 3564952 & 27.2 & 116547804 & 889.2 & 135599276 & 1034.6\\\\\n\\end{tabular}\n",
            "text/plain": [
              "       used    (Mb) gc trigger (Mb)  max used  (Mb)  \n",
              "Ncells 1849446 98.8   3776381  201.7   3776381  201.7\n",
              "Vcells 3564952 27.2 116547804  889.2 135599276 1034.6"
            ]
          },
          "metadata": {}
        }
      ],
      "source": [
        "# limpio la memoria\n",
        "rm(list=ls(all.names=TRUE)) # remove all objects\n",
        "gc(full=TRUE, verbose=FALSE) # garbage collection"
      ]
    },
    {
      "cell_type": "code",
      "execution_count": 23,
      "metadata": {
        "id": "B6X8U6XF_B7t",
        "outputId": "0666f6e9-f822-4c61-d7d3-9907bb46409f",
        "colab": {
          "base_uri": "https://localhost:8080/"
        }
      },
      "outputs": [
        {
          "output_type": "stream",
          "name": "stderr",
          "text": [
            "Loading required package: primes\n",
            "\n",
            "Warning message in library(package, lib.loc = lib.loc, character.only = TRUE, logical.return = TRUE, :\n",
            "“there is no package called ‘primes’”\n",
            "Installing package into ‘/usr/local/lib/R/site-library’\n",
            "(as ‘lib’ is unspecified)\n",
            "\n",
            "Loading required package: primes\n",
            "\n",
            "Loading required package: mlrMBO\n",
            "\n",
            "Warning message in library(package, lib.loc = lib.loc, character.only = TRUE, logical.return = TRUE, :\n",
            "“there is no package called ‘mlrMBO’”\n",
            "Installing package into ‘/usr/local/lib/R/site-library’\n",
            "(as ‘lib’ is unspecified)\n",
            "\n",
            "also installing the dependencies ‘fastmatch’, ‘mlr’, ‘ParamHelpers’, ‘smoof’\n",
            "\n",
            "\n",
            "Loading required package: mlrMBO\n",
            "\n",
            "Loading required package: mlr\n",
            "\n",
            "Loading required package: ParamHelpers\n",
            "\n",
            "Loading required package: smoof\n",
            "\n",
            "Loading required package: checkmate\n",
            "\n",
            "\n",
            "Attaching package: ‘checkmate’\n",
            "\n",
            "\n",
            "The following object is masked from ‘package:DiceKriging’:\n",
            "\n",
            "    checkNames\n",
            "\n",
            "\n"
          ]
        }
      ],
      "source": [
        "# cargo las librerias que necesito\n",
        "require(\"data.table\")\n",
        "require(\"rpart\")\n",
        "require(\"parallel\")\n",
        "\n",
        "if( !require(\"primes\") ) install.packages(\"primes\")\n",
        "require(\"primes\")\n",
        "\n",
        "if( !require(\"rlist\") ) install.packages(\"rlist\")\n",
        "require(\"rlist\")\n",
        "\n",
        "if( !require(\"lightgbm\") ) install.packages(\"lightgbm\")\n",
        "require(\"lightgbm\")\n",
        "\n",
        "if( !require(\"DiceKriging\") ) install.packages(\"DiceKriging\")\n",
        "require(\"DiceKriging\")\n",
        "\n",
        "if( !require(\"mlrMBO\") ) install.packages(\"mlrMBO\")\n",
        "require(\"mlrMBO\")\n"
      ]
    },
    {
      "cell_type": "markdown",
      "source": [
        "Aqui debe cargar SU semilla primigenia"
      ],
      "metadata": {
        "id": "_qZHeAHdCJQ2"
      }
    },
    {
      "cell_type": "code",
      "source": [
        "PARAM <- list()\n",
        "PARAM$experimento <- 4080\n",
        "PARAM$semilla_primigenia <- 523519\n",
        "\n",
        "# un undersampling de 0.1  toma solo el 10% de los CONTINUA\n",
        "# undersampling de 1.0  implica tomar TODOS los datos\n",
        "PARAM$trainingstrategy$undersampling <- 1.0\n",
        "\n",
        "PARAM$hyperparametertuning$iteraciones <- 30 # iteracines bayesianas\n",
        "\n",
        "PARAM$hyperparametertuning$xval_folds <- 5\n",
        "\n",
        "# parametros fijos del LightGBM\n",
        "PARAM$lgbm$param_fijos <- list(\n",
        "  objective= \"binary\",\n",
        "  metric= \"auc\",\n",
        "  first_metric_only= TRUE,\n",
        "  boost_from_average= TRUE,\n",
        "  feature_pre_filter= FALSE,\n",
        "  verbosity= -100,\n",
        "  force_row_wise= TRUE, # para evitar warning\n",
        "  seed= PARAM$semilla_primigenia,\n",
        "  max_bin= 31,\n",
        "  num_iterations= 2048,  # valor grande, lo limita early_stopping_rounds\n",
        "  early_stopping_rounds= 200\n",
        ")\n",
        "\n",
        "# Aqui se cargan los bordes de los hiperparametros\n",
        "PARAM$hypeparametertuning$hs <- makeParamSet(\n",
        "  makeNumericParam(\"learning_rate\", lower= 0.01, upper= 0.3),\n",
        "  makeNumericParam(\"feature_fraction\", lower= 0.1, upper= 1.0),\n",
        "  makeIntegerParam(\"num_leaves\", lower= 8L, upper= 2048L),\n",
        "  makeIntegerParam(\"min_data_in_leaf\", lower= 1L, upper= 8000L)\n",
        ")"
      ],
      "metadata": {
        "id": "2y3Ai8F6CJQ2"
      },
      "execution_count": 24,
      "outputs": []
    },
    {
      "cell_type": "code",
      "source": [
        "# En el argumento x llegan los parmaetros de la bayesiana\n",
        "#  devuelve la AUC de cross validation del modelo entrenado\n",
        "\n",
        "EstimarGanancia_AUC_lightgbm <- function(x) {\n",
        "\n",
        "  message(format(Sys.time(), \"%a %b %d %X %Y\"))\n",
        "\n",
        "  # uno la lista de hiperparametros : fijos + variables\n",
        "  param_completo <- c(PARAM$lgbm$param_fijos, x)\n",
        "\n",
        "  # entreno LightGBM\n",
        "  modelocv <- lgb.cv(\n",
        "    data= dtrain,\n",
        "    nfold= PARAM$hyperparametertuning$xval_folds,\n",
        "    stratified= TRUE,\n",
        "    param= param_completo,\n",
        "    verbose= -100\n",
        "  )\n",
        "\n",
        "  # obtengo la ganancia\n",
        "  AUC <- modelocv$best_score\n",
        "\n",
        "  # esta es la forma de devolver un parametro extra\n",
        "  attr(AUC, \"extras\") <- list(\"num_iterations\"= modelocv$best_iter)\n",
        "\n",
        "  # hago espacio en la memoria\n",
        "  rm(modelocv)\n",
        "  gc(full= TRUE, verbose= FALSE)\n",
        "\n",
        "  message( \"AUC: \", AUC)\n",
        "  return(AUC)\n",
        "}"
      ],
      "metadata": {
        "id": "NnPKiCHuCwVo"
      },
      "execution_count": 25,
      "outputs": []
    },
    {
      "cell_type": "markdown",
      "source": [
        "aqui se inicia el programa"
      ],
      "metadata": {
        "id": "P7Pw1KLeE3UH"
      }
    },
    {
      "cell_type": "code",
      "source": [
        "# carpeta de trabajo\n",
        "\n",
        "setwd(\"/content/buckets/b1/exp\")\n",
        "experimento_folder <- paste0(\"HT\", PARAM$experimento)\n",
        "dir.create(experimento_folder, showWarnings=FALSE)\n",
        "setwd( paste0(\"/content/buckets/b1/exp/\", experimento_folder ))"
      ],
      "metadata": {
        "id": "w1lb19whCJQ3"
      },
      "execution_count": 26,
      "outputs": []
    },
    {
      "cell_type": "code",
      "source": [
        "# en este archivo quedan la evolucion binaria de la BO\n",
        "\n",
        "kbayesiana <- \"bayesiana.RDATA\""
      ],
      "metadata": {
        "id": "QvOokHUvuolF"
      },
      "execution_count": 27,
      "outputs": []
    },
    {
      "cell_type": "code",
      "source": [
        "# lectura del dataset\n",
        "\n",
        "dataset <- fread(\"/content/datasets/dataset_pequeno.csv\")"
      ],
      "metadata": {
        "id": "xcOJpoFvCJQ3"
      },
      "execution_count": 28,
      "outputs": []
    },
    {
      "cell_type": "code",
      "source": [
        "dataset <- dataset[foto_mes %in% c(202107)]"
      ],
      "metadata": {
        "id": "JorOk_A8EhSy"
      },
      "execution_count": 29,
      "outputs": []
    },
    {
      "cell_type": "code",
      "source": [
        "# paso la clase a binaria que tome valores {0,1}  enteros\n",
        "\n",
        "dataset[\n",
        "  foto_mes %in% c(202107),\n",
        "  clase01 := ifelse(clase_ternaria == \"BAJA+2\", 1L, 0L)\n",
        "]"
      ],
      "metadata": {
        "id": "JDg9xZVYrwvj"
      },
      "execution_count": 30,
      "outputs": []
    },
    {
      "cell_type": "code",
      "source": [
        "# los campos que se van a utilizar\n",
        "\n",
        "campos_buenos <- setdiff(\n",
        "  colnames(dataset),\n",
        "  c(\"clase_ternaria\", \"clase01\", \"azar\", \"training\")\n",
        ")\n"
      ],
      "metadata": {
        "id": "E68xpDYAr0nK"
      },
      "execution_count": 31,
      "outputs": []
    },
    {
      "cell_type": "code",
      "source": [
        "# defino los datos que forma parte del training\n",
        "# aqui se hace el undersampling de los CONTINUA\n",
        "# notar que para esto utilizo la SEGUNDA semilla\n",
        "\n",
        "set.seed(PARAM$semilla_primigenia, kind= \"L'Ecuyer-CMRG\")\n",
        "dataset[, azar := runif(nrow(dataset))]\n",
        "dataset[, training := 0L]\n",
        "\n",
        "dataset[\n",
        "  foto_mes %in% c(202107) &\n",
        "    (azar <= PARAM$trainingstrategy$undersampling | clase_ternaria %in% c(\"BAJA+1\", \"BAJA+2\")),\n",
        "  training := 1L\n",
        "]"
      ],
      "metadata": {
        "id": "G8zeYUfSr3GF"
      },
      "execution_count": 32,
      "outputs": []
    },
    {
      "cell_type": "code",
      "source": [
        "# dejo los datos en el formato que necesita LightGBM\n",
        "\n",
        "dtrain <- lgb.Dataset(\n",
        "  data= data.matrix(dataset[training == 1L, campos_buenos, with= FALSE]),\n",
        "  label= dataset[training == 1L, clase01],\n",
        "  free_raw_data= FALSE\n",
        ")\n",
        "\n",
        "nrow(dtrain)\n",
        "ncol(dtrain)"
      ],
      "metadata": {
        "id": "se8_aKuMr5CV",
        "outputId": "6179bf24-34db-4c6c-f6d2-f23bb97b4439",
        "colab": {
          "base_uri": "https://localhost:8080/",
          "height": 52
        }
      },
      "execution_count": 33,
      "outputs": [
        {
          "output_type": "display_data",
          "data": {
            "text/html": [
              "164596"
            ],
            "text/markdown": "164596",
            "text/latex": "164596",
            "text/plain": [
              "[1] 164596"
            ]
          },
          "metadata": {}
        },
        {
          "output_type": "display_data",
          "data": {
            "text/html": [
              "154"
            ],
            "text/markdown": "154",
            "text/latex": "154",
            "text/plain": [
              "[1] 154"
            ]
          },
          "metadata": {}
        }
      ]
    },
    {
      "cell_type": "code",
      "source": [
        "# Aqui comienza la configuracion de la Bayesian Optimization\n",
        "\n",
        "funcion_optimizar <- EstimarGanancia_AUC_lightgbm # la funcion que voy a maximizar\n",
        "\n",
        "configureMlr(show.learner.output= FALSE)\n",
        "\n",
        "# configuro la busqueda bayesiana,  los hiperparametros que se van a optimizar\n",
        "# por favor, no desesperarse por lo complejo\n",
        "\n",
        "obj.fun <- makeSingleObjectiveFunction(\n",
        "  fn= funcion_optimizar, # la funcion que voy a maximizar\n",
        "  minimize= FALSE, # estoy Maximizando la ganancia\n",
        "  noisy= TRUE,\n",
        "  par.set= PARAM$hypeparametertuning$hs, # definido al comienzo del programa\n",
        "  has.simple.signature= FALSE # paso los parametros en una lista\n",
        ")\n",
        "\n",
        "# cada 600 segundos guardo el resultado intermedio\n",
        "ctrl <- makeMBOControl(\n",
        "  save.on.disk.at.time= 600, # se graba cada 600 segundos\n",
        "  save.file.path= kbayesiana\n",
        ") # se graba cada 600 segundos\n",
        "\n",
        "# indico la cantidad de iteraciones que va a tener la Bayesian Optimization\n",
        "ctrl <- setMBOControlTermination(\n",
        "  ctrl,\n",
        "  iters= PARAM$hyperparametertuning$iteraciones\n",
        ") # cantidad de iteraciones\n",
        "\n",
        "# defino el método estandar para la creacion de los puntos iniciales,\n",
        "# los \"No Inteligentes\"\n",
        "ctrl <- setMBOControlInfill(ctrl, crit= makeMBOInfillCritEI())\n",
        "\n",
        "# establezco la funcion que busca el maximo\n",
        "surr.km <- makeLearner(\n",
        "  \"regr.km\",\n",
        "  predict.type= \"se\",\n",
        "  covtype= \"matern3_2\",\n",
        "  control= list(trace= TRUE)\n",
        ")\n"
      ],
      "metadata": {
        "id": "CsRYGGeN-1ID"
      },
      "execution_count": 34,
      "outputs": []
    },
    {
      "cell_type": "code",
      "source": [
        "# inicio la optimizacion bayesiana, retomando si ya existe\n",
        "\n",
        "if (!file.exists(kbayesiana)) {\n",
        "  bayesiana_salida <- mbo(obj.fun, learner= surr.km, control= ctrl)\n",
        "} else {\n",
        "  bayesiana_salida <- mboContinue(kbayesiana) # retomo en caso que ya exista\n",
        "}"
      ],
      "metadata": {
        "id": "TissqCCHD1uZ",
        "outputId": "68f92943-d734-44cf-f44a-aa1f4177af17",
        "colab": {
          "base_uri": "https://localhost:8080/"
        }
      },
      "execution_count": null,
      "outputs": [
        {
          "output_type": "stream",
          "name": "stderr",
          "text": [
            "Computing y column(s) for design. Not provided.\n",
            "\n",
            "Wed Oct 29 12:41:04 AM 2025\n",
            "\n",
            "AUC: 0.903561174587151\n",
            "\n",
            "Wed Oct 29 12:43:07 AM 2025\n",
            "\n",
            "AUC: 0.900285360550841\n",
            "\n",
            "Wed Oct 29 12:44:57 AM 2025\n",
            "\n",
            "AUC: 0.899690302344867\n",
            "\n",
            "Wed Oct 29 12:46:47 AM 2025\n",
            "\n",
            "AUC: 0.901109277651914\n",
            "\n",
            "Wed Oct 29 12:47:58 AM 2025\n",
            "\n",
            "AUC: 0.902214259952865\n",
            "\n",
            "Wed Oct 29 12:48:58 AM 2025\n",
            "\n",
            "AUC: 0.902859953653836\n",
            "\n",
            "Wed Oct 29 12:50:54 AM 2025\n",
            "\n",
            "AUC: 0.903480794119143\n",
            "\n",
            "Wed Oct 29 12:52:17 AM 2025\n",
            "\n",
            "AUC: 0.886361884471327\n",
            "\n",
            "Wed Oct 29 12:53:40 AM 2025\n",
            "\n",
            "AUC: 0.902388808781285\n",
            "\n",
            "Wed Oct 29 12:56:25 AM 2025\n",
            "\n",
            "AUC: 0.904414629649021\n",
            "\n",
            "Wed Oct 29 12:59:04 AM 2025\n",
            "\n",
            "AUC: 0.897162776597497\n",
            "\n",
            "Wed Oct 29 01:00:29 AM 2025\n",
            "\n",
            "AUC: 0.903098656869357\n",
            "\n",
            "Wed Oct 29 01:01:32 AM 2025\n",
            "\n",
            "AUC: 0.903804452978468\n",
            "\n",
            "Wed Oct 29 01:02:59 AM 2025\n",
            "\n",
            "AUC: 0.891634711115357\n",
            "\n",
            "Wed Oct 29 01:05:28 AM 2025\n",
            "\n",
            "AUC: 0.901661498502596\n",
            "\n",
            "Wed Oct 29 01:06:48 AM 2025\n",
            "\n",
            "AUC: 0.890191512645257\n",
            "\n",
            "[mbo] 0: learning_rate=0.0992; feature_fraction=0.554; num_leaves=1029; min_data_in_leaf=4629 : y = 0.904 : 123.0 secs : initdesign\n",
            "\n",
            "[mbo] 0: learning_rate=0.116; feature_fraction=0.413; num_leaves=769; min_data_in_leaf=1817 : y = 0.9 : 110.0 secs : initdesign\n",
            "\n",
            "[mbo] 0: learning_rate=0.215; feature_fraction=0.461; num_leaves=972; min_data_in_leaf=2130 : y = 0.9 : 110.0 secs : initdesign\n",
            "\n",
            "[mbo] 0: learning_rate=0.17; feature_fraction=0.847; num_leaves=1491; min_data_in_leaf=4280 : y = 0.901 : 71.0 secs : initdesign\n",
            "\n",
            "[mbo] 0: learning_rate=0.245; feature_fraction=0.76; num_leaves=2018; min_data_in_leaf=6780 : y = 0.902 : 60.3 secs : initdesign\n",
            "\n",
            "[mbo] 0: learning_rate=0.125; feature_fraction=0.502; num_leaves=836; min_data_in_leaf=5305 : y = 0.903 : 115.4 secs : initdesign\n",
            "\n",
            "[mbo] 0: learning_rate=0.0739; feature_fraction=0.614; num_leaves=1597; min_data_in_leaf=7524 : y = 0.903 : 83.7 secs : initdesign\n",
            "\n",
            "[mbo] 0: learning_rate=0.297; feature_fraction=0.108; num_leaves=237; min_data_in_leaf=1453 : y = 0.886 : 82.8 secs : initdesign\n",
            "\n",
            "[mbo] 0: learning_rate=0.0149; feature_fraction=0.93; num_leaves=105; min_data_in_leaf=2912 : y = 0.902 : 165.4 secs : initdesign\n",
            "\n",
            "[mbo] 0: learning_rate=0.0398; feature_fraction=0.348; num_leaves=284; min_data_in_leaf=5621 : y = 0.904 : 158.1 secs : initdesign\n",
            "\n",
            "[mbo] 0: learning_rate=0.278; feature_fraction=0.323; num_leaves=1769; min_data_in_leaf=3030 : y = 0.897 : 85.5 secs : initdesign\n",
            "\n",
            "[mbo] 0: learning_rate=0.199; feature_fraction=0.778; num_leaves=477; min_data_in_leaf=6146 : y = 0.903 : 63.4 secs : initdesign\n",
            "\n",
            "[mbo] 0: learning_rate=0.0621; feature_fraction=0.671; num_leaves=1823; min_data_in_leaf=3715 : y = 0.904 : 86.8 secs : initdesign\n",
            "\n",
            "[mbo] 0: learning_rate=0.14; feature_fraction=0.251; num_leaves=541; min_data_in_leaf=164 : y = 0.892 : 149.1 secs : initdesign\n",
            "\n",
            "[mbo] 0: learning_rate=0.186; feature_fraction=0.203; num_leaves=1278; min_data_in_leaf=7381 : y = 0.902 : 79.5 secs : initdesign\n",
            "\n",
            "[mbo] 0: learning_rate=0.253; feature_fraction=0.955; num_leaves=1342; min_data_in_leaf=831 : y = 0.89 : 123.7 secs : initdesign\n",
            "\n",
            "Saved the current state after iteration 1 in the file bayesiana.RDATA.\n",
            "\n",
            "Wed Oct 29 01:08:52 AM 2025\n",
            "\n",
            "AUC: 0.903665455606267\n",
            "\n",
            "[mbo] 1: learning_rate=0.01; feature_fraction=0.609; num_leaves=268; min_data_in_leaf=3531 : y = 0.904 : 313.1 secs : infill_ei\n",
            "\n",
            "Wed Oct 29 01:14:06 AM 2025\n",
            "\n",
            "AUC: 0.90557192868557\n",
            "\n",
            "[mbo] 2: learning_rate=0.0111; feature_fraction=0.715; num_leaves=880; min_data_in_leaf=6324 : y = 0.906 : 307.4 secs : infill_ei\n",
            "\n",
            "Saved the current state after iteration 3 in the file bayesiana.RDATA.\n",
            "\n",
            "Wed Oct 29 01:19:14 AM 2025\n",
            "\n",
            "AUC: 0.906037834192491\n",
            "\n",
            "[mbo] 3: learning_rate=0.0101; feature_fraction=0.349; num_leaves=1185; min_data_in_leaf=7999 : y = 0.906 : 410.2 secs : infill_ei\n",
            "\n",
            "Wed Oct 29 01:26:04 AM 2025\n",
            "\n",
            "AUC: 0.90432301314007\n",
            "\n",
            "[mbo] 4: learning_rate=0.01; feature_fraction=0.918; num_leaves=8; min_data_in_leaf=7543 : y = 0.904 : 258.5 secs : infill_ei\n",
            "\n",
            "Saved the current state after iteration 5 in the file bayesiana.RDATA.\n",
            "\n",
            "Wed Oct 29 01:30:23 AM 2025\n",
            "\n",
            "AUC: 0.904980438190562\n",
            "\n",
            "[mbo] 5: learning_rate=0.0103; feature_fraction=0.789; num_leaves=8; min_data_in_leaf=5620 : y = 0.905 : 263.3 secs : infill_ei\n",
            "\n",
            "Wed Oct 29 01:34:47 AM 2025\n",
            "\n"
          ]
        }
      ]
    },
    {
      "cell_type": "code",
      "source": [
        "# almaceno los resultados de la Bayesian Optimization\n",
        "# y capturo los mejores hiperparametros encontrados\n",
        "\n",
        "tb_bayesiana <- as.data.table(bayesiana_salida$opt.path)\n",
        "\n",
        "tb_bayesiana[, iter:= .I]\n",
        "# ordeno en forma descendente por AUC = y\n",
        "setorder(tb_bayesiana, -y, -num_iterations)\n",
        "\n",
        "# grabo para eventualmente poder utilizarlos en OTRA corrida\n",
        "fwrite( tb_bayesiana,\n",
        "  file= \"BO_log.txt\",\n",
        "  sep= \"\\t\"\n",
        ")\n",
        "\n",
        "# los mejores hiperparámetros son los que quedaron en el registro 1 de la tabla\n",
        "PARAM$out$lgbm$mejores_hiperparametros <- tb_bayesiana[\n",
        "  1, # el primero es el de mejor AUC\n",
        "  list(learning_rate, feature_fraction, num_leaves, min_data_in_leaf, num_iterations)\n",
        "]\n",
        "\n",
        "print(PARAM$out$lgbm$mejores_hiperparametros)"
      ],
      "metadata": {
        "id": "aC-ls8JfNDTf"
      },
      "execution_count": null,
      "outputs": []
    },
    {
      "cell_type": "code",
      "source": [
        "format(Sys.time(), \"%a %b %d %X %Y\")"
      ],
      "metadata": {
        "id": "5dPpsZpcX6e8"
      },
      "execution_count": null,
      "outputs": []
    },
    {
      "cell_type": "markdown",
      "metadata": {
        "id": "0vu-1vf5LrVg"
      },
      "source": [
        "\n",
        "\n",
        "---\n",
        "\n"
      ]
    }
  ]
}