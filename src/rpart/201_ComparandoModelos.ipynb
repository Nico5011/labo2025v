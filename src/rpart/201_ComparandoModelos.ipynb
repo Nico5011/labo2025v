{
  "nbformat": 4,
  "nbformat_minor": 0,
  "metadata": {
    "colab": {
      "provenance": [],
      "include_colab_link": true
    },
    "kernelspec": {
      "name": "ir",
      "display_name": "R"
    },
    "language_info": {
      "name": "R"
    }
  },
  "cells": [
    {
      "cell_type": "markdown",
      "metadata": {
        "id": "view-in-github",
        "colab_type": "text"
      },
      "source": [
        "<a href=\"https://colab.research.google.com/github/Nico5011/labo2025v/blob/main/src/rpart/201_ComparandoModelos.ipynb\" target=\"_parent\"><img src=\"https://colab.research.google.com/assets/colab-badge.svg\" alt=\"Open In Colab\"/></a>"
      ]
    },
    {
      "cell_type": "markdown",
      "source": [
        "# Comparando Modelos"
      ],
      "metadata": {
        "id": "5DrvzQ9BsXmX"
      }
    },
    {
      "cell_type": "markdown",
      "source": [
        "Estamos en la  Clase 02\n",
        "<br> El objetivo de la materia es lograr la mejor predicción para nuestro probleama, para lo que se probarán pipelines con decenas de alternativas, será indispensable comparar varios modelos predictivos entre sí y decidir cual es el mejor\n",
        "<br> La tarea no es tan sencilla"
      ],
      "metadata": {
        "id": "Y2U9lu16sgta"
      }
    },
    {
      "cell_type": "markdown",
      "source": [
        "## Seteo del ambiente en Google Colab"
      ],
      "metadata": {
        "id": "kmLygy1TYPfg"
      }
    },
    {
      "cell_type": "markdown",
      "source": [
        "Esta parte se debe correr con el runtime en Python3\n",
        "<br>Ir al menu, Runtime -> Change Runtime Tipe -> Runtime type ->  **Python 3**"
      ],
      "metadata": {
        "id": "OikOm5K2YU3X"
      }
    },
    {
      "cell_type": "markdown",
      "source": [
        "Conectar la virtual machine donde esta corriendo Google Colab con el  Google Drive, para poder tener persistencia de archivos"
      ],
      "metadata": {
        "id": "4fmV5LyZdFyI"
      }
    },
    {
      "cell_type": "code",
      "source": [
        "# primero establecer el Runtime de Python 3\n",
        "from google.colab import drive\n",
        "drive.mount('/content/.drive')"
      ],
      "metadata": {
        "id": "ilEZ-bE2VybW"
      },
      "execution_count": null,
      "outputs": []
    },
    {
      "cell_type": "markdown",
      "source": [
        "Para correr la siguiente celda es fundamental en Arranque en Frio haber copiado el archivo kaggle.json al Google Drive, en la carpeta indicada en el instructivo\n",
        "\n",
        "<br>los siguientes comando estan en shell script de Linux\n",
        "*   Crear las carpetas en el Google Drive\n",
        "*   \"instalar\" el archivo kaggle.json desde el Google Drive a la virtual machine para que pueda ser utilizado por la libreria  kaggle de Python\n",
        "*   Bajar el  **dataset_pequeno**  al  Google Drive  y tambien al disco local de la virtual machine que esta corriendo Google Colab\n",
        "\n"
      ],
      "metadata": {
        "id": "ilaKtqWldeWg"
      }
    },
    {
      "cell_type": "code",
      "source": [
        "%%shell\n",
        "\n",
        "mkdir -p \"/content/.drive/My Drive/labo1\"\n",
        "mkdir -p \"/content/buckets\"\n",
        "ln -s \"/content/.drive/My Drive/labo1\" /content/buckets/b1\n",
        "\n",
        "mkdir -p ~/.kaggle\n",
        "cp /content/buckets/b1/kaggle/kaggle.json  ~/.kaggle\n",
        "chmod 600 ~/.kaggle/kaggle.json\n",
        "\n",
        "\n",
        "mkdir -p /content/buckets/b1/exp\n",
        "mkdir -p /content/buckets/b1/datasets\n",
        "mkdir -p /content/datasets\n",
        "\n",
        "\n",
        "\n",
        "archivo_origen=\"https://storage.googleapis.com/open-courses/austral2025-af91/dataset_pequeno.csv\"\n",
        "archivo_destino=\"/content/datasets/dataset_pequeno.csv\"\n",
        "archivo_destino_bucket=\"/content/buckets/b1/datasets/dataset_pequeno.csv\"\n",
        "\n",
        "if ! test -f $archivo_destino_bucket; then\n",
        "  wget  $archivo_origen  -O $archivo_destino_bucket\n",
        "fi\n",
        "\n",
        "\n",
        "if ! test -f $archivo_destino; then\n",
        "  cp  $archivo_destino_bucket  $archivo_destino\n",
        "fi\n"
      ],
      "metadata": {
        "id": "W8dQFI5QYCFa"
      },
      "execution_count": null,
      "outputs": []
    },
    {
      "cell_type": "markdown",
      "source": [
        "# 1  Particion Training/Testing\n",
        "## Clase 02  Experimento 1"
      ],
      "metadata": {
        "id": "iV32-NeesVp6"
      }
    },
    {
      "cell_type": "markdown",
      "source": [
        "## 1.1  Objetivos\n",
        "Dado que es el primer experimento de la asignatura, acercar a l@s estudiantes las mejores prácticas de operación del ambiente de Google Cloud, realizando una minuciosa demostración en vivo narrando todas las consideraciones pertinentes para evitar accidentes, daños a terceros y a equipos.\n",
        "Dar soporte en el acto a  l@s estudiantes que necesitan ayuda para terminar de configurar el ambiente Google Cloud .\n",
        "<br>Repaso del concepto de  partición de un dataset al azar, estratificada en la clase\n",
        "<br>Dado que es el primer script que se mostrará en vivo a l@s estudiantes,  realizar una visita guiada del  mismo, su estructura y detalles.\n",
        "<br>Repaso del algoritmo Arbol de Decisión sus hiperparámetros, y la implementación con la librería  rpart.  Funciones  rpart::rpart  y rpart::predict\n",
        "<br>Concepto de replicabilidad de los experimentos mediante las semillas de los generadores de secuencias de números pseudoaleatorios.\n",
        "<br>Finalmente, el principal objetivo de este experimento es lograr que l@s estudiantes dimensionen la enorme variabilidad del error de medición de la ganancia de un árbol de decisión al realizar una partición <training, testing>,  contener la sorpresa de los estudiantes, descartar a la simple particion <training, testing> como método,  y construir en conjunto una solucion natural al problema."
      ],
      "metadata": {
        "id": "84Pnj9gVwpXB"
      }
    },
    {
      "cell_type": "markdown",
      "source": [
        "## 1.2 Introduccion"
      ],
      "metadata": {
        "id": "L9Cn0WThw37Y"
      }
    },
    {
      "cell_type": "markdown",
      "source": [
        "![Particiohn Training/Testing](https://storage.googleapis.com/open-courses/austral2025-af91/labo1r/C2_E1_particion.jpg)"
      ],
      "metadata": {
        "id": "ZELZ0R4itUVG"
      }
    },
    {
      "cell_type": "markdown",
      "source": [
        "![Dos tipos de error](https://storage.googleapis.com/open-courses/austral2025-af91/labo1r/C2_E1_target.jpg)"
      ],
      "metadata": {
        "id": "Wtc1ho58xLk-"
      }
    },
    {
      "cell_type": "markdown",
      "source": [
        "## 1.3  Bibliografía\n",
        "\n",
        "Demšar, J. [Statistical comparisons of classifiers over multiple data sets](https://www.jmlr.org/papers/volume7/demsar06a/demsar06a.pdf) J. Mach. Learn. Res. 7, 1–30 (2006).   \n",
        "Starmer, J. [Machine Learning Fundamentals: Cross Validation](https://www.youtube.com/watch?v=fSytzGwwBVw)Machine Learning Fundamentals: Cross Validation, StatQuest with Josh Starmer youtube channel, (2018)\n",
        "Hastie, T.[The elements of statistical learning: data mining, inference, and prediction](https://hastie.su.domains/Papers/ESLII.pdf) , volume 2. Springer, 2009  ( Chapter 7 Model Assessment and Selection )"
      ],
      "metadata": {
        "id": "oRWtRV34xZRT"
      }
    },
    {
      "cell_type": "markdown",
      "source": [
        "## 1.4 Codigo"
      ],
      "metadata": {
        "id": "VcgTQ2-Pyb8q"
      }
    },
    {
      "cell_type": "markdown",
      "source": [
        "Esta parte se debe correr con el runtime en lenguaje **R** Ir al menu, Runtime -> Change Runtime Tipe -> Runtime type -> R"
      ],
      "metadata": {
        "id": "SBXPU-_tabMb"
      }
    },
    {
      "cell_type": "markdown",
      "source": [
        "limpio el ambiente de R"
      ],
      "metadata": {
        "id": "SE94XRhWsxkX"
      }
    },
    {
      "cell_type": "code",
      "source": [
        "# limpio la memoria\n",
        "rm(list=ls(all.names=TRUE)) # remove all objects\n",
        "gc(full=TRUE, verbose=FALSE) # garbage collection"
      ],
      "metadata": {
        "id": "oZG_4br6szlT",
        "outputId": "accf3802-e910-4980-87cb-1c1d3df5dff9",
        "colab": {
          "base_uri": "https://localhost:8080/",
          "height": 129
        }
      },
      "execution_count": null,
      "outputs": [
        {
          "output_type": "display_data",
          "data": {
            "text/html": [
              "<table class=\"dataframe\">\n",
              "<caption>A matrix: 2 × 6 of type dbl</caption>\n",
              "<thead>\n",
              "\t<tr><th></th><th scope=col>used</th><th scope=col>(Mb)</th><th scope=col>gc trigger</th><th scope=col>(Mb)</th><th scope=col>max used</th><th scope=col>(Mb)</th></tr>\n",
              "</thead>\n",
              "<tbody>\n",
              "\t<tr><th scope=row>Ncells</th><td> 656590</td><td>35.1</td><td>1454477</td><td>77.7</td><td>1321647</td><td>70.6</td></tr>\n",
              "\t<tr><th scope=row>Vcells</th><td>1219461</td><td> 9.4</td><td>8388608</td><td>64.0</td><td>1975127</td><td>15.1</td></tr>\n",
              "</tbody>\n",
              "</table>\n"
            ],
            "text/markdown": "\nA matrix: 2 × 6 of type dbl\n\n| <!--/--> | used | (Mb) | gc trigger | (Mb) | max used | (Mb) |\n|---|---|---|---|---|---|---|\n| Ncells |  656590 | 35.1 | 1454477 | 77.7 | 1321647 | 70.6 |\n| Vcells | 1219461 |  9.4 | 8388608 | 64.0 | 1975127 | 15.1 |\n\n",
            "text/latex": "A matrix: 2 × 6 of type dbl\n\\begin{tabular}{r|llllll}\n  & used & (Mb) & gc trigger & (Mb) & max used & (Mb)\\\\\n\\hline\n\tNcells &  656590 & 35.1 & 1454477 & 77.7 & 1321647 & 70.6\\\\\n\tVcells & 1219461 &  9.4 & 8388608 & 64.0 & 1975127 & 15.1\\\\\n\\end{tabular}\n",
            "text/plain": [
              "       used    (Mb) gc trigger (Mb) max used (Mb)\n",
              "Ncells  656590 35.1 1454477    77.7 1321647  70.6\n",
              "Vcells 1219461  9.4 8388608    64.0 1975127  15.1"
            ]
          },
          "metadata": {}
        }
      ]
    },
    {
      "cell_type": "code",
      "source": [
        "Sys.time()"
      ],
      "metadata": {
        "id": "pJ8SsVA5ssnf",
        "outputId": "cf8b19b8-3726-40e8-b7c3-297880a13187",
        "colab": {
          "base_uri": "https://localhost:8080/",
          "height": 34
        }
      },
      "execution_count": null,
      "outputs": [
        {
          "output_type": "display_data",
          "data": {
            "text/plain": [
              "[1] \"2025-09-30 23:39:10 UTC\""
            ]
          },
          "metadata": {}
        }
      ]
    },
    {
      "cell_type": "markdown",
      "source": [
        "* Instalacion de la libreria  rpart.plot  para dibujar el arbol\n",
        "* invocacion de las librerias  **data.table** y  **rpart**"
      ],
      "metadata": {
        "id": "3BrrQ47PeEb2"
      }
    },
    {
      "cell_type": "code",
      "source": [
        "# cargo las librerias que necesito\n",
        "require(\"data.table\")\n",
        "require(\"rpart\")\n"
      ],
      "metadata": {
        "id": "SxO-0Ql0khn6",
        "outputId": "fc32b74a-70ac-4dfa-fd07-8fa276985b24",
        "colab": {
          "base_uri": "https://localhost:8080/"
        }
      },
      "execution_count": null,
      "outputs": [
        {
          "output_type": "stream",
          "name": "stderr",
          "text": [
            "Loading required package: data.table\n",
            "\n",
            "Loading required package: rpart\n",
            "\n"
          ]
        }
      ]
    },
    {
      "cell_type": "markdown",
      "source": [
        "###  Accion a Realizar\n",
        "PARAM$semilla  debe tener su primer semilla aleatoria"
      ],
      "metadata": {
        "id": "ZG9fCnZh3bWV"
      }
    },
    {
      "cell_type": "code",
      "source": [
        "PARAM <- list()\n",
        "PARAM$semilla <- 523519  # aqui debe ir su primer semilla\n",
        "PARAM$training_pct <- 70L  # entre  1L y 99L\n",
        "\n",
        "PARAM$rpart <- list (\n",
        "  \"cp\" = -1, # complejidad minima\n",
        "  \"minsplit\" = 170, # minima cantidad de regs en un nodo para hacer el split\n",
        "  \"minbucket\" = 70, # minima cantidad de regs en una hoja\n",
        "  \"maxdepth\" = 7 # profundidad máxima del arbol\n",
        ")\n"
      ],
      "metadata": {
        "id": "0nx5_OcE3Y9c"
      },
      "execution_count": null,
      "outputs": []
    },
    {
      "cell_type": "code",
      "source": [
        "# particionar agrega una columna llamada fold a un dataset\n",
        "#  que consiste en una particion estratificada segun agrupa\n",
        "\n",
        "# particionar( data=dataset, division=c(70,30),\n",
        "#  agrupa=clase_ternaria, seed=semilla)   crea una particion 70, 30\n",
        "\n",
        "particionar <- function(\n",
        "    data, division, agrupa = \"\",\n",
        "    campo = \"fold\", start = 1, seed = NA) {\n",
        "  if (!is.na(seed)) set.seed(seed)\n",
        "\n",
        "  bloque <- unlist(mapply(function(x, y) {\n",
        "    rep(y, x)\n",
        "  }, division, seq(from = start, length.out = length(division))))\n",
        "\n",
        "  data[, (campo) := sample(rep(bloque, ceiling(.N / length(bloque))))[1:.N],\n",
        "    by = agrupa\n",
        "  ]\n",
        "}\n"
      ],
      "metadata": {
        "id": "8HLE9Dx80gjH"
      },
      "execution_count": null,
      "outputs": []
    },
    {
      "cell_type": "code",
      "source": [
        "# carpeta de trabajo\n",
        "setwd(\"/content/buckets/b1/exp\")\n",
        "experimento <- \"exp201\"\n",
        "dir.create(experimento, showWarnings=FALSE)\n",
        "setwd( paste0(\"/content/buckets/b1/exp/\", experimento ))"
      ],
      "metadata": {
        "id": "sC4_nqcm0nUs"
      },
      "execution_count": null,
      "outputs": []
    },
    {
      "cell_type": "code",
      "source": [
        "# lectura del dataset\n",
        "dataset <- fread(\"/content/datasets/dataset_pequeno.csv\")\n",
        "\n",
        "# trabajo solo con los datos con clase, es decir 202107\n",
        "dataset <- dataset[clase_ternaria != \"\"]"
      ],
      "metadata": {
        "id": "6yIEsZOw07q8"
      },
      "execution_count": null,
      "outputs": []
    },
    {
      "cell_type": "code",
      "source": [
        "# particiono estratificadamente el dataset 70%, 30%\n",
        "particionar(dataset,\n",
        "  division = c(PARAM$training_pct, 100L -PARAM$training_pct),\n",
        "  agrupa = \"clase_ternaria\",\n",
        "  seed = PARAM$semilla # aqui se usa SU semilla\n",
        ")\n",
        "\n"
      ],
      "metadata": {
        "id": "FAO1Hhd52b5d"
      },
      "execution_count": null,
      "outputs": []
    },
    {
      "cell_type": "code",
      "source": [
        "# genero el modelo\n",
        "# quiero predecir clase_ternaria a partir del resto\n",
        "# fold==1  es training,  el 70% de los datos\n",
        "modelo <- rpart(\"clase_ternaria ~ .\",\n",
        "  data = dataset[fold == 1],  # fold==1  es training, el 70% de los datos\n",
        "  xval = 0,\n",
        "  control = PARAM$rpart # aqui van los parametros\n",
        ")\n"
      ],
      "metadata": {
        "id": "s3UnHSLP2gN6"
      },
      "execution_count": null,
      "outputs": []
    },
    {
      "cell_type": "code",
      "source": [
        "# aplico el modelo a los datos de testing\n",
        "prediccion <- predict(modelo, # el modelo que genere recien\n",
        "  dataset[fold == 2], # fold==2  es testing, el 30% de los datos\n",
        "  type = \"prob\"\n",
        ") # type= \"prob\"  es que devuelva la probabilidad\n"
      ],
      "metadata": {
        "id": "paQphV4A2jGz"
      },
      "execution_count": null,
      "outputs": []
    },
    {
      "cell_type": "code",
      "source": [
        "tb_prediccion <- as.data.table(list(\n",
        "  \"clase_ternaria\"=dataset[fold == 2, clase_ternaria],\n",
        "  \"prob\"=prediccion[, \"BAJA+2\"]\n",
        "))"
      ],
      "metadata": {
        "id": "fuLZ75pA29dT"
      },
      "execution_count": null,
      "outputs": []
    },
    {
      "cell_type": "code",
      "source": [
        "# calculo la ganancia de cada registro\n",
        "tb_prediccion[, ganancia := ifelse(clase_ternaria == \"BAJA+2\", 117000, -3000)]"
      ],
      "metadata": {
        "id": "LuG6ql_t3kOI"
      },
      "execution_count": null,
      "outputs": []
    },
    {
      "cell_type": "code",
      "source": [
        "# calculo la clase\n",
        "tb_prediccion[, Predicted := prob > (1/40) ]"
      ],
      "metadata": {
        "id": "xJ3WTMez3leO"
      },
      "execution_count": null,
      "outputs": []
    },
    {
      "cell_type": "code",
      "source": [
        "ganancia_test <-  tb_prediccion[ Predicted==TRUE,  sum(ganancia)]"
      ],
      "metadata": {
        "id": "cFQPacen4Wq6"
      },
      "execution_count": null,
      "outputs": []
    },
    {
      "cell_type": "code",
      "source": [
        "# normalizo la ganancia\n",
        "ganancia_test_normalizada <- ganancia_test / (( 100 - PARAM$training_pct ) / 100 )"
      ],
      "metadata": {
        "id": "dHjz0zhN4-nZ"
      },
      "execution_count": null,
      "outputs": []
    },
    {
      "cell_type": "code",
      "source": [
        "estimulos <- tb_prediccion[ Predicted==TRUE, .N]\n",
        "aciertos <- tb_prediccion[ Predicted & clase_ternaria == \"BAJA+2\", .N]\n"
      ],
      "metadata": {
        "id": "D7RUdTb95F6B"
      },
      "execution_count": null,
      "outputs": []
    },
    {
      "cell_type": "code",
      "source": [
        "# Resultado Final\n",
        "cat(\"Testing total: \", dataset[fold == 2, .N], \"\\n\")\n",
        "cat(\"Testing BAJA+2: \", dataset[fold == 2 & clase_ternaria == \"BAJA+2\", .N], \"\\n\")\n",
        "\n",
        "cat(\"Estimulos: \", estimulos, \"\\n\")\n",
        "cat(\"Aciertos (BAJA+2): \", aciertos, \"\\n\")\n",
        "\n",
        "cat(\"Ganancia en testing (normalizada): \", ganancia_test_normalizada, \"\\n\")\n"
      ],
      "metadata": {
        "id": "Lu1KM6fy5U7h",
        "outputId": "483c5c21-0da0-48dd-8cab-37973d777fc3",
        "colab": {
          "base_uri": "https://localhost:8080/"
        }
      },
      "execution_count": null,
      "outputs": [
        {
          "output_type": "stream",
          "name": "stdout",
          "text": [
            "Testing total:  49385 \n",
            "Testing BAJA+2:  374 \n",
            "Estimulos:  3156 \n",
            "Aciertos (BAJA+2):  188 \n",
            "Ganancia en testing (normalizada):  43640000 \n"
          ]
        }
      ]
    },
    {
      "cell_type": "markdown",
      "source": [
        "### Acciones a realizar\n",
        "* Reportar la  *Ganancia en testing (normalizada)* <br> en la planilla colaborativa hoja  **C2-1sem**\n",
        "* Se discutirá en clase la variabilidad de las ganancias obtenidas de distintos alumnos"
      ],
      "metadata": {
        "id": "kHs-YoFB5rUa"
      }
    },
    {
      "cell_type": "markdown",
      "source": [
        "\n",
        "\n",
        "---\n",
        "\n"
      ],
      "metadata": {
        "id": "LBl_eIeO7WuM"
      }
    },
    {
      "cell_type": "markdown",
      "source": [
        "# 2  Medición Monte Carlo Cross Validation\n",
        "## Clase 02  Experimento 2"
      ],
      "metadata": {
        "id": "h43UCq9y7UlT"
      }
    },
    {
      "cell_type": "markdown",
      "source": [
        "## 2.1  Objetivos\n",
        "Mostrar el funcionamiento de la Montecarlo Cross Validation y que l@s estudiantes aprecien la disminución de la varianza de dicha metodología.\n",
        "Relación con el Teorema Central del Límite"
      ],
      "metadata": {
        "id": "wHPchGXK80VU"
      }
    },
    {
      "cell_type": "markdown",
      "source": [
        "## 2.2 Introduccion\n",
        "\n",
        "![Montecarlo](https://storage.googleapis.com/open-courses/austral2025-af91/labo1r/C2_E2_montecarlo.jpg)\n",
        "\n",
        "![Curva normal](https://storage.googleapis.com/open-courses/austral2025-af91/labo1r/C2_E2_normal.jpg)\n",
        "\n",
        "![Teorema Central del Limite](https://storage.googleapis.com/open-courses/austral2025-af91/labo1r/C2_E2_teoremacentralLimite.jpg)\n",
        "\n"
      ],
      "metadata": {
        "id": "g6YzACxl9DzS"
      }
    },
    {
      "cell_type": "markdown",
      "source": [],
      "metadata": {
        "id": "7laod2t4ArsH"
      }
    },
    {
      "cell_type": "markdown",
      "source": [
        "## 2.3  Bibliografía\n",
        "\n",
        "Demšar, J. [Statistical comparisons of classifiers over multiple data sets](https://www.jmlr.org/papers/volume7/demsar06a/demsar06a.pdf) J. Mach. Learn. Res. 7, 1–30 (2006).   \n",
        "Starmer, J. [Machine Learning Fundamentals: Cross Validation](https://www.youtube.com/watch?v=fSytzGwwBVw)Machine Learning Fundamentals: Cross Validation, StatQuest with Josh Starmer youtube channel, (2018)\n",
        "Hastie, T.[The elements of statistical learning: data mining, inference, and prediction](https://hastie.su.domains/Papers/ESLII.pdf) , volume 2. Springer, 2009  ( Chapter 7 Model Assessment and Selection )"
      ],
      "metadata": {
        "id": "lFcJeRAkAr-q"
      }
    },
    {
      "cell_type": "code",
      "source": [],
      "metadata": {
        "id": "KXSuYXQ26cLV"
      },
      "execution_count": null,
      "outputs": []
    },
    {
      "cell_type": "markdown",
      "source": [
        "## 2.4 Codigo  Montecarlo"
      ],
      "metadata": {
        "id": "0ztZzYolA2WK"
      }
    },
    {
      "cell_type": "markdown",
      "source": [
        "El código de la Montecarlo Cross Validation es notablemente más complejo que el anterior de una simple partición training/testing\n",
        "<br> Se crea la funcion ArbolEstimarGanancia()  que dada una semilla realiza la partición  training/testing, entrena en training, aplica el modelo a testing, y se calculan las ganancias\n",
        "<br> Se utiliza la funcion **mcmapply**  de R para aplicar ArbolEstimarGanancia a todos los elementos del vector de semillas"
      ],
      "metadata": {
        "id": "KLa06ZsiC-Oz"
      }
    },
    {
      "cell_type": "markdown",
      "source": [
        "Esta parte se debe correr con el runtime en lenguaje **R** Ir al menu, Runtime -> Change Runtime Tipe -> Runtime type -> R"
      ],
      "metadata": {
        "id": "ivFiBBOQA2Ws"
      }
    },
    {
      "cell_type": "markdown",
      "source": [
        "limpio el ambiente de R"
      ],
      "metadata": {
        "id": "TMSAQDXuA2Ws"
      }
    },
    {
      "cell_type": "code",
      "source": [
        "# limpio la memoria\n",
        "rm(list=ls(all.names=TRUE)) # remove all objects\n",
        "gc(full=TRUE, verbose=FALSE) # garbage collection"
      ],
      "metadata": {
        "id": "eakzb8y2A2Wt",
        "outputId": "15c2d64b-0b4b-4acc-e16c-23436a7d4745",
        "colab": {
          "base_uri": "https://localhost:8080/",
          "height": 129
        }
      },
      "execution_count": null,
      "outputs": [
        {
          "output_type": "display_data",
          "data": {
            "text/html": [
              "<table class=\"dataframe\">\n",
              "<caption>A matrix: 2 × 6 of type dbl</caption>\n",
              "<thead>\n",
              "\t<tr><th></th><th scope=col>used</th><th scope=col>(Mb)</th><th scope=col>gc trigger</th><th scope=col>(Mb)</th><th scope=col>max used</th><th scope=col>(Mb)</th></tr>\n",
              "</thead>\n",
              "<tbody>\n",
              "\t<tr><th scope=row>Ncells</th><td> 797395</td><td>42.6</td><td> 1454477</td><td> 77.7</td><td>  1454477</td><td> 77.7</td></tr>\n",
              "\t<tr><th scope=row>Vcells</th><td>1509233</td><td>11.6</td><td>81578612</td><td>622.4</td><td>127411813</td><td>972.1</td></tr>\n",
              "</tbody>\n",
              "</table>\n"
            ],
            "text/markdown": "\nA matrix: 2 × 6 of type dbl\n\n| <!--/--> | used | (Mb) | gc trigger | (Mb) | max used | (Mb) |\n|---|---|---|---|---|---|---|\n| Ncells |  797395 | 42.6 |  1454477 |  77.7 |   1454477 |  77.7 |\n| Vcells | 1509233 | 11.6 | 81578612 | 622.4 | 127411813 | 972.1 |\n\n",
            "text/latex": "A matrix: 2 × 6 of type dbl\n\\begin{tabular}{r|llllll}\n  & used & (Mb) & gc trigger & (Mb) & max used & (Mb)\\\\\n\\hline\n\tNcells &  797395 & 42.6 &  1454477 &  77.7 &   1454477 &  77.7\\\\\n\tVcells & 1509233 & 11.6 & 81578612 & 622.4 & 127411813 & 972.1\\\\\n\\end{tabular}\n",
            "text/plain": [
              "       used    (Mb) gc trigger (Mb)  max used  (Mb) \n",
              "Ncells  797395 42.6  1454477    77.7   1454477  77.7\n",
              "Vcells 1509233 11.6 81578612   622.4 127411813 972.1"
            ]
          },
          "metadata": {}
        }
      ]
    },
    {
      "cell_type": "markdown",
      "source": [
        "* Instalacion de la libreria  rpart.plot  para dibujar el arbol\n",
        "* invocacion de las librerias  **data.table** y  **rpart**"
      ],
      "metadata": {
        "id": "559RkeYZA2Wv"
      }
    },
    {
      "cell_type": "code",
      "source": [
        "# cargo las librerias que necesito\n",
        "require(\"data.table\")\n",
        "require(\"rpart\")\n",
        "require(\"parallel\")"
      ],
      "metadata": {
        "id": "yf_S_HlsA2Wv",
        "outputId": "c7988c5b-640f-4d22-d2ba-869f474753a6",
        "colab": {
          "base_uri": "https://localhost:8080/"
        }
      },
      "execution_count": null,
      "outputs": [
        {
          "output_type": "stream",
          "name": "stderr",
          "text": [
            "Loading required package: parallel\n",
            "\n"
          ]
        }
      ]
    },
    {
      "cell_type": "markdown",
      "source": [
        "###  Accion a Realizar\n",
        "PARAM$semillas  debe tener sus cinco semillas aleatorias"
      ],
      "metadata": {
        "id": "a4oz2ulCA2Ww"
      }
    },
    {
      "cell_type": "code",
      "source": [
        "PARAM <- list()\n",
        "PARAM$semillas <- c(523519, 325153, 860323, 813511, 339943)  # aqui debe ir sus CINCO\n",
        "PARAM$training_pct <- 70L  # entre  1L y 99L\n",
        "\n",
        "PARAM$rpart <- list (\n",
        "  \"cp\" = -1, # complejidad minima\n",
        "  \"minsplit\" = 170, # minima cantidad de regs en un nodo para hacer el split\n",
        "  \"minbucket\" = 70, # minima cantidad de regs en una hoja\n",
        "  \"maxdepth\" = 7 # profundidad máxima del arbol\n",
        ")\n"
      ],
      "metadata": {
        "id": "yQ2OAP5AA2Wx"
      },
      "execution_count": null,
      "outputs": []
    },
    {
      "cell_type": "code",
      "source": [
        "# particionar agrega una columna llamada fold a un dataset\n",
        "#  que consiste en una particion estratificada segun agrupa\n",
        "\n",
        "# particionar( data=dataset, division=c(70,30),\n",
        "#  agrupa=clase_ternaria, seed=semilla)   crea una particion 70, 30\n",
        "\n",
        "particionar <- function(\n",
        "    data, division, agrupa = \"\",\n",
        "    campo = \"fold\", start = 1, seed = NA) {\n",
        "  if (!is.na(seed)) set.seed(seed)\n",
        "\n",
        "  bloque <- unlist(mapply(function(x, y) {\n",
        "    rep(y, x)\n",
        "  }, division, seq(from = start, length.out = length(division))))\n",
        "\n",
        "  data[, (campo) := sample(rep(bloque, ceiling(.N / length(bloque))))[1:.N],\n",
        "    by = agrupa\n",
        "  ]\n",
        "}\n"
      ],
      "metadata": {
        "id": "97dMCVJWA2Wy"
      },
      "execution_count": null,
      "outputs": []
    },
    {
      "cell_type": "code",
      "source": [
        "\n",
        "ArbolEstimarGanancia <- function(semilla, param_basicos) {\n",
        "  # particiono estratificadamente el dataset\n",
        "  particionar(dataset,\n",
        "    division = c(param_basicos$training_pct, 100L -param_basicos$training_pct),\n",
        "    agrupa = \"clase_ternaria\",\n",
        "    seed = semilla # aqui se usa SU semilla\n",
        "  )\n",
        "\n",
        "  # genero el modelo\n",
        "  # predecir clase_ternaria a partir del resto\n",
        "  modelo <- rpart(\"clase_ternaria ~ .\",\n",
        "    data = dataset[fold == 1], # fold==1  es training,  el 70% de los datos\n",
        "    xval = 0,\n",
        "    control = param_basicos$rpart\n",
        "  ) # aqui van los parametros del arbol\n",
        "\n",
        "  # aplico el modelo a los datos de testing\n",
        "  prediccion <- predict(modelo, # el modelo que genere recien\n",
        "    dataset[fold == 2], # fold==2  es testing, el 30% de los datos\n",
        "    type = \"prob\"\n",
        "  ) # type= \"prob\"  es que devuelva la probabilidad\n",
        "\n",
        "  # prediccion es una matriz con TRES columnas,\n",
        "  #  llamadas \"BAJA+1\", \"BAJA+2\"  y \"CONTINUA\"\n",
        "  # cada columna es el vector de probabilidades\n",
        "\n",
        "\n",
        "  # calculo la ganancia en testing  qu es fold==2\n",
        "  ganancia_test <- dataset[\n",
        "    fold == 2,\n",
        "    sum(ifelse(prediccion[, \"BAJA+2\"] > 0.025,\n",
        "      ifelse(clase_ternaria == \"BAJA+2\", 117000, -3000),\n",
        "      0\n",
        "    ))\n",
        "  ]\n",
        "\n",
        "  # escalo la ganancia como si fuera todo el dataset\n",
        "  ganancia_test_normalizada <- ganancia_test / (( 100 - PARAM$training_pct ) / 100 )\n",
        "\n",
        "  return(list(\n",
        "    \"semilla\" = semilla,\n",
        "    \"testing\" = dataset[fold == 2, .N],\n",
        "    \"testing_pos\" = dataset[fold == 2 & clase_ternaria == \"BAJA+2\", .N],\n",
        "    \"envios\" = dataset[fold == 2, sum(prediccion[, \"BAJA+2\"] > 0.025)],\n",
        "    \"aciertos\" = dataset[\n",
        "        fold == 2,\n",
        "        sum(prediccion[, \"BAJA+2\"] > 0.025 & clase_ternaria == \"BAJA+2\")\n",
        "    ],\n",
        "    \"ganancia_test\" = ganancia_test_normalizada\n",
        "  ))\n",
        "}\n"
      ],
      "metadata": {
        "id": "GroZSZoVBuZ5"
      },
      "execution_count": null,
      "outputs": []
    },
    {
      "cell_type": "code",
      "source": [
        "# carpeta de trabajo\n",
        "setwd(\"/content/buckets/b1/exp\")\n",
        "experimento <- \"exp202\"\n",
        "dir.create(experimento, showWarnings=FALSE)\n",
        "setwd( paste0(\"/content/buckets/b1/exp/\", experimento ))"
      ],
      "metadata": {
        "id": "dJIBIX6kA2Wy"
      },
      "execution_count": null,
      "outputs": []
    },
    {
      "cell_type": "code",
      "source": [
        "# lectura del dataset\n",
        "dataset <- fread(\"/content/datasets/dataset_pequeno.csv\")\n",
        "\n",
        "# trabajo solo con los datos con clase, es decir 202107\n",
        "dataset <- dataset[clase_ternaria != \"\"]"
      ],
      "metadata": {
        "id": "tKiACdU2A2Wz"
      },
      "execution_count": null,
      "outputs": []
    },
    {
      "cell_type": "code",
      "source": [
        "\n",
        "# la funcion mcmapply  llama a la funcion ArbolEstimarGanancia\n",
        "#  tantas veces como valores tenga el vector  PARAM$semillas\n",
        "salidas <- mcmapply(ArbolEstimarGanancia,\n",
        "  PARAM$semillas, # paso el vector de semillas\n",
        "  MoreArgs = list(PARAM), # aqui paso el segundo parametro\n",
        "  SIMPLIFY = FALSE,\n",
        "  mc.cores = detectCores()\n",
        ")\n",
        "\n",
        "# muestro la lista de las salidas en testing\n",
        "#  para la particion realizada con cada semilla\n",
        "salidas\n"
      ],
      "metadata": {
        "id": "64OdfeyxCMDF",
        "outputId": "cb34e6b9-d5b0-4b90-f119-cce412e45529",
        "colab": {
          "base_uri": "https://localhost:8080/",
          "height": 1000
        }
      },
      "execution_count": null,
      "outputs": [
        {
          "output_type": "display_data",
          "data": {
            "text/html": [
              "<ol>\n",
              "\t<li><dl>\n",
              "\t<dt>$semilla</dt>\n",
              "\t\t<dd>523519</dd>\n",
              "\t<dt>$testing</dt>\n",
              "\t\t<dd>49385</dd>\n",
              "\t<dt>$testing_pos</dt>\n",
              "\t\t<dd>374</dd>\n",
              "\t<dt>$envios</dt>\n",
              "\t\t<dd>3156</dd>\n",
              "\t<dt>$aciertos</dt>\n",
              "\t\t<dd>188</dd>\n",
              "\t<dt>$ganancia_test</dt>\n",
              "\t\t<dd>43640000</dd>\n",
              "</dl>\n",
              "</li>\n",
              "\t<li><dl>\n",
              "\t<dt>$semilla</dt>\n",
              "\t\t<dd>325153</dd>\n",
              "\t<dt>$testing</dt>\n",
              "\t\t<dd>49379</dd>\n",
              "\t<dt>$testing_pos</dt>\n",
              "\t\t<dd>375</dd>\n",
              "\t<dt>$envios</dt>\n",
              "\t\t<dd>3852</dd>\n",
              "\t<dt>$aciertos</dt>\n",
              "\t\t<dd>210</dd>\n",
              "\t<dt>$ganancia_test</dt>\n",
              "\t\t<dd>45480000</dd>\n",
              "</dl>\n",
              "</li>\n",
              "\t<li><dl>\n",
              "\t<dt>$semilla</dt>\n",
              "\t\t<dd>860323</dd>\n",
              "\t<dt>$testing</dt>\n",
              "\t\t<dd>49376</dd>\n",
              "\t<dt>$testing_pos</dt>\n",
              "\t\t<dd>370</dd>\n",
              "\t<dt>$envios</dt>\n",
              "\t\t<dd>4771</dd>\n",
              "\t<dt>$aciertos</dt>\n",
              "\t\t<dd>218</dd>\n",
              "\t<dt>$ganancia_test</dt>\n",
              "\t\t<dd>39490000</dd>\n",
              "</dl>\n",
              "</li>\n",
              "\t<li><dl>\n",
              "\t<dt>$semilla</dt>\n",
              "\t\t<dd>813511</dd>\n",
              "\t<dt>$testing</dt>\n",
              "\t\t<dd>49374</dd>\n",
              "\t<dt>$testing_pos</dt>\n",
              "\t\t<dd>373</dd>\n",
              "\t<dt>$envios</dt>\n",
              "\t\t<dd>2953</dd>\n",
              "\t<dt>$aciertos</dt>\n",
              "\t\t<dd>198</dd>\n",
              "\t<dt>$ganancia_test</dt>\n",
              "\t\t<dd>49670000</dd>\n",
              "</dl>\n",
              "</li>\n",
              "\t<li><dl>\n",
              "\t<dt>$semilla</dt>\n",
              "\t\t<dd>339943</dd>\n",
              "\t<dt>$testing</dt>\n",
              "\t\t<dd>49389</dd>\n",
              "\t<dt>$testing_pos</dt>\n",
              "\t\t<dd>376</dd>\n",
              "\t<dt>$envios</dt>\n",
              "\t\t<dd>3311</dd>\n",
              "\t<dt>$aciertos</dt>\n",
              "\t\t<dd>220</dd>\n",
              "\t<dt>$ganancia_test</dt>\n",
              "\t\t<dd>54890000</dd>\n",
              "</dl>\n",
              "</li>\n",
              "</ol>\n"
            ],
            "text/markdown": "1. $semilla\n:   523519\n$testing\n:   49385\n$testing_pos\n:   374\n$envios\n:   3156\n$aciertos\n:   188\n$ganancia_test\n:   43640000\n\n\n\n2. $semilla\n:   325153\n$testing\n:   49379\n$testing_pos\n:   375\n$envios\n:   3852\n$aciertos\n:   210\n$ganancia_test\n:   45480000\n\n\n\n3. $semilla\n:   860323\n$testing\n:   49376\n$testing_pos\n:   370\n$envios\n:   4771\n$aciertos\n:   218\n$ganancia_test\n:   39490000\n\n\n\n4. $semilla\n:   813511\n$testing\n:   49374\n$testing_pos\n:   373\n$envios\n:   2953\n$aciertos\n:   198\n$ganancia_test\n:   49670000\n\n\n\n5. $semilla\n:   339943\n$testing\n:   49389\n$testing_pos\n:   376\n$envios\n:   3311\n$aciertos\n:   220\n$ganancia_test\n:   54890000\n\n\n\n\n\n",
            "text/latex": "\\begin{enumerate}\n\\item \\begin{description}\n\\item[\\$semilla] 523519\n\\item[\\$testing] 49385\n\\item[\\$testing\\_pos] 374\n\\item[\\$envios] 3156\n\\item[\\$aciertos] 188\n\\item[\\$ganancia\\_test] 43640000\n\\end{description}\n\n\\item \\begin{description}\n\\item[\\$semilla] 325153\n\\item[\\$testing] 49379\n\\item[\\$testing\\_pos] 375\n\\item[\\$envios] 3852\n\\item[\\$aciertos] 210\n\\item[\\$ganancia\\_test] 45480000\n\\end{description}\n\n\\item \\begin{description}\n\\item[\\$semilla] 860323\n\\item[\\$testing] 49376\n\\item[\\$testing\\_pos] 370\n\\item[\\$envios] 4771\n\\item[\\$aciertos] 218\n\\item[\\$ganancia\\_test] 39490000\n\\end{description}\n\n\\item \\begin{description}\n\\item[\\$semilla] 813511\n\\item[\\$testing] 49374\n\\item[\\$testing\\_pos] 373\n\\item[\\$envios] 2953\n\\item[\\$aciertos] 198\n\\item[\\$ganancia\\_test] 49670000\n\\end{description}\n\n\\item \\begin{description}\n\\item[\\$semilla] 339943\n\\item[\\$testing] 49389\n\\item[\\$testing\\_pos] 376\n\\item[\\$envios] 3311\n\\item[\\$aciertos] 220\n\\item[\\$ganancia\\_test] 54890000\n\\end{description}\n\n\\end{enumerate}\n",
            "text/plain": [
              "[[1]]\n",
              "[[1]]$semilla\n",
              "[1] 523519\n",
              "\n",
              "[[1]]$testing\n",
              "[1] 49385\n",
              "\n",
              "[[1]]$testing_pos\n",
              "[1] 374\n",
              "\n",
              "[[1]]$envios\n",
              "[1] 3156\n",
              "\n",
              "[[1]]$aciertos\n",
              "[1] 188\n",
              "\n",
              "[[1]]$ganancia_test\n",
              "[1] 43640000\n",
              "\n",
              "\n",
              "[[2]]\n",
              "[[2]]$semilla\n",
              "[1] 325153\n",
              "\n",
              "[[2]]$testing\n",
              "[1] 49379\n",
              "\n",
              "[[2]]$testing_pos\n",
              "[1] 375\n",
              "\n",
              "[[2]]$envios\n",
              "[1] 3852\n",
              "\n",
              "[[2]]$aciertos\n",
              "[1] 210\n",
              "\n",
              "[[2]]$ganancia_test\n",
              "[1] 45480000\n",
              "\n",
              "\n",
              "[[3]]\n",
              "[[3]]$semilla\n",
              "[1] 860323\n",
              "\n",
              "[[3]]$testing\n",
              "[1] 49376\n",
              "\n",
              "[[3]]$testing_pos\n",
              "[1] 370\n",
              "\n",
              "[[3]]$envios\n",
              "[1] 4771\n",
              "\n",
              "[[3]]$aciertos\n",
              "[1] 218\n",
              "\n",
              "[[3]]$ganancia_test\n",
              "[1] 39490000\n",
              "\n",
              "\n",
              "[[4]]\n",
              "[[4]]$semilla\n",
              "[1] 813511\n",
              "\n",
              "[[4]]$testing\n",
              "[1] 49374\n",
              "\n",
              "[[4]]$testing_pos\n",
              "[1] 373\n",
              "\n",
              "[[4]]$envios\n",
              "[1] 2953\n",
              "\n",
              "[[4]]$aciertos\n",
              "[1] 198\n",
              "\n",
              "[[4]]$ganancia_test\n",
              "[1] 49670000\n",
              "\n",
              "\n",
              "[[5]]\n",
              "[[5]]$semilla\n",
              "[1] 339943\n",
              "\n",
              "[[5]]$testing\n",
              "[1] 49389\n",
              "\n",
              "[[5]]$testing_pos\n",
              "[1] 376\n",
              "\n",
              "[[5]]$envios\n",
              "[1] 3311\n",
              "\n",
              "[[5]]$aciertos\n",
              "[1] 220\n",
              "\n",
              "[[5]]$ganancia_test\n",
              "[1] 54890000\n",
              "\n"
            ]
          },
          "metadata": {}
        }
      ]
    },
    {
      "cell_type": "code",
      "source": [
        "# paso la lista a vector\n",
        "tb_salida <- rbindlist(salidas)\n",
        "print( tb_salida)"
      ],
      "metadata": {
        "id": "tML9VmH2ECFK",
        "outputId": "46e60976-5da5-4931-bd3f-55f2a48368bd",
        "colab": {
          "base_uri": "https://localhost:8080/"
        }
      },
      "execution_count": null,
      "outputs": [
        {
          "output_type": "stream",
          "name": "stdout",
          "text": [
            "   semilla testing testing_pos envios aciertos ganancia_test\n",
            "     <num>   <int>       <int>  <int>    <int>         <num>\n",
            "1:  523519   49385         374   3156      188      43640000\n",
            "2:  325153   49379         375   3852      210      45480000\n",
            "3:  860323   49376         370   4771      218      39490000\n",
            "4:  813511   49374         373   2953      198      49670000\n",
            "5:  339943   49389         376   3311      220      54890000\n"
          ]
        }
      ]
    },
    {
      "cell_type": "code",
      "source": [
        "# finalmente calculo la media (promedio)  de las ganancias\n",
        "cat( \"ganancia promedio: \", tb_salida[, mean(ganancia_test)], \"\\n\" )"
      ],
      "metadata": {
        "id": "rbHXPfoVENQB",
        "outputId": "a89242e7-36c4-41fb-caff-c477726c47de",
        "colab": {
          "base_uri": "https://localhost:8080/"
        }
      },
      "execution_count": null,
      "outputs": [
        {
          "output_type": "stream",
          "name": "stdout",
          "text": [
            "ganancia promedio:  46634000 \n"
          ]
        }
      ]
    },
    {
      "cell_type": "markdown",
      "source": [
        "### Acciones a realizar\n",
        "* Reportar la  *Ganancia Promedio* <br> en la planilla colaborativa hoja  **C2-5sem**\n",
        "* Se discutirá en clase la variabilidad de estos \"ganancia promedio de cinco semillas\""
      ],
      "metadata": {
        "id": "_3xVH6UKA2W6"
      }
    },
    {
      "cell_type": "markdown",
      "source": [
        "\n",
        "\n",
        "---\n",
        "\n"
      ],
      "metadata": {
        "id": "N29m1XGpA2W7"
      }
    },
    {
      "cell_type": "markdown",
      "source": [
        "# 3  Generando n semillas en forma automatica\n",
        "## Clase 02  Experimento 3"
      ],
      "metadata": {
        "id": "zS7WIJciFGc6"
      }
    },
    {
      "cell_type": "markdown",
      "source": [
        "## 3.1  Objetivos\n",
        "Mostrar la creación de nuevas semillas a partir de la librería Primes"
      ],
      "metadata": {
        "id": "VmiFDDDJFUEo"
      }
    },
    {
      "cell_type": "markdown",
      "source": [
        "3.2  Código\n",
        "\n",
        "Como generar muchas semillas a partir de una"
      ],
      "metadata": {
        "id": "Ehe3VfdfFbvg"
      }
    },
    {
      "cell_type": "code",
      "source": [
        "# instalo y cargo la libreria  primes\n",
        "if (!require(\"primes\")) install.packages(\"primes\")\n",
        "require(\"primes\")"
      ],
      "metadata": {
        "id": "X6_dE42yF2-t",
        "outputId": "81578980-e570-4ee7-da8d-1687eea338ed",
        "colab": {
          "base_uri": "https://localhost:8080/"
        }
      },
      "execution_count": null,
      "outputs": [
        {
          "output_type": "stream",
          "name": "stderr",
          "text": [
            "Loading required package: primes\n",
            "\n",
            "Warning message in library(package, lib.loc = lib.loc, character.only = TRUE, logical.return = TRUE, :\n",
            "“there is no package called ‘primes’”\n",
            "Installing package into ‘/usr/local/lib/R/site-library’\n",
            "(as ‘lib’ is unspecified)\n",
            "\n",
            "Loading required package: primes\n",
            "\n"
          ]
        }
      ]
    },
    {
      "cell_type": "code",
      "source": [
        "# genero numeros primos\n",
        "primos <- generate_primes(min = 100000, max = 1000000)\n",
        "\n",
        "\n",
        "set.seed(102191) # inicializo con mi primer semilla\n",
        "\n",
        "# me quedo con por ejemplo 20 primos al azar\n",
        "semillas <- sample(primos, 20 )\n",
        "\n",
        "print( semillas )"
      ],
      "metadata": {
        "id": "yDU9RyV4FNhZ",
        "outputId": "b18dd878-ff64-4749-eb9a-b1f0631adc61",
        "colab": {
          "base_uri": "https://localhost:8080/"
        }
      },
      "execution_count": null,
      "outputs": [
        {
          "output_type": "stream",
          "name": "stdout",
          "text": [
            " [1] 378821 964333 187049 205151 813697 344719 127217 464371 645137 480803\n",
            "[11] 723319 314641 791599 937577 685649 619363 390539 465887 619657 195737\n"
          ]
        }
      ]
    },
    {
      "cell_type": "markdown",
      "source": [
        "\n",
        "\n",
        "---\n",
        "\n"
      ],
      "metadata": {
        "id": "eD_cO5VTGGea"
      }
    },
    {
      "cell_type": "code",
      "source": [],
      "metadata": {
        "id": "k-rgoA2ZFll4"
      },
      "execution_count": null,
      "outputs": []
    },
    {
      "cell_type": "markdown",
      "source": [
        "# 4  Medición  50-Monte Carlo Cross Validation\n",
        "## Clase 02  Experimento 4"
      ],
      "metadata": {
        "id": "cZi29THsGil_"
      }
    },
    {
      "cell_type": "markdown",
      "source": [
        "## 4.1  Objetivos\n",
        "Calcular la ganancia del modelo utilizando 50 semillas nuevas generadas a partir de mi semilla primigenia."
      ],
      "metadata": {
        "id": "qFNq6ntVGimN"
      }
    },
    {
      "cell_type": "markdown",
      "source": [
        "## 4.4 Codigo  50 Montecarlo"
      ],
      "metadata": {
        "id": "B6KtuhQCGimP"
      }
    },
    {
      "cell_type": "markdown",
      "source": [
        "Esta parte se debe correr con el runtime en lenguaje **R** Ir al menu, Runtime -> Change Runtime Tipe -> Runtime type -> R"
      ],
      "metadata": {
        "id": "LgGgjPQuGimP"
      }
    },
    {
      "cell_type": "markdown",
      "source": [
        "Este punto demora en correr 60 minutos en Google Colab, con lo cual para continuar con el punto siguiente deberá abrir un nuevo Colab"
      ],
      "metadata": {
        "id": "E82ChuO25OYx"
      }
    },
    {
      "cell_type": "markdown",
      "source": [
        "limpio el ambiente de R"
      ],
      "metadata": {
        "id": "a6AxqLwOGimQ"
      }
    },
    {
      "cell_type": "code",
      "source": [
        "# limpio la memoria\n",
        "rm(list=ls(all.names=TRUE)) # remove all objects\n",
        "gc(full=TRUE, verbose=FALSE) # garbage collection"
      ],
      "metadata": {
        "id": "797Ad0_QGimQ",
        "outputId": "36c94bb3-1346-45a3-8a2e-f5ea5dd40384",
        "colab": {
          "base_uri": "https://localhost:8080/",
          "height": 129
        }
      },
      "execution_count": null,
      "outputs": [
        {
          "output_type": "display_data",
          "data": {
            "text/html": [
              "<table class=\"dataframe\">\n",
              "<caption>A matrix: 2 × 6 of type dbl</caption>\n",
              "<thead>\n",
              "\t<tr><th></th><th scope=col>used</th><th scope=col>(Mb)</th><th scope=col>gc trigger</th><th scope=col>(Mb)</th><th scope=col>max used</th><th scope=col>(Mb)</th></tr>\n",
              "</thead>\n",
              "<tbody>\n",
              "\t<tr><th scope=row>Ncells</th><td> 881447</td><td>47.1</td><td> 1454477</td><td> 77.7</td><td>  1454477</td><td> 77.7</td></tr>\n",
              "\t<tr><th scope=row>Vcells</th><td>1723824</td><td>13.2</td><td>65262890</td><td>498.0</td><td>127411813</td><td>972.1</td></tr>\n",
              "</tbody>\n",
              "</table>\n"
            ],
            "text/markdown": "\nA matrix: 2 × 6 of type dbl\n\n| <!--/--> | used | (Mb) | gc trigger | (Mb) | max used | (Mb) |\n|---|---|---|---|---|---|---|\n| Ncells |  881447 | 47.1 |  1454477 |  77.7 |   1454477 |  77.7 |\n| Vcells | 1723824 | 13.2 | 65262890 | 498.0 | 127411813 | 972.1 |\n\n",
            "text/latex": "A matrix: 2 × 6 of type dbl\n\\begin{tabular}{r|llllll}\n  & used & (Mb) & gc trigger & (Mb) & max used & (Mb)\\\\\n\\hline\n\tNcells &  881447 & 47.1 &  1454477 &  77.7 &   1454477 &  77.7\\\\\n\tVcells & 1723824 & 13.2 & 65262890 & 498.0 & 127411813 & 972.1\\\\\n\\end{tabular}\n",
            "text/plain": [
              "       used    (Mb) gc trigger (Mb)  max used  (Mb) \n",
              "Ncells  881447 47.1  1454477    77.7   1454477  77.7\n",
              "Vcells 1723824 13.2 65262890   498.0 127411813 972.1"
            ]
          },
          "metadata": {}
        }
      ]
    },
    {
      "cell_type": "markdown",
      "source": [
        "* Instalacion de la libreria  rpart.plot  para dibujar el arbol\n",
        "* invocacion de las librerias  **data.table** y  **rpart**"
      ],
      "metadata": {
        "id": "v0CepvbjGimQ"
      }
    },
    {
      "cell_type": "code",
      "source": [
        "# cargo las librerias que necesito\n",
        "require(\"data.table\")\n",
        "require(\"rpart\")\n",
        "require(\"parallel\")\n",
        "\n",
        "if (!require(\"primes\")) install.packages(\"primes\")\n",
        "require(\"primes\")"
      ],
      "metadata": {
        "id": "CRkZ1V2_GimR"
      },
      "execution_count": null,
      "outputs": []
    },
    {
      "cell_type": "markdown",
      "source": [
        "###  Accion a Realizar\n",
        "PARAM$semilla_primigenia  debe reemplazarse por SU primer semilla"
      ],
      "metadata": {
        "id": "PZKJG-nSGimR"
      }
    },
    {
      "cell_type": "code",
      "source": [
        "PARAM <- list()\n",
        "PARAM$semilla_primigenia <- 523519\n",
        "PARAM$qsemillas <- 50\n",
        "PARAM$training_pct <- 70L  # entre  1L y 99L\n",
        "\n",
        "PARAM$rpart <- list (\n",
        "  \"cp\" = -1, # complejidad minima\n",
        "  \"minsplit\" = 170, # minima cantidad de regs en un nodo para hacer el split\n",
        "  \"minbucket\" = 70, # minima cantidad de regs en una hoja\n",
        "  \"maxdepth\" = 7 # profundidad máxima del arbol\n",
        ")\n"
      ],
      "metadata": {
        "id": "4kbkA-2HGimR"
      },
      "execution_count": null,
      "outputs": []
    },
    {
      "cell_type": "code",
      "source": [
        "# particionar agrega una columna llamada fold a un dataset\n",
        "#  que consiste en una particion estratificada segun agrupa\n",
        "\n",
        "# particionar( data=dataset, division=c(70,30),\n",
        "#  agrupa=clase_ternaria, seed=semilla)   crea una particion 70, 30\n",
        "\n",
        "particionar <- function(\n",
        "    data, division, agrupa = \"\",\n",
        "    campo = \"fold\", start = 1, seed = NA) {\n",
        "  if (!is.na(seed)) set.seed(seed)\n",
        "\n",
        "  bloque <- unlist(mapply(function(x, y) {\n",
        "    rep(y, x)\n",
        "  }, division, seq(from = start, length.out = length(division))))\n",
        "\n",
        "  data[, (campo) := sample(rep(bloque, ceiling(.N / length(bloque))))[1:.N],\n",
        "    by = agrupa\n",
        "  ]\n",
        "}\n"
      ],
      "metadata": {
        "id": "HME0qUeOGimS"
      },
      "execution_count": null,
      "outputs": []
    },
    {
      "cell_type": "code",
      "source": [
        "\n",
        "ArbolEstimarGanancia <- function(semilla, param_basicos) {\n",
        "  # particiono estratificadamente el dataset\n",
        "  particionar(dataset,\n",
        "    division = c(param_basicos$training_pct, 100L -param_basicos$training_pct),\n",
        "    agrupa = \"clase_ternaria\",\n",
        "    seed = semilla # aqui se usa SU semilla\n",
        "  )\n",
        "\n",
        "  # genero el modelo\n",
        "  # predecir clase_ternaria a partir del resto\n",
        "  modelo <- rpart(\"clase_ternaria ~ .\",\n",
        "    data = dataset[fold == 1], # fold==1  es training,  el 70% de los datos\n",
        "    xval = 0,\n",
        "    control = param_basicos$rpart\n",
        "  ) # aqui van los parametros del arbol\n",
        "\n",
        "  # aplico el modelo a los datos de testing\n",
        "  prediccion <- predict(modelo, # el modelo que genere recien\n",
        "    dataset[fold == 2], # fold==2  es testing, el 30% de los datos\n",
        "    type = \"prob\"\n",
        "  ) # type= \"prob\"  es que devuelva la probabilidad\n",
        "\n",
        "  # prediccion es una matriz con TRES columnas,\n",
        "  #  llamadas \"BAJA+1\", \"BAJA+2\"  y \"CONTINUA\"\n",
        "  # cada columna es el vector de probabilidades\n",
        "\n",
        "\n",
        "  # calculo la ganancia en testing  qu es fold==2\n",
        "  ganancia_test <- dataset[\n",
        "    fold == 2,\n",
        "    sum(ifelse(prediccion[, \"BAJA+2\"] > 0.025,\n",
        "      ifelse(clase_ternaria == \"BAJA+2\", 117000, -3000),\n",
        "      0\n",
        "    ))\n",
        "  ]\n",
        "\n",
        "  # escalo la ganancia como si fuera todo el dataset\n",
        "  ganancia_test_normalizada <- ganancia_test / (( 100 - PARAM$training_pct ) / 100 )\n",
        "\n",
        "  return(list(\n",
        "    \"semilla\" = semilla,\n",
        "    \"testing\" = dataset[fold == 2, .N],\n",
        "    \"testing_pos\" = dataset[fold == 2 & clase_ternaria == \"BAJA+2\", .N],\n",
        "    \"envios\" = dataset[fold == 2, sum(prediccion[, \"BAJA+2\"] > 0.025)],\n",
        "    \"aciertos\" = dataset[\n",
        "        fold == 2,\n",
        "        sum(prediccion[, \"BAJA+2\"] > 0.025 & clase_ternaria == \"BAJA+2\")\n",
        "    ],\n",
        "    \"ganancia_test\" = ganancia_test_normalizada\n",
        "  ))\n",
        "}\n"
      ],
      "metadata": {
        "id": "ro9Ufoi-GimS"
      },
      "execution_count": null,
      "outputs": []
    },
    {
      "cell_type": "code",
      "source": [
        "# carpeta de trabajo\n",
        "setwd(\"/content/buckets/b1/exp\")\n",
        "experimento <- \"exp204\"\n",
        "dir.create(experimento, showWarnings=FALSE)\n",
        "setwd( paste0(\"/content/buckets/b1/exp/\", experimento ))"
      ],
      "metadata": {
        "id": "gz7LgltwGimT"
      },
      "execution_count": null,
      "outputs": []
    },
    {
      "cell_type": "code",
      "source": [
        "# lectura del dataset\n",
        "dataset <- fread(\"/content/datasets/dataset_pequeno.csv\")\n",
        "\n",
        "# trabajo solo con los datos con clase, es decir 202107\n",
        "dataset <- dataset[clase_ternaria != \"\"]"
      ],
      "metadata": {
        "id": "xRXKHeLeGimT"
      },
      "execution_count": null,
      "outputs": []
    },
    {
      "cell_type": "code",
      "source": [
        "# genero numeros primos\n",
        "primos <- generate_primes(min = 100000, max = 1000000)\n",
        "set.seed(PARAM$semilla_primigenia) # inicializo\n",
        "\n",
        "# me quedo con PARAM$qsemillas   semillas\n",
        "PARAM$semillas <- sample(primos, PARAM$qsemillas )"
      ],
      "metadata": {
        "id": "MdpZ10qiHSZy"
      },
      "execution_count": null,
      "outputs": []
    },
    {
      "cell_type": "code",
      "source": [
        "\n",
        "# la funcion mcmapply  llama a la funcion ArbolEstimarGanancia\n",
        "#  tantas veces como valores tenga el vector  PARAM$semillas\n",
        "salidas <- mcmapply(ArbolEstimarGanancia,\n",
        "  PARAM$semillas, # paso el vector de semillas\n",
        "  MoreArgs = list(PARAM), # aqui paso el segundo parametro\n",
        "  SIMPLIFY = FALSE,\n",
        "  mc.cores = detectCores()\n",
        ")\n",
        "\n",
        "# muestro la lista de las salidas en testing\n",
        "#  para la particion realizada con cada semilla\n",
        "salidas\n"
      ],
      "metadata": {
        "id": "r-YaawpgGimU",
        "outputId": "a10c9ec4-f09f-4619-b614-4d776cbd1352",
        "colab": {
          "base_uri": "https://localhost:8080/",
          "height": 1000
        }
      },
      "execution_count": null,
      "outputs": [
        {
          "output_type": "display_data",
          "data": {
            "text/html": [
              "<ol>\n",
              "\t<li><dl>\n",
              "\t<dt>$semilla</dt>\n",
              "\t\t<dd>555221</dd>\n",
              "\t<dt>$testing</dt>\n",
              "\t\t<dd>49389</dd>\n",
              "\t<dt>$testing_pos</dt>\n",
              "\t\t<dd>377</dd>\n",
              "\t<dt>$envios</dt>\n",
              "\t\t<dd>3677</dd>\n",
              "\t<dt>$aciertos</dt>\n",
              "\t\t<dd>200</dd>\n",
              "\t<dt>$ganancia_test</dt>\n",
              "\t\t<dd>43230000</dd>\n",
              "</dl>\n",
              "</li>\n",
              "\t<li><dl>\n",
              "\t<dt>$semilla</dt>\n",
              "\t\t<dd>736369</dd>\n",
              "\t<dt>$testing</dt>\n",
              "\t\t<dd>49388</dd>\n",
              "\t<dt>$testing_pos</dt>\n",
              "\t\t<dd>373</dd>\n",
              "\t<dt>$envios</dt>\n",
              "\t\t<dd>3607</dd>\n",
              "\t<dt>$aciertos</dt>\n",
              "\t\t<dd>212</dd>\n",
              "\t<dt>$ganancia_test</dt>\n",
              "\t\t<dd>48730000</dd>\n",
              "</dl>\n",
              "</li>\n",
              "\t<li><dl>\n",
              "\t<dt>$semilla</dt>\n",
              "\t\t<dd>885289</dd>\n",
              "\t<dt>$testing</dt>\n",
              "\t\t<dd>49376</dd>\n",
              "\t<dt>$testing_pos</dt>\n",
              "\t\t<dd>375</dd>\n",
              "\t<dt>$envios</dt>\n",
              "\t\t<dd>3203</dd>\n",
              "\t<dt>$aciertos</dt>\n",
              "\t\t<dd>192</dd>\n",
              "\t<dt>$ganancia_test</dt>\n",
              "\t\t<dd>44770000</dd>\n",
              "</dl>\n",
              "</li>\n",
              "\t<li><dl>\n",
              "\t<dt>$semilla</dt>\n",
              "\t\t<dd>402361</dd>\n",
              "\t<dt>$testing</dt>\n",
              "\t\t<dd>49368</dd>\n",
              "\t<dt>$testing_pos</dt>\n",
              "\t\t<dd>373</dd>\n",
              "\t<dt>$envios</dt>\n",
              "\t\t<dd>4057</dd>\n",
              "\t<dt>$aciertos</dt>\n",
              "\t\t<dd>227</dd>\n",
              "\t<dt>$ganancia_test</dt>\n",
              "\t\t<dd>50230000</dd>\n",
              "</dl>\n",
              "</li>\n",
              "\t<li><dl>\n",
              "\t<dt>$semilla</dt>\n",
              "\t\t<dd>815897</dd>\n",
              "\t<dt>$testing</dt>\n",
              "\t\t<dd>49371</dd>\n",
              "\t<dt>$testing_pos</dt>\n",
              "\t\t<dd>374</dd>\n",
              "\t<dt>$envios</dt>\n",
              "\t\t<dd>3432</dd>\n",
              "\t<dt>$aciertos</dt>\n",
              "\t\t<dd>225</dd>\n",
              "\t<dt>$ganancia_test</dt>\n",
              "\t\t<dd>55680000</dd>\n",
              "</dl>\n",
              "</li>\n",
              "\t<li><dl>\n",
              "\t<dt>$semilla</dt>\n",
              "\t\t<dd>580549</dd>\n",
              "\t<dt>$testing</dt>\n",
              "\t\t<dd>49383</dd>\n",
              "\t<dt>$testing_pos</dt>\n",
              "\t\t<dd>376</dd>\n",
              "\t<dt>$envios</dt>\n",
              "\t\t<dd>3690</dd>\n",
              "\t<dt>$aciertos</dt>\n",
              "\t\t<dd>220</dd>\n",
              "\t<dt>$ganancia_test</dt>\n",
              "\t\t<dd>51100000</dd>\n",
              "</dl>\n",
              "</li>\n",
              "\t<li><dl>\n",
              "\t<dt>$semilla</dt>\n",
              "\t\t<dd>171583</dd>\n",
              "\t<dt>$testing</dt>\n",
              "\t\t<dd>49379</dd>\n",
              "\t<dt>$testing_pos</dt>\n",
              "\t\t<dd>373</dd>\n",
              "\t<dt>$envios</dt>\n",
              "\t\t<dd>3182</dd>\n",
              "\t<dt>$aciertos</dt>\n",
              "\t\t<dd>201</dd>\n",
              "\t<dt>$ganancia_test</dt>\n",
              "\t\t<dd>48580000</dd>\n",
              "</dl>\n",
              "</li>\n",
              "\t<li><dl>\n",
              "\t<dt>$semilla</dt>\n",
              "\t\t<dd>360049</dd>\n",
              "\t<dt>$testing</dt>\n",
              "\t\t<dd>49373</dd>\n",
              "\t<dt>$testing_pos</dt>\n",
              "\t\t<dd>376</dd>\n",
              "\t<dt>$envios</dt>\n",
              "\t\t<dd>3449</dd>\n",
              "\t<dt>$aciertos</dt>\n",
              "\t\t<dd>209</dd>\n",
              "\t<dt>$ganancia_test</dt>\n",
              "\t\t<dd>49110000</dd>\n",
              "</dl>\n",
              "</li>\n",
              "\t<li><dl>\n",
              "\t<dt>$semilla</dt>\n",
              "\t\t<dd>564269</dd>\n",
              "\t<dt>$testing</dt>\n",
              "\t\t<dd>49372</dd>\n",
              "\t<dt>$testing_pos</dt>\n",
              "\t\t<dd>371</dd>\n",
              "\t<dt>$envios</dt>\n",
              "\t\t<dd>3014</dd>\n",
              "\t<dt>$aciertos</dt>\n",
              "\t\t<dd>209</dd>\n",
              "\t<dt>$ganancia_test</dt>\n",
              "\t\t<dd>53460000</dd>\n",
              "</dl>\n",
              "</li>\n",
              "\t<li><dl>\n",
              "\t<dt>$semilla</dt>\n",
              "\t\t<dd>544667</dd>\n",
              "\t<dt>$testing</dt>\n",
              "\t\t<dd>49386</dd>\n",
              "\t<dt>$testing_pos</dt>\n",
              "\t\t<dd>381</dd>\n",
              "\t<dt>$envios</dt>\n",
              "\t\t<dd>3550</dd>\n",
              "\t<dt>$aciertos</dt>\n",
              "\t\t<dd>204</dd>\n",
              "\t<dt>$ganancia_test</dt>\n",
              "\t\t<dd>46100000</dd>\n",
              "</dl>\n",
              "</li>\n",
              "\t<li><dl>\n",
              "\t<dt>$semilla</dt>\n",
              "\t\t<dd>885551</dd>\n",
              "\t<dt>$testing</dt>\n",
              "\t\t<dd>49370</dd>\n",
              "\t<dt>$testing_pos</dt>\n",
              "\t\t<dd>376</dd>\n",
              "\t<dt>$envios</dt>\n",
              "\t\t<dd>3601</dd>\n",
              "\t<dt>$aciertos</dt>\n",
              "\t\t<dd>213</dd>\n",
              "\t<dt>$ganancia_test</dt>\n",
              "\t\t<dd>49190000</dd>\n",
              "</dl>\n",
              "</li>\n",
              "\t<li><dl>\n",
              "\t<dt>$semilla</dt>\n",
              "\t\t<dd>916703</dd>\n",
              "\t<dt>$testing</dt>\n",
              "\t\t<dd>49387</dd>\n",
              "\t<dt>$testing_pos</dt>\n",
              "\t\t<dd>376</dd>\n",
              "\t<dt>$envios</dt>\n",
              "\t\t<dd>3018</dd>\n",
              "\t<dt>$aciertos</dt>\n",
              "\t\t<dd>192</dd>\n",
              "\t<dt>$ganancia_test</dt>\n",
              "\t\t<dd>46620000</dd>\n",
              "</dl>\n",
              "</li>\n",
              "\t<li><dl>\n",
              "\t<dt>$semilla</dt>\n",
              "\t\t<dd>191299</dd>\n",
              "\t<dt>$testing</dt>\n",
              "\t\t<dd>49383</dd>\n",
              "\t<dt>$testing_pos</dt>\n",
              "\t\t<dd>374</dd>\n",
              "\t<dt>$envios</dt>\n",
              "\t\t<dd>3892</dd>\n",
              "\t<dt>$aciertos</dt>\n",
              "\t\t<dd>215</dd>\n",
              "\t<dt>$ganancia_test</dt>\n",
              "\t\t<dd>47080000</dd>\n",
              "</dl>\n",
              "</li>\n",
              "\t<li><dl>\n",
              "\t<dt>$semilla</dt>\n",
              "\t\t<dd>970457</dd>\n",
              "\t<dt>$testing</dt>\n",
              "\t\t<dd>49373</dd>\n",
              "\t<dt>$testing_pos</dt>\n",
              "\t\t<dd>377</dd>\n",
              "\t<dt>$envios</dt>\n",
              "\t\t<dd>3175</dd>\n",
              "\t<dt>$aciertos</dt>\n",
              "\t\t<dd>203</dd>\n",
              "\t<dt>$ganancia_test</dt>\n",
              "\t\t<dd>49450000</dd>\n",
              "</dl>\n",
              "</li>\n",
              "\t<li><dl>\n",
              "\t<dt>$semilla</dt>\n",
              "\t\t<dd>208469</dd>\n",
              "\t<dt>$testing</dt>\n",
              "\t\t<dd>49380</dd>\n",
              "\t<dt>$testing_pos</dt>\n",
              "\t\t<dd>378</dd>\n",
              "\t<dt>$envios</dt>\n",
              "\t\t<dd>2589</dd>\n",
              "\t<dt>$aciertos</dt>\n",
              "\t\t<dd>189</dd>\n",
              "\t<dt>$ganancia_test</dt>\n",
              "\t\t<dd>49710000</dd>\n",
              "</dl>\n",
              "</li>\n",
              "\t<li><dl>\n",
              "\t<dt>$semilla</dt>\n",
              "\t\t<dd>375017</dd>\n",
              "\t<dt>$testing</dt>\n",
              "\t\t<dd>49383</dd>\n",
              "\t<dt>$testing_pos</dt>\n",
              "\t\t<dd>373</dd>\n",
              "\t<dt>$envios</dt>\n",
              "\t\t<dd>2598</dd>\n",
              "\t<dt>$aciertos</dt>\n",
              "\t\t<dd>195</dd>\n",
              "\t<dt>$ganancia_test</dt>\n",
              "\t\t<dd>52020000</dd>\n",
              "</dl>\n",
              "</li>\n",
              "\t<li><dl>\n",
              "\t<dt>$semilla</dt>\n",
              "\t\t<dd>804751</dd>\n",
              "\t<dt>$testing</dt>\n",
              "\t\t<dd>49371</dd>\n",
              "\t<dt>$testing_pos</dt>\n",
              "\t\t<dd>376</dd>\n",
              "\t<dt>$envios</dt>\n",
              "\t\t<dd>3711</dd>\n",
              "\t<dt>$aciertos</dt>\n",
              "\t\t<dd>224</dd>\n",
              "\t<dt>$ganancia_test</dt>\n",
              "\t\t<dd>52490000</dd>\n",
              "</dl>\n",
              "</li>\n",
              "\t<li><dl>\n",
              "\t<dt>$semilla</dt>\n",
              "\t\t<dd>243421</dd>\n",
              "\t<dt>$testing</dt>\n",
              "\t\t<dd>49391</dd>\n",
              "\t<dt>$testing_pos</dt>\n",
              "\t\t<dd>378</dd>\n",
              "\t<dt>$envios</dt>\n",
              "\t\t<dd>2834</dd>\n",
              "\t<dt>$aciertos</dt>\n",
              "\t\t<dd>189</dd>\n",
              "\t<dt>$ganancia_test</dt>\n",
              "\t\t<dd>47260000</dd>\n",
              "</dl>\n",
              "</li>\n",
              "\t<li><dl>\n",
              "\t<dt>$semilla</dt>\n",
              "\t\t<dd>642953</dd>\n",
              "\t<dt>$testing</dt>\n",
              "\t\t<dd>49382</dd>\n",
              "\t<dt>$testing_pos</dt>\n",
              "\t\t<dd>375</dd>\n",
              "\t<dt>$envios</dt>\n",
              "\t\t<dd>3046</dd>\n",
              "\t<dt>$aciertos</dt>\n",
              "\t\t<dd>191</dd>\n",
              "\t<dt>$ganancia_test</dt>\n",
              "\t\t<dd>45940000</dd>\n",
              "</dl>\n",
              "</li>\n",
              "\t<li><dl>\n",
              "\t<dt>$semilla</dt>\n",
              "\t\t<dd>127931</dd>\n",
              "\t<dt>$testing</dt>\n",
              "\t\t<dd>49383</dd>\n",
              "\t<dt>$testing_pos</dt>\n",
              "\t\t<dd>379</dd>\n",
              "\t<dt>$envios</dt>\n",
              "\t\t<dd>3793</dd>\n",
              "\t<dt>$aciertos</dt>\n",
              "\t\t<dd>223</dd>\n",
              "\t<dt>$ganancia_test</dt>\n",
              "\t\t<dd>51270000</dd>\n",
              "</dl>\n",
              "</li>\n",
              "\t<li><dl>\n",
              "\t<dt>$semilla</dt>\n",
              "\t\t<dd>937003</dd>\n",
              "\t<dt>$testing</dt>\n",
              "\t\t<dd>49383</dd>\n",
              "\t<dt>$testing_pos</dt>\n",
              "\t\t<dd>373</dd>\n",
              "\t<dt>$envios</dt>\n",
              "\t\t<dd>3517</dd>\n",
              "\t<dt>$aciertos</dt>\n",
              "\t\t<dd>199</dd>\n",
              "\t<dt>$ganancia_test</dt>\n",
              "\t\t<dd>44430000</dd>\n",
              "</dl>\n",
              "</li>\n",
              "\t<li><dl>\n",
              "\t<dt>$semilla</dt>\n",
              "\t\t<dd>592393</dd>\n",
              "\t<dt>$testing</dt>\n",
              "\t\t<dd>49375</dd>\n",
              "\t<dt>$testing_pos</dt>\n",
              "\t\t<dd>375</dd>\n",
              "\t<dt>$envios</dt>\n",
              "\t\t<dd>3061</dd>\n",
              "\t<dt>$aciertos</dt>\n",
              "\t\t<dd>194</dd>\n",
              "\t<dt>$ganancia_test</dt>\n",
              "\t\t<dd>46990000</dd>\n",
              "</dl>\n",
              "</li>\n",
              "\t<li><dl>\n",
              "\t<dt>$semilla</dt>\n",
              "\t\t<dd>106033</dd>\n",
              "\t<dt>$testing</dt>\n",
              "\t\t<dd>49391</dd>\n",
              "\t<dt>$testing_pos</dt>\n",
              "\t\t<dd>377</dd>\n",
              "\t<dt>$envios</dt>\n",
              "\t\t<dd>4108</dd>\n",
              "\t<dt>$aciertos</dt>\n",
              "\t\t<dd>226</dd>\n",
              "\t<dt>$ganancia_test</dt>\n",
              "\t\t<dd>49320000</dd>\n",
              "</dl>\n",
              "</li>\n",
              "\t<li><dl>\n",
              "\t<dt>$semilla</dt>\n",
              "\t\t<dd>307577</dd>\n",
              "\t<dt>$testing</dt>\n",
              "\t\t<dd>49390</dd>\n",
              "\t<dt>$testing_pos</dt>\n",
              "\t\t<dd>376</dd>\n",
              "\t<dt>$envios</dt>\n",
              "\t\t<dd>3627</dd>\n",
              "\t<dt>$aciertos</dt>\n",
              "\t\t<dd>224</dd>\n",
              "\t<dt>$ganancia_test</dt>\n",
              "\t\t<dd>53330000</dd>\n",
              "</dl>\n",
              "</li>\n",
              "\t<li><dl>\n",
              "\t<dt>$semilla</dt>\n",
              "\t\t<dd>844439</dd>\n",
              "\t<dt>$testing</dt>\n",
              "\t\t<dd>49383</dd>\n",
              "\t<dt>$testing_pos</dt>\n",
              "\t\t<dd>370</dd>\n",
              "\t<dt>$envios</dt>\n",
              "\t\t<dd>3324</dd>\n",
              "\t<dt>$aciertos</dt>\n",
              "\t\t<dd>212</dd>\n",
              "\t<dt>$ganancia_test</dt>\n",
              "\t\t<dd>51560000</dd>\n",
              "</dl>\n",
              "</li>\n",
              "\t<li><dl>\n",
              "\t<dt>$semilla</dt>\n",
              "\t\t<dd>925051</dd>\n",
              "\t<dt>$testing</dt>\n",
              "\t\t<dd>49390</dd>\n",
              "\t<dt>$testing_pos</dt>\n",
              "\t\t<dd>375</dd>\n",
              "\t<dt>$envios</dt>\n",
              "\t\t<dd>4375</dd>\n",
              "\t<dt>$aciertos</dt>\n",
              "\t\t<dd>230</dd>\n",
              "\t<dt>$ganancia_test</dt>\n",
              "\t\t<dd>48250000</dd>\n",
              "</dl>\n",
              "</li>\n",
              "\t<li><dl>\n",
              "\t<dt>$semilla</dt>\n",
              "\t\t<dd>393241</dd>\n",
              "\t<dt>$testing</dt>\n",
              "\t\t<dd>49387</dd>\n",
              "\t<dt>$testing_pos</dt>\n",
              "\t\t<dd>375</dd>\n",
              "\t<dt>$envios</dt>\n",
              "\t\t<dd>3850</dd>\n",
              "\t<dt>$aciertos</dt>\n",
              "\t\t<dd>219</dd>\n",
              "\t<dt>$ganancia_test</dt>\n",
              "\t\t<dd>49100000</dd>\n",
              "</dl>\n",
              "</li>\n",
              "\t<li><dl>\n",
              "\t<dt>$semilla</dt>\n",
              "\t\t<dd>385709</dd>\n",
              "\t<dt>$testing</dt>\n",
              "\t\t<dd>49378</dd>\n",
              "\t<dt>$testing_pos</dt>\n",
              "\t\t<dd>377</dd>\n",
              "\t<dt>$envios</dt>\n",
              "\t\t<dd>3827</dd>\n",
              "\t<dt>$aciertos</dt>\n",
              "\t\t<dd>217</dd>\n",
              "\t<dt>$ganancia_test</dt>\n",
              "\t\t<dd>48530000</dd>\n",
              "</dl>\n",
              "</li>\n",
              "\t<li><dl>\n",
              "\t<dt>$semilla</dt>\n",
              "\t\t<dd>379163</dd>\n",
              "\t<dt>$testing</dt>\n",
              "\t\t<dd>49379</dd>\n",
              "\t<dt>$testing_pos</dt>\n",
              "\t\t<dd>379</dd>\n",
              "\t<dt>$envios</dt>\n",
              "\t\t<dd>3854</dd>\n",
              "\t<dt>$aciertos</dt>\n",
              "\t\t<dd>212</dd>\n",
              "\t<dt>$ganancia_test</dt>\n",
              "\t\t<dd>46260000</dd>\n",
              "</dl>\n",
              "</li>\n",
              "\t<li><dl>\n",
              "\t<dt>$semilla</dt>\n",
              "\t\t<dd>703957</dd>\n",
              "\t<dt>$testing</dt>\n",
              "\t\t<dd>49373</dd>\n",
              "\t<dt>$testing_pos</dt>\n",
              "\t\t<dd>375</dd>\n",
              "\t<dt>$envios</dt>\n",
              "\t\t<dd>3367</dd>\n",
              "\t<dt>$aciertos</dt>\n",
              "\t\t<dd>215</dd>\n",
              "\t<dt>$ganancia_test</dt>\n",
              "\t\t<dd>52330000</dd>\n",
              "</dl>\n",
              "</li>\n",
              "\t<li><dl>\n",
              "\t<dt>$semilla</dt>\n",
              "\t\t<dd>803731</dd>\n",
              "\t<dt>$testing</dt>\n",
              "\t\t<dd>49383</dd>\n",
              "\t<dt>$testing_pos</dt>\n",
              "\t\t<dd>374</dd>\n",
              "\t<dt>$envios</dt>\n",
              "\t\t<dd>3364</dd>\n",
              "\t<dt>$aciertos</dt>\n",
              "\t\t<dd>196</dd>\n",
              "\t<dt>$ganancia_test</dt>\n",
              "\t\t<dd>44760000</dd>\n",
              "</dl>\n",
              "</li>\n",
              "\t<li><dl>\n",
              "\t<dt>$semilla</dt>\n",
              "\t\t<dd>692779</dd>\n",
              "\t<dt>$testing</dt>\n",
              "\t\t<dd>49375</dd>\n",
              "\t<dt>$testing_pos</dt>\n",
              "\t\t<dd>378</dd>\n",
              "\t<dt>$envios</dt>\n",
              "\t\t<dd>2781</dd>\n",
              "\t<dt>$aciertos</dt>\n",
              "\t\t<dd>191</dd>\n",
              "\t<dt>$ganancia_test</dt>\n",
              "\t\t<dd>48590000</dd>\n",
              "</dl>\n",
              "</li>\n",
              "\t<li><dl>\n",
              "\t<dt>$semilla</dt>\n",
              "\t\t<dd>690997</dd>\n",
              "\t<dt>$testing</dt>\n",
              "\t\t<dd>49373</dd>\n",
              "\t<dt>$testing_pos</dt>\n",
              "\t\t<dd>371</dd>\n",
              "\t<dt>$envios</dt>\n",
              "\t\t<dd>3554</dd>\n",
              "\t<dt>$aciertos</dt>\n",
              "\t\t<dd>182</dd>\n",
              "\t<dt>$ganancia_test</dt>\n",
              "\t\t<dd>37260000</dd>\n",
              "</dl>\n",
              "</li>\n",
              "\t<li><dl>\n",
              "\t<dt>$semilla</dt>\n",
              "\t\t<dd>403327</dd>\n",
              "\t<dt>$testing</dt>\n",
              "\t\t<dd>49366</dd>\n",
              "\t<dt>$testing_pos</dt>\n",
              "\t\t<dd>372</dd>\n",
              "\t<dt>$envios</dt>\n",
              "\t\t<dd>3610</dd>\n",
              "\t<dt>$aciertos</dt>\n",
              "\t\t<dd>200</dd>\n",
              "\t<dt>$ganancia_test</dt>\n",
              "\t\t<dd>43900000</dd>\n",
              "</dl>\n",
              "</li>\n",
              "\t<li><dl>\n",
              "\t<dt>$semilla</dt>\n",
              "\t\t<dd>991327</dd>\n",
              "\t<dt>$testing</dt>\n",
              "\t\t<dd>49378</dd>\n",
              "\t<dt>$testing_pos</dt>\n",
              "\t\t<dd>375</dd>\n",
              "\t<dt>$envios</dt>\n",
              "\t\t<dd>3629</dd>\n",
              "\t<dt>$aciertos</dt>\n",
              "\t\t<dd>222</dd>\n",
              "\t<dt>$ganancia_test</dt>\n",
              "\t\t<dd>52510000</dd>\n",
              "</dl>\n",
              "</li>\n",
              "\t<li><dl>\n",
              "\t<dt>$semilla</dt>\n",
              "\t\t<dd>911689</dd>\n",
              "\t<dt>$testing</dt>\n",
              "\t\t<dd>49378</dd>\n",
              "\t<dt>$testing_pos</dt>\n",
              "\t\t<dd>377</dd>\n",
              "\t<dt>$envios</dt>\n",
              "\t\t<dd>3792</dd>\n",
              "\t<dt>$aciertos</dt>\n",
              "\t\t<dd>216</dd>\n",
              "\t<dt>$ganancia_test</dt>\n",
              "\t\t<dd>48480000</dd>\n",
              "</dl>\n",
              "</li>\n",
              "\t<li><dl>\n",
              "\t<dt>$semilla</dt>\n",
              "\t\t<dd>602179</dd>\n",
              "\t<dt>$testing</dt>\n",
              "\t\t<dd>49368</dd>\n",
              "\t<dt>$testing_pos</dt>\n",
              "\t\t<dd>369</dd>\n",
              "\t<dt>$envios</dt>\n",
              "\t\t<dd>2591</dd>\n",
              "\t<dt>$aciertos</dt>\n",
              "\t\t<dd>189</dd>\n",
              "\t<dt>$ganancia_test</dt>\n",
              "\t\t<dd>49690000</dd>\n",
              "</dl>\n",
              "</li>\n",
              "\t<li><dl>\n",
              "\t<dt>$semilla</dt>\n",
              "\t\t<dd>764887</dd>\n",
              "\t<dt>$testing</dt>\n",
              "\t\t<dd>49375</dd>\n",
              "\t<dt>$testing_pos</dt>\n",
              "\t\t<dd>371</dd>\n",
              "\t<dt>$envios</dt>\n",
              "\t\t<dd>3517</dd>\n",
              "\t<dt>$aciertos</dt>\n",
              "\t\t<dd>208</dd>\n",
              "\t<dt>$ganancia_test</dt>\n",
              "\t\t<dd>48030000</dd>\n",
              "</dl>\n",
              "</li>\n",
              "\t<li><dl>\n",
              "\t<dt>$semilla</dt>\n",
              "\t\t<dd>417037</dd>\n",
              "\t<dt>$testing</dt>\n",
              "\t\t<dd>49379</dd>\n",
              "\t<dt>$testing_pos</dt>\n",
              "\t\t<dd>373</dd>\n",
              "\t<dt>$envios</dt>\n",
              "\t\t<dd>3000</dd>\n",
              "\t<dt>$aciertos</dt>\n",
              "\t\t<dd>187</dd>\n",
              "\t<dt>$ganancia_test</dt>\n",
              "\t\t<dd>44800000</dd>\n",
              "</dl>\n",
              "</li>\n",
              "\t<li><dl>\n",
              "\t<dt>$semilla</dt>\n",
              "\t\t<dd>351859</dd>\n",
              "\t<dt>$testing</dt>\n",
              "\t\t<dd>49380</dd>\n",
              "\t<dt>$testing_pos</dt>\n",
              "\t\t<dd>378</dd>\n",
              "\t<dt>$envios</dt>\n",
              "\t\t<dd>2703</dd>\n",
              "\t<dt>$aciertos</dt>\n",
              "\t\t<dd>186</dd>\n",
              "\t<dt>$ganancia_test</dt>\n",
              "\t\t<dd>47370000</dd>\n",
              "</dl>\n",
              "</li>\n",
              "\t<li><dl>\n",
              "\t<dt>$semilla</dt>\n",
              "\t\t<dd>631457</dd>\n",
              "\t<dt>$testing</dt>\n",
              "\t\t<dd>49385</dd>\n",
              "\t<dt>$testing_pos</dt>\n",
              "\t\t<dd>380</dd>\n",
              "\t<dt>$envios</dt>\n",
              "\t\t<dd>3614</dd>\n",
              "\t<dt>$aciertos</dt>\n",
              "\t\t<dd>209</dd>\n",
              "\t<dt>$ganancia_test</dt>\n",
              "\t\t<dd>47460000</dd>\n",
              "</dl>\n",
              "</li>\n",
              "\t<li><dl>\n",
              "\t<dt>$semilla</dt>\n",
              "\t\t<dd>515677</dd>\n",
              "\t<dt>$testing</dt>\n",
              "\t\t<dd>49382</dd>\n",
              "\t<dt>$testing_pos</dt>\n",
              "\t\t<dd>375</dd>\n",
              "\t<dt>$envios</dt>\n",
              "\t\t<dd>3356</dd>\n",
              "\t<dt>$aciertos</dt>\n",
              "\t\t<dd>214</dd>\n",
              "\t<dt>$ganancia_test</dt>\n",
              "\t\t<dd>52040000</dd>\n",
              "</dl>\n",
              "</li>\n",
              "\t<li><dl>\n",
              "\t<dt>$semilla</dt>\n",
              "\t\t<dd>686639</dd>\n",
              "\t<dt>$testing</dt>\n",
              "\t\t<dd>49377</dd>\n",
              "\t<dt>$testing_pos</dt>\n",
              "\t\t<dd>372</dd>\n",
              "\t<dt>$envios</dt>\n",
              "\t\t<dd>3599</dd>\n",
              "\t<dt>$aciertos</dt>\n",
              "\t\t<dd>219</dd>\n",
              "\t<dt>$ganancia_test</dt>\n",
              "\t\t<dd>51610000</dd>\n",
              "</dl>\n",
              "</li>\n",
              "\t<li><dl>\n",
              "\t<dt>$semilla</dt>\n",
              "\t\t<dd>243109</dd>\n",
              "\t<dt>$testing</dt>\n",
              "\t\t<dd>49388</dd>\n",
              "\t<dt>$testing_pos</dt>\n",
              "\t\t<dd>376</dd>\n",
              "\t<dt>$envios</dt>\n",
              "\t\t<dd>3296</dd>\n",
              "\t<dt>$aciertos</dt>\n",
              "\t\t<dd>201</dd>\n",
              "\t<dt>$ganancia_test</dt>\n",
              "\t\t<dd>47440000</dd>\n",
              "</dl>\n",
              "</li>\n",
              "\t<li><dl>\n",
              "\t<dt>$semilla</dt>\n",
              "\t\t<dd>588619</dd>\n",
              "\t<dt>$testing</dt>\n",
              "\t\t<dd>49373</dd>\n",
              "\t<dt>$testing_pos</dt>\n",
              "\t\t<dd>376</dd>\n",
              "\t<dt>$envios</dt>\n",
              "\t\t<dd>4221</dd>\n",
              "\t<dt>$aciertos</dt>\n",
              "\t\t<dd>239</dd>\n",
              "\t<dt>$ganancia_test</dt>\n",
              "\t\t<dd>53390000</dd>\n",
              "</dl>\n",
              "</li>\n",
              "\t<li><dl>\n",
              "\t<dt>$semilla</dt>\n",
              "\t\t<dd>292027</dd>\n",
              "\t<dt>$testing</dt>\n",
              "\t\t<dd>49383</dd>\n",
              "\t<dt>$testing_pos</dt>\n",
              "\t\t<dd>372</dd>\n",
              "\t<dt>$envios</dt>\n",
              "\t\t<dd>3353</dd>\n",
              "\t<dt>$aciertos</dt>\n",
              "\t\t<dd>196</dd>\n",
              "\t<dt>$ganancia_test</dt>\n",
              "\t\t<dd>44870000</dd>\n",
              "</dl>\n",
              "</li>\n",
              "\t<li><dl>\n",
              "\t<dt>$semilla</dt>\n",
              "\t\t<dd>492299</dd>\n",
              "\t<dt>$testing</dt>\n",
              "\t\t<dd>49384</dd>\n",
              "\t<dt>$testing_pos</dt>\n",
              "\t\t<dd>380</dd>\n",
              "\t<dt>$envios</dt>\n",
              "\t\t<dd>2908</dd>\n",
              "\t<dt>$aciertos</dt>\n",
              "\t\t<dd>187</dd>\n",
              "\t<dt>$ganancia_test</dt>\n",
              "\t\t<dd>45720000</dd>\n",
              "</dl>\n",
              "</li>\n",
              "\t<li><dl>\n",
              "\t<dt>$semilla</dt>\n",
              "\t\t<dd>563743</dd>\n",
              "\t<dt>$testing</dt>\n",
              "\t\t<dd>49379</dd>\n",
              "\t<dt>$testing_pos</dt>\n",
              "\t\t<dd>376</dd>\n",
              "\t<dt>$envios</dt>\n",
              "\t\t<dd>4439</dd>\n",
              "\t<dt>$aciertos</dt>\n",
              "\t\t<dd>234</dd>\n",
              "\t<dt>$ganancia_test</dt>\n",
              "\t\t<dd>49210000</dd>\n",
              "</dl>\n",
              "</li>\n",
              "\t<li><dl>\n",
              "\t<dt>$semilla</dt>\n",
              "\t\t<dd>792629</dd>\n",
              "\t<dt>$testing</dt>\n",
              "\t\t<dd>49377</dd>\n",
              "\t<dt>$testing_pos</dt>\n",
              "\t\t<dd>373</dd>\n",
              "\t<dt>$envios</dt>\n",
              "\t\t<dd>3769</dd>\n",
              "\t<dt>$aciertos</dt>\n",
              "\t\t<dd>222</dd>\n",
              "\t<dt>$ganancia_test</dt>\n",
              "\t\t<dd>51110000</dd>\n",
              "</dl>\n",
              "</li>\n",
              "\t<li><dl>\n",
              "\t<dt>$semilla</dt>\n",
              "\t\t<dd>736717</dd>\n",
              "\t<dt>$testing</dt>\n",
              "\t\t<dd>49385</dd>\n",
              "\t<dt>$testing_pos</dt>\n",
              "\t\t<dd>374</dd>\n",
              "\t<dt>$envios</dt>\n",
              "\t\t<dd>3314</dd>\n",
              "\t<dt>$aciertos</dt>\n",
              "\t\t<dd>209</dd>\n",
              "\t<dt>$ganancia_test</dt>\n",
              "\t\t<dd>50460000</dd>\n",
              "</dl>\n",
              "</li>\n",
              "</ol>\n"
            ],
            "text/markdown": "1. $semilla\n:   555221\n$testing\n:   49389\n$testing_pos\n:   377\n$envios\n:   3677\n$aciertos\n:   200\n$ganancia_test\n:   43230000\n\n\n\n2. $semilla\n:   736369\n$testing\n:   49388\n$testing_pos\n:   373\n$envios\n:   3607\n$aciertos\n:   212\n$ganancia_test\n:   48730000\n\n\n\n3. $semilla\n:   885289\n$testing\n:   49376\n$testing_pos\n:   375\n$envios\n:   3203\n$aciertos\n:   192\n$ganancia_test\n:   44770000\n\n\n\n4. $semilla\n:   402361\n$testing\n:   49368\n$testing_pos\n:   373\n$envios\n:   4057\n$aciertos\n:   227\n$ganancia_test\n:   50230000\n\n\n\n5. $semilla\n:   815897\n$testing\n:   49371\n$testing_pos\n:   374\n$envios\n:   3432\n$aciertos\n:   225\n$ganancia_test\n:   55680000\n\n\n\n6. $semilla\n:   580549\n$testing\n:   49383\n$testing_pos\n:   376\n$envios\n:   3690\n$aciertos\n:   220\n$ganancia_test\n:   51100000\n\n\n\n7. $semilla\n:   171583\n$testing\n:   49379\n$testing_pos\n:   373\n$envios\n:   3182\n$aciertos\n:   201\n$ganancia_test\n:   48580000\n\n\n\n8. $semilla\n:   360049\n$testing\n:   49373\n$testing_pos\n:   376\n$envios\n:   3449\n$aciertos\n:   209\n$ganancia_test\n:   49110000\n\n\n\n9. $semilla\n:   564269\n$testing\n:   49372\n$testing_pos\n:   371\n$envios\n:   3014\n$aciertos\n:   209\n$ganancia_test\n:   53460000\n\n\n\n10. $semilla\n:   544667\n$testing\n:   49386\n$testing_pos\n:   381\n$envios\n:   3550\n$aciertos\n:   204\n$ganancia_test\n:   46100000\n\n\n\n11. $semilla\n:   885551\n$testing\n:   49370\n$testing_pos\n:   376\n$envios\n:   3601\n$aciertos\n:   213\n$ganancia_test\n:   49190000\n\n\n\n12. $semilla\n:   916703\n$testing\n:   49387\n$testing_pos\n:   376\n$envios\n:   3018\n$aciertos\n:   192\n$ganancia_test\n:   46620000\n\n\n\n13. $semilla\n:   191299\n$testing\n:   49383\n$testing_pos\n:   374\n$envios\n:   3892\n$aciertos\n:   215\n$ganancia_test\n:   47080000\n\n\n\n14. $semilla\n:   970457\n$testing\n:   49373\n$testing_pos\n:   377\n$envios\n:   3175\n$aciertos\n:   203\n$ganancia_test\n:   49450000\n\n\n\n15. $semilla\n:   208469\n$testing\n:   49380\n$testing_pos\n:   378\n$envios\n:   2589\n$aciertos\n:   189\n$ganancia_test\n:   49710000\n\n\n\n16. $semilla\n:   375017\n$testing\n:   49383\n$testing_pos\n:   373\n$envios\n:   2598\n$aciertos\n:   195\n$ganancia_test\n:   52020000\n\n\n\n17. $semilla\n:   804751\n$testing\n:   49371\n$testing_pos\n:   376\n$envios\n:   3711\n$aciertos\n:   224\n$ganancia_test\n:   52490000\n\n\n\n18. $semilla\n:   243421\n$testing\n:   49391\n$testing_pos\n:   378\n$envios\n:   2834\n$aciertos\n:   189\n$ganancia_test\n:   47260000\n\n\n\n19. $semilla\n:   642953\n$testing\n:   49382\n$testing_pos\n:   375\n$envios\n:   3046\n$aciertos\n:   191\n$ganancia_test\n:   45940000\n\n\n\n20. $semilla\n:   127931\n$testing\n:   49383\n$testing_pos\n:   379\n$envios\n:   3793\n$aciertos\n:   223\n$ganancia_test\n:   51270000\n\n\n\n21. $semilla\n:   937003\n$testing\n:   49383\n$testing_pos\n:   373\n$envios\n:   3517\n$aciertos\n:   199\n$ganancia_test\n:   44430000\n\n\n\n22. $semilla\n:   592393\n$testing\n:   49375\n$testing_pos\n:   375\n$envios\n:   3061\n$aciertos\n:   194\n$ganancia_test\n:   46990000\n\n\n\n23. $semilla\n:   106033\n$testing\n:   49391\n$testing_pos\n:   377\n$envios\n:   4108\n$aciertos\n:   226\n$ganancia_test\n:   49320000\n\n\n\n24. $semilla\n:   307577\n$testing\n:   49390\n$testing_pos\n:   376\n$envios\n:   3627\n$aciertos\n:   224\n$ganancia_test\n:   53330000\n\n\n\n25. $semilla\n:   844439\n$testing\n:   49383\n$testing_pos\n:   370\n$envios\n:   3324\n$aciertos\n:   212\n$ganancia_test\n:   51560000\n\n\n\n26. $semilla\n:   925051\n$testing\n:   49390\n$testing_pos\n:   375\n$envios\n:   4375\n$aciertos\n:   230\n$ganancia_test\n:   48250000\n\n\n\n27. $semilla\n:   393241\n$testing\n:   49387\n$testing_pos\n:   375\n$envios\n:   3850\n$aciertos\n:   219\n$ganancia_test\n:   49100000\n\n\n\n28. $semilla\n:   385709\n$testing\n:   49378\n$testing_pos\n:   377\n$envios\n:   3827\n$aciertos\n:   217\n$ganancia_test\n:   48530000\n\n\n\n29. $semilla\n:   379163\n$testing\n:   49379\n$testing_pos\n:   379\n$envios\n:   3854\n$aciertos\n:   212\n$ganancia_test\n:   46260000\n\n\n\n30. $semilla\n:   703957\n$testing\n:   49373\n$testing_pos\n:   375\n$envios\n:   3367\n$aciertos\n:   215\n$ganancia_test\n:   52330000\n\n\n\n31. $semilla\n:   803731\n$testing\n:   49383\n$testing_pos\n:   374\n$envios\n:   3364\n$aciertos\n:   196\n$ganancia_test\n:   44760000\n\n\n\n32. $semilla\n:   692779\n$testing\n:   49375\n$testing_pos\n:   378\n$envios\n:   2781\n$aciertos\n:   191\n$ganancia_test\n:   48590000\n\n\n\n33. $semilla\n:   690997\n$testing\n:   49373\n$testing_pos\n:   371\n$envios\n:   3554\n$aciertos\n:   182\n$ganancia_test\n:   37260000\n\n\n\n34. $semilla\n:   403327\n$testing\n:   49366\n$testing_pos\n:   372\n$envios\n:   3610\n$aciertos\n:   200\n$ganancia_test\n:   43900000\n\n\n\n35. $semilla\n:   991327\n$testing\n:   49378\n$testing_pos\n:   375\n$envios\n:   3629\n$aciertos\n:   222\n$ganancia_test\n:   52510000\n\n\n\n36. $semilla\n:   911689\n$testing\n:   49378\n$testing_pos\n:   377\n$envios\n:   3792\n$aciertos\n:   216\n$ganancia_test\n:   48480000\n\n\n\n37. $semilla\n:   602179\n$testing\n:   49368\n$testing_pos\n:   369\n$envios\n:   2591\n$aciertos\n:   189\n$ganancia_test\n:   49690000\n\n\n\n38. $semilla\n:   764887\n$testing\n:   49375\n$testing_pos\n:   371\n$envios\n:   3517\n$aciertos\n:   208\n$ganancia_test\n:   48030000\n\n\n\n39. $semilla\n:   417037\n$testing\n:   49379\n$testing_pos\n:   373\n$envios\n:   3000\n$aciertos\n:   187\n$ganancia_test\n:   44800000\n\n\n\n40. $semilla\n:   351859\n$testing\n:   49380\n$testing_pos\n:   378\n$envios\n:   2703\n$aciertos\n:   186\n$ganancia_test\n:   47370000\n\n\n\n41. $semilla\n:   631457\n$testing\n:   49385\n$testing_pos\n:   380\n$envios\n:   3614\n$aciertos\n:   209\n$ganancia_test\n:   47460000\n\n\n\n42. $semilla\n:   515677\n$testing\n:   49382\n$testing_pos\n:   375\n$envios\n:   3356\n$aciertos\n:   214\n$ganancia_test\n:   52040000\n\n\n\n43. $semilla\n:   686639\n$testing\n:   49377\n$testing_pos\n:   372\n$envios\n:   3599\n$aciertos\n:   219\n$ganancia_test\n:   51610000\n\n\n\n44. $semilla\n:   243109\n$testing\n:   49388\n$testing_pos\n:   376\n$envios\n:   3296\n$aciertos\n:   201\n$ganancia_test\n:   47440000\n\n\n\n45. $semilla\n:   588619\n$testing\n:   49373\n$testing_pos\n:   376\n$envios\n:   4221\n$aciertos\n:   239\n$ganancia_test\n:   53390000\n\n\n\n46. $semilla\n:   292027\n$testing\n:   49383\n$testing_pos\n:   372\n$envios\n:   3353\n$aciertos\n:   196\n$ganancia_test\n:   44870000\n\n\n\n47. $semilla\n:   492299\n$testing\n:   49384\n$testing_pos\n:   380\n$envios\n:   2908\n$aciertos\n:   187\n$ganancia_test\n:   45720000\n\n\n\n48. $semilla\n:   563743\n$testing\n:   49379\n$testing_pos\n:   376\n$envios\n:   4439\n$aciertos\n:   234\n$ganancia_test\n:   49210000\n\n\n\n49. $semilla\n:   792629\n$testing\n:   49377\n$testing_pos\n:   373\n$envios\n:   3769\n$aciertos\n:   222\n$ganancia_test\n:   51110000\n\n\n\n50. $semilla\n:   736717\n$testing\n:   49385\n$testing_pos\n:   374\n$envios\n:   3314\n$aciertos\n:   209\n$ganancia_test\n:   50460000\n\n\n\n\n\n",
            "text/latex": "\\begin{enumerate}\n\\item \\begin{description}\n\\item[\\$semilla] 555221\n\\item[\\$testing] 49389\n\\item[\\$testing\\_pos] 377\n\\item[\\$envios] 3677\n\\item[\\$aciertos] 200\n\\item[\\$ganancia\\_test] 43230000\n\\end{description}\n\n\\item \\begin{description}\n\\item[\\$semilla] 736369\n\\item[\\$testing] 49388\n\\item[\\$testing\\_pos] 373\n\\item[\\$envios] 3607\n\\item[\\$aciertos] 212\n\\item[\\$ganancia\\_test] 48730000\n\\end{description}\n\n\\item \\begin{description}\n\\item[\\$semilla] 885289\n\\item[\\$testing] 49376\n\\item[\\$testing\\_pos] 375\n\\item[\\$envios] 3203\n\\item[\\$aciertos] 192\n\\item[\\$ganancia\\_test] 44770000\n\\end{description}\n\n\\item \\begin{description}\n\\item[\\$semilla] 402361\n\\item[\\$testing] 49368\n\\item[\\$testing\\_pos] 373\n\\item[\\$envios] 4057\n\\item[\\$aciertos] 227\n\\item[\\$ganancia\\_test] 50230000\n\\end{description}\n\n\\item \\begin{description}\n\\item[\\$semilla] 815897\n\\item[\\$testing] 49371\n\\item[\\$testing\\_pos] 374\n\\item[\\$envios] 3432\n\\item[\\$aciertos] 225\n\\item[\\$ganancia\\_test] 55680000\n\\end{description}\n\n\\item \\begin{description}\n\\item[\\$semilla] 580549\n\\item[\\$testing] 49383\n\\item[\\$testing\\_pos] 376\n\\item[\\$envios] 3690\n\\item[\\$aciertos] 220\n\\item[\\$ganancia\\_test] 51100000\n\\end{description}\n\n\\item \\begin{description}\n\\item[\\$semilla] 171583\n\\item[\\$testing] 49379\n\\item[\\$testing\\_pos] 373\n\\item[\\$envios] 3182\n\\item[\\$aciertos] 201\n\\item[\\$ganancia\\_test] 48580000\n\\end{description}\n\n\\item \\begin{description}\n\\item[\\$semilla] 360049\n\\item[\\$testing] 49373\n\\item[\\$testing\\_pos] 376\n\\item[\\$envios] 3449\n\\item[\\$aciertos] 209\n\\item[\\$ganancia\\_test] 49110000\n\\end{description}\n\n\\item \\begin{description}\n\\item[\\$semilla] 564269\n\\item[\\$testing] 49372\n\\item[\\$testing\\_pos] 371\n\\item[\\$envios] 3014\n\\item[\\$aciertos] 209\n\\item[\\$ganancia\\_test] 53460000\n\\end{description}\n\n\\item \\begin{description}\n\\item[\\$semilla] 544667\n\\item[\\$testing] 49386\n\\item[\\$testing\\_pos] 381\n\\item[\\$envios] 3550\n\\item[\\$aciertos] 204\n\\item[\\$ganancia\\_test] 46100000\n\\end{description}\n\n\\item \\begin{description}\n\\item[\\$semilla] 885551\n\\item[\\$testing] 49370\n\\item[\\$testing\\_pos] 376\n\\item[\\$envios] 3601\n\\item[\\$aciertos] 213\n\\item[\\$ganancia\\_test] 49190000\n\\end{description}\n\n\\item \\begin{description}\n\\item[\\$semilla] 916703\n\\item[\\$testing] 49387\n\\item[\\$testing\\_pos] 376\n\\item[\\$envios] 3018\n\\item[\\$aciertos] 192\n\\item[\\$ganancia\\_test] 46620000\n\\end{description}\n\n\\item \\begin{description}\n\\item[\\$semilla] 191299\n\\item[\\$testing] 49383\n\\item[\\$testing\\_pos] 374\n\\item[\\$envios] 3892\n\\item[\\$aciertos] 215\n\\item[\\$ganancia\\_test] 47080000\n\\end{description}\n\n\\item \\begin{description}\n\\item[\\$semilla] 970457\n\\item[\\$testing] 49373\n\\item[\\$testing\\_pos] 377\n\\item[\\$envios] 3175\n\\item[\\$aciertos] 203\n\\item[\\$ganancia\\_test] 49450000\n\\end{description}\n\n\\item \\begin{description}\n\\item[\\$semilla] 208469\n\\item[\\$testing] 49380\n\\item[\\$testing\\_pos] 378\n\\item[\\$envios] 2589\n\\item[\\$aciertos] 189\n\\item[\\$ganancia\\_test] 49710000\n\\end{description}\n\n\\item \\begin{description}\n\\item[\\$semilla] 375017\n\\item[\\$testing] 49383\n\\item[\\$testing\\_pos] 373\n\\item[\\$envios] 2598\n\\item[\\$aciertos] 195\n\\item[\\$ganancia\\_test] 52020000\n\\end{description}\n\n\\item \\begin{description}\n\\item[\\$semilla] 804751\n\\item[\\$testing] 49371\n\\item[\\$testing\\_pos] 376\n\\item[\\$envios] 3711\n\\item[\\$aciertos] 224\n\\item[\\$ganancia\\_test] 52490000\n\\end{description}\n\n\\item \\begin{description}\n\\item[\\$semilla] 243421\n\\item[\\$testing] 49391\n\\item[\\$testing\\_pos] 378\n\\item[\\$envios] 2834\n\\item[\\$aciertos] 189\n\\item[\\$ganancia\\_test] 47260000\n\\end{description}\n\n\\item \\begin{description}\n\\item[\\$semilla] 642953\n\\item[\\$testing] 49382\n\\item[\\$testing\\_pos] 375\n\\item[\\$envios] 3046\n\\item[\\$aciertos] 191\n\\item[\\$ganancia\\_test] 45940000\n\\end{description}\n\n\\item \\begin{description}\n\\item[\\$semilla] 127931\n\\item[\\$testing] 49383\n\\item[\\$testing\\_pos] 379\n\\item[\\$envios] 3793\n\\item[\\$aciertos] 223\n\\item[\\$ganancia\\_test] 51270000\n\\end{description}\n\n\\item \\begin{description}\n\\item[\\$semilla] 937003\n\\item[\\$testing] 49383\n\\item[\\$testing\\_pos] 373\n\\item[\\$envios] 3517\n\\item[\\$aciertos] 199\n\\item[\\$ganancia\\_test] 44430000\n\\end{description}\n\n\\item \\begin{description}\n\\item[\\$semilla] 592393\n\\item[\\$testing] 49375\n\\item[\\$testing\\_pos] 375\n\\item[\\$envios] 3061\n\\item[\\$aciertos] 194\n\\item[\\$ganancia\\_test] 46990000\n\\end{description}\n\n\\item \\begin{description}\n\\item[\\$semilla] 106033\n\\item[\\$testing] 49391\n\\item[\\$testing\\_pos] 377\n\\item[\\$envios] 4108\n\\item[\\$aciertos] 226\n\\item[\\$ganancia\\_test] 49320000\n\\end{description}\n\n\\item \\begin{description}\n\\item[\\$semilla] 307577\n\\item[\\$testing] 49390\n\\item[\\$testing\\_pos] 376\n\\item[\\$envios] 3627\n\\item[\\$aciertos] 224\n\\item[\\$ganancia\\_test] 53330000\n\\end{description}\n\n\\item \\begin{description}\n\\item[\\$semilla] 844439\n\\item[\\$testing] 49383\n\\item[\\$testing\\_pos] 370\n\\item[\\$envios] 3324\n\\item[\\$aciertos] 212\n\\item[\\$ganancia\\_test] 51560000\n\\end{description}\n\n\\item \\begin{description}\n\\item[\\$semilla] 925051\n\\item[\\$testing] 49390\n\\item[\\$testing\\_pos] 375\n\\item[\\$envios] 4375\n\\item[\\$aciertos] 230\n\\item[\\$ganancia\\_test] 48250000\n\\end{description}\n\n\\item \\begin{description}\n\\item[\\$semilla] 393241\n\\item[\\$testing] 49387\n\\item[\\$testing\\_pos] 375\n\\item[\\$envios] 3850\n\\item[\\$aciertos] 219\n\\item[\\$ganancia\\_test] 49100000\n\\end{description}\n\n\\item \\begin{description}\n\\item[\\$semilla] 385709\n\\item[\\$testing] 49378\n\\item[\\$testing\\_pos] 377\n\\item[\\$envios] 3827\n\\item[\\$aciertos] 217\n\\item[\\$ganancia\\_test] 48530000\n\\end{description}\n\n\\item \\begin{description}\n\\item[\\$semilla] 379163\n\\item[\\$testing] 49379\n\\item[\\$testing\\_pos] 379\n\\item[\\$envios] 3854\n\\item[\\$aciertos] 212\n\\item[\\$ganancia\\_test] 46260000\n\\end{description}\n\n\\item \\begin{description}\n\\item[\\$semilla] 703957\n\\item[\\$testing] 49373\n\\item[\\$testing\\_pos] 375\n\\item[\\$envios] 3367\n\\item[\\$aciertos] 215\n\\item[\\$ganancia\\_test] 52330000\n\\end{description}\n\n\\item \\begin{description}\n\\item[\\$semilla] 803731\n\\item[\\$testing] 49383\n\\item[\\$testing\\_pos] 374\n\\item[\\$envios] 3364\n\\item[\\$aciertos] 196\n\\item[\\$ganancia\\_test] 44760000\n\\end{description}\n\n\\item \\begin{description}\n\\item[\\$semilla] 692779\n\\item[\\$testing] 49375\n\\item[\\$testing\\_pos] 378\n\\item[\\$envios] 2781\n\\item[\\$aciertos] 191\n\\item[\\$ganancia\\_test] 48590000\n\\end{description}\n\n\\item \\begin{description}\n\\item[\\$semilla] 690997\n\\item[\\$testing] 49373\n\\item[\\$testing\\_pos] 371\n\\item[\\$envios] 3554\n\\item[\\$aciertos] 182\n\\item[\\$ganancia\\_test] 37260000\n\\end{description}\n\n\\item \\begin{description}\n\\item[\\$semilla] 403327\n\\item[\\$testing] 49366\n\\item[\\$testing\\_pos] 372\n\\item[\\$envios] 3610\n\\item[\\$aciertos] 200\n\\item[\\$ganancia\\_test] 43900000\n\\end{description}\n\n\\item \\begin{description}\n\\item[\\$semilla] 991327\n\\item[\\$testing] 49378\n\\item[\\$testing\\_pos] 375\n\\item[\\$envios] 3629\n\\item[\\$aciertos] 222\n\\item[\\$ganancia\\_test] 52510000\n\\end{description}\n\n\\item \\begin{description}\n\\item[\\$semilla] 911689\n\\item[\\$testing] 49378\n\\item[\\$testing\\_pos] 377\n\\item[\\$envios] 3792\n\\item[\\$aciertos] 216\n\\item[\\$ganancia\\_test] 48480000\n\\end{description}\n\n\\item \\begin{description}\n\\item[\\$semilla] 602179\n\\item[\\$testing] 49368\n\\item[\\$testing\\_pos] 369\n\\item[\\$envios] 2591\n\\item[\\$aciertos] 189\n\\item[\\$ganancia\\_test] 49690000\n\\end{description}\n\n\\item \\begin{description}\n\\item[\\$semilla] 764887\n\\item[\\$testing] 49375\n\\item[\\$testing\\_pos] 371\n\\item[\\$envios] 3517\n\\item[\\$aciertos] 208\n\\item[\\$ganancia\\_test] 48030000\n\\end{description}\n\n\\item \\begin{description}\n\\item[\\$semilla] 417037\n\\item[\\$testing] 49379\n\\item[\\$testing\\_pos] 373\n\\item[\\$envios] 3000\n\\item[\\$aciertos] 187\n\\item[\\$ganancia\\_test] 44800000\n\\end{description}\n\n\\item \\begin{description}\n\\item[\\$semilla] 351859\n\\item[\\$testing] 49380\n\\item[\\$testing\\_pos] 378\n\\item[\\$envios] 2703\n\\item[\\$aciertos] 186\n\\item[\\$ganancia\\_test] 47370000\n\\end{description}\n\n\\item \\begin{description}\n\\item[\\$semilla] 631457\n\\item[\\$testing] 49385\n\\item[\\$testing\\_pos] 380\n\\item[\\$envios] 3614\n\\item[\\$aciertos] 209\n\\item[\\$ganancia\\_test] 47460000\n\\end{description}\n\n\\item \\begin{description}\n\\item[\\$semilla] 515677\n\\item[\\$testing] 49382\n\\item[\\$testing\\_pos] 375\n\\item[\\$envios] 3356\n\\item[\\$aciertos] 214\n\\item[\\$ganancia\\_test] 52040000\n\\end{description}\n\n\\item \\begin{description}\n\\item[\\$semilla] 686639\n\\item[\\$testing] 49377\n\\item[\\$testing\\_pos] 372\n\\item[\\$envios] 3599\n\\item[\\$aciertos] 219\n\\item[\\$ganancia\\_test] 51610000\n\\end{description}\n\n\\item \\begin{description}\n\\item[\\$semilla] 243109\n\\item[\\$testing] 49388\n\\item[\\$testing\\_pos] 376\n\\item[\\$envios] 3296\n\\item[\\$aciertos] 201\n\\item[\\$ganancia\\_test] 47440000\n\\end{description}\n\n\\item \\begin{description}\n\\item[\\$semilla] 588619\n\\item[\\$testing] 49373\n\\item[\\$testing\\_pos] 376\n\\item[\\$envios] 4221\n\\item[\\$aciertos] 239\n\\item[\\$ganancia\\_test] 53390000\n\\end{description}\n\n\\item \\begin{description}\n\\item[\\$semilla] 292027\n\\item[\\$testing] 49383\n\\item[\\$testing\\_pos] 372\n\\item[\\$envios] 3353\n\\item[\\$aciertos] 196\n\\item[\\$ganancia\\_test] 44870000\n\\end{description}\n\n\\item \\begin{description}\n\\item[\\$semilla] 492299\n\\item[\\$testing] 49384\n\\item[\\$testing\\_pos] 380\n\\item[\\$envios] 2908\n\\item[\\$aciertos] 187\n\\item[\\$ganancia\\_test] 45720000\n\\end{description}\n\n\\item \\begin{description}\n\\item[\\$semilla] 563743\n\\item[\\$testing] 49379\n\\item[\\$testing\\_pos] 376\n\\item[\\$envios] 4439\n\\item[\\$aciertos] 234\n\\item[\\$ganancia\\_test] 49210000\n\\end{description}\n\n\\item \\begin{description}\n\\item[\\$semilla] 792629\n\\item[\\$testing] 49377\n\\item[\\$testing\\_pos] 373\n\\item[\\$envios] 3769\n\\item[\\$aciertos] 222\n\\item[\\$ganancia\\_test] 51110000\n\\end{description}\n\n\\item \\begin{description}\n\\item[\\$semilla] 736717\n\\item[\\$testing] 49385\n\\item[\\$testing\\_pos] 374\n\\item[\\$envios] 3314\n\\item[\\$aciertos] 209\n\\item[\\$ganancia\\_test] 50460000\n\\end{description}\n\n\\end{enumerate}\n",
            "text/plain": [
              "[[1]]\n",
              "[[1]]$semilla\n",
              "[1] 555221\n",
              "\n",
              "[[1]]$testing\n",
              "[1] 49389\n",
              "\n",
              "[[1]]$testing_pos\n",
              "[1] 377\n",
              "\n",
              "[[1]]$envios\n",
              "[1] 3677\n",
              "\n",
              "[[1]]$aciertos\n",
              "[1] 200\n",
              "\n",
              "[[1]]$ganancia_test\n",
              "[1] 43230000\n",
              "\n",
              "\n",
              "[[2]]\n",
              "[[2]]$semilla\n",
              "[1] 736369\n",
              "\n",
              "[[2]]$testing\n",
              "[1] 49388\n",
              "\n",
              "[[2]]$testing_pos\n",
              "[1] 373\n",
              "\n",
              "[[2]]$envios\n",
              "[1] 3607\n",
              "\n",
              "[[2]]$aciertos\n",
              "[1] 212\n",
              "\n",
              "[[2]]$ganancia_test\n",
              "[1] 48730000\n",
              "\n",
              "\n",
              "[[3]]\n",
              "[[3]]$semilla\n",
              "[1] 885289\n",
              "\n",
              "[[3]]$testing\n",
              "[1] 49376\n",
              "\n",
              "[[3]]$testing_pos\n",
              "[1] 375\n",
              "\n",
              "[[3]]$envios\n",
              "[1] 3203\n",
              "\n",
              "[[3]]$aciertos\n",
              "[1] 192\n",
              "\n",
              "[[3]]$ganancia_test\n",
              "[1] 44770000\n",
              "\n",
              "\n",
              "[[4]]\n",
              "[[4]]$semilla\n",
              "[1] 402361\n",
              "\n",
              "[[4]]$testing\n",
              "[1] 49368\n",
              "\n",
              "[[4]]$testing_pos\n",
              "[1] 373\n",
              "\n",
              "[[4]]$envios\n",
              "[1] 4057\n",
              "\n",
              "[[4]]$aciertos\n",
              "[1] 227\n",
              "\n",
              "[[4]]$ganancia_test\n",
              "[1] 50230000\n",
              "\n",
              "\n",
              "[[5]]\n",
              "[[5]]$semilla\n",
              "[1] 815897\n",
              "\n",
              "[[5]]$testing\n",
              "[1] 49371\n",
              "\n",
              "[[5]]$testing_pos\n",
              "[1] 374\n",
              "\n",
              "[[5]]$envios\n",
              "[1] 3432\n",
              "\n",
              "[[5]]$aciertos\n",
              "[1] 225\n",
              "\n",
              "[[5]]$ganancia_test\n",
              "[1] 55680000\n",
              "\n",
              "\n",
              "[[6]]\n",
              "[[6]]$semilla\n",
              "[1] 580549\n",
              "\n",
              "[[6]]$testing\n",
              "[1] 49383\n",
              "\n",
              "[[6]]$testing_pos\n",
              "[1] 376\n",
              "\n",
              "[[6]]$envios\n",
              "[1] 3690\n",
              "\n",
              "[[6]]$aciertos\n",
              "[1] 220\n",
              "\n",
              "[[6]]$ganancia_test\n",
              "[1] 51100000\n",
              "\n",
              "\n",
              "[[7]]\n",
              "[[7]]$semilla\n",
              "[1] 171583\n",
              "\n",
              "[[7]]$testing\n",
              "[1] 49379\n",
              "\n",
              "[[7]]$testing_pos\n",
              "[1] 373\n",
              "\n",
              "[[7]]$envios\n",
              "[1] 3182\n",
              "\n",
              "[[7]]$aciertos\n",
              "[1] 201\n",
              "\n",
              "[[7]]$ganancia_test\n",
              "[1] 48580000\n",
              "\n",
              "\n",
              "[[8]]\n",
              "[[8]]$semilla\n",
              "[1] 360049\n",
              "\n",
              "[[8]]$testing\n",
              "[1] 49373\n",
              "\n",
              "[[8]]$testing_pos\n",
              "[1] 376\n",
              "\n",
              "[[8]]$envios\n",
              "[1] 3449\n",
              "\n",
              "[[8]]$aciertos\n",
              "[1] 209\n",
              "\n",
              "[[8]]$ganancia_test\n",
              "[1] 49110000\n",
              "\n",
              "\n",
              "[[9]]\n",
              "[[9]]$semilla\n",
              "[1] 564269\n",
              "\n",
              "[[9]]$testing\n",
              "[1] 49372\n",
              "\n",
              "[[9]]$testing_pos\n",
              "[1] 371\n",
              "\n",
              "[[9]]$envios\n",
              "[1] 3014\n",
              "\n",
              "[[9]]$aciertos\n",
              "[1] 209\n",
              "\n",
              "[[9]]$ganancia_test\n",
              "[1] 53460000\n",
              "\n",
              "\n",
              "[[10]]\n",
              "[[10]]$semilla\n",
              "[1] 544667\n",
              "\n",
              "[[10]]$testing\n",
              "[1] 49386\n",
              "\n",
              "[[10]]$testing_pos\n",
              "[1] 381\n",
              "\n",
              "[[10]]$envios\n",
              "[1] 3550\n",
              "\n",
              "[[10]]$aciertos\n",
              "[1] 204\n",
              "\n",
              "[[10]]$ganancia_test\n",
              "[1] 46100000\n",
              "\n",
              "\n",
              "[[11]]\n",
              "[[11]]$semilla\n",
              "[1] 885551\n",
              "\n",
              "[[11]]$testing\n",
              "[1] 49370\n",
              "\n",
              "[[11]]$testing_pos\n",
              "[1] 376\n",
              "\n",
              "[[11]]$envios\n",
              "[1] 3601\n",
              "\n",
              "[[11]]$aciertos\n",
              "[1] 213\n",
              "\n",
              "[[11]]$ganancia_test\n",
              "[1] 49190000\n",
              "\n",
              "\n",
              "[[12]]\n",
              "[[12]]$semilla\n",
              "[1] 916703\n",
              "\n",
              "[[12]]$testing\n",
              "[1] 49387\n",
              "\n",
              "[[12]]$testing_pos\n",
              "[1] 376\n",
              "\n",
              "[[12]]$envios\n",
              "[1] 3018\n",
              "\n",
              "[[12]]$aciertos\n",
              "[1] 192\n",
              "\n",
              "[[12]]$ganancia_test\n",
              "[1] 46620000\n",
              "\n",
              "\n",
              "[[13]]\n",
              "[[13]]$semilla\n",
              "[1] 191299\n",
              "\n",
              "[[13]]$testing\n",
              "[1] 49383\n",
              "\n",
              "[[13]]$testing_pos\n",
              "[1] 374\n",
              "\n",
              "[[13]]$envios\n",
              "[1] 3892\n",
              "\n",
              "[[13]]$aciertos\n",
              "[1] 215\n",
              "\n",
              "[[13]]$ganancia_test\n",
              "[1] 47080000\n",
              "\n",
              "\n",
              "[[14]]\n",
              "[[14]]$semilla\n",
              "[1] 970457\n",
              "\n",
              "[[14]]$testing\n",
              "[1] 49373\n",
              "\n",
              "[[14]]$testing_pos\n",
              "[1] 377\n",
              "\n",
              "[[14]]$envios\n",
              "[1] 3175\n",
              "\n",
              "[[14]]$aciertos\n",
              "[1] 203\n",
              "\n",
              "[[14]]$ganancia_test\n",
              "[1] 49450000\n",
              "\n",
              "\n",
              "[[15]]\n",
              "[[15]]$semilla\n",
              "[1] 208469\n",
              "\n",
              "[[15]]$testing\n",
              "[1] 49380\n",
              "\n",
              "[[15]]$testing_pos\n",
              "[1] 378\n",
              "\n",
              "[[15]]$envios\n",
              "[1] 2589\n",
              "\n",
              "[[15]]$aciertos\n",
              "[1] 189\n",
              "\n",
              "[[15]]$ganancia_test\n",
              "[1] 49710000\n",
              "\n",
              "\n",
              "[[16]]\n",
              "[[16]]$semilla\n",
              "[1] 375017\n",
              "\n",
              "[[16]]$testing\n",
              "[1] 49383\n",
              "\n",
              "[[16]]$testing_pos\n",
              "[1] 373\n",
              "\n",
              "[[16]]$envios\n",
              "[1] 2598\n",
              "\n",
              "[[16]]$aciertos\n",
              "[1] 195\n",
              "\n",
              "[[16]]$ganancia_test\n",
              "[1] 52020000\n",
              "\n",
              "\n",
              "[[17]]\n",
              "[[17]]$semilla\n",
              "[1] 804751\n",
              "\n",
              "[[17]]$testing\n",
              "[1] 49371\n",
              "\n",
              "[[17]]$testing_pos\n",
              "[1] 376\n",
              "\n",
              "[[17]]$envios\n",
              "[1] 3711\n",
              "\n",
              "[[17]]$aciertos\n",
              "[1] 224\n",
              "\n",
              "[[17]]$ganancia_test\n",
              "[1] 52490000\n",
              "\n",
              "\n",
              "[[18]]\n",
              "[[18]]$semilla\n",
              "[1] 243421\n",
              "\n",
              "[[18]]$testing\n",
              "[1] 49391\n",
              "\n",
              "[[18]]$testing_pos\n",
              "[1] 378\n",
              "\n",
              "[[18]]$envios\n",
              "[1] 2834\n",
              "\n",
              "[[18]]$aciertos\n",
              "[1] 189\n",
              "\n",
              "[[18]]$ganancia_test\n",
              "[1] 47260000\n",
              "\n",
              "\n",
              "[[19]]\n",
              "[[19]]$semilla\n",
              "[1] 642953\n",
              "\n",
              "[[19]]$testing\n",
              "[1] 49382\n",
              "\n",
              "[[19]]$testing_pos\n",
              "[1] 375\n",
              "\n",
              "[[19]]$envios\n",
              "[1] 3046\n",
              "\n",
              "[[19]]$aciertos\n",
              "[1] 191\n",
              "\n",
              "[[19]]$ganancia_test\n",
              "[1] 45940000\n",
              "\n",
              "\n",
              "[[20]]\n",
              "[[20]]$semilla\n",
              "[1] 127931\n",
              "\n",
              "[[20]]$testing\n",
              "[1] 49383\n",
              "\n",
              "[[20]]$testing_pos\n",
              "[1] 379\n",
              "\n",
              "[[20]]$envios\n",
              "[1] 3793\n",
              "\n",
              "[[20]]$aciertos\n",
              "[1] 223\n",
              "\n",
              "[[20]]$ganancia_test\n",
              "[1] 51270000\n",
              "\n",
              "\n",
              "[[21]]\n",
              "[[21]]$semilla\n",
              "[1] 937003\n",
              "\n",
              "[[21]]$testing\n",
              "[1] 49383\n",
              "\n",
              "[[21]]$testing_pos\n",
              "[1] 373\n",
              "\n",
              "[[21]]$envios\n",
              "[1] 3517\n",
              "\n",
              "[[21]]$aciertos\n",
              "[1] 199\n",
              "\n",
              "[[21]]$ganancia_test\n",
              "[1] 44430000\n",
              "\n",
              "\n",
              "[[22]]\n",
              "[[22]]$semilla\n",
              "[1] 592393\n",
              "\n",
              "[[22]]$testing\n",
              "[1] 49375\n",
              "\n",
              "[[22]]$testing_pos\n",
              "[1] 375\n",
              "\n",
              "[[22]]$envios\n",
              "[1] 3061\n",
              "\n",
              "[[22]]$aciertos\n",
              "[1] 194\n",
              "\n",
              "[[22]]$ganancia_test\n",
              "[1] 46990000\n",
              "\n",
              "\n",
              "[[23]]\n",
              "[[23]]$semilla\n",
              "[1] 106033\n",
              "\n",
              "[[23]]$testing\n",
              "[1] 49391\n",
              "\n",
              "[[23]]$testing_pos\n",
              "[1] 377\n",
              "\n",
              "[[23]]$envios\n",
              "[1] 4108\n",
              "\n",
              "[[23]]$aciertos\n",
              "[1] 226\n",
              "\n",
              "[[23]]$ganancia_test\n",
              "[1] 49320000\n",
              "\n",
              "\n",
              "[[24]]\n",
              "[[24]]$semilla\n",
              "[1] 307577\n",
              "\n",
              "[[24]]$testing\n",
              "[1] 49390\n",
              "\n",
              "[[24]]$testing_pos\n",
              "[1] 376\n",
              "\n",
              "[[24]]$envios\n",
              "[1] 3627\n",
              "\n",
              "[[24]]$aciertos\n",
              "[1] 224\n",
              "\n",
              "[[24]]$ganancia_test\n",
              "[1] 53330000\n",
              "\n",
              "\n",
              "[[25]]\n",
              "[[25]]$semilla\n",
              "[1] 844439\n",
              "\n",
              "[[25]]$testing\n",
              "[1] 49383\n",
              "\n",
              "[[25]]$testing_pos\n",
              "[1] 370\n",
              "\n",
              "[[25]]$envios\n",
              "[1] 3324\n",
              "\n",
              "[[25]]$aciertos\n",
              "[1] 212\n",
              "\n",
              "[[25]]$ganancia_test\n",
              "[1] 51560000\n",
              "\n",
              "\n",
              "[[26]]\n",
              "[[26]]$semilla\n",
              "[1] 925051\n",
              "\n",
              "[[26]]$testing\n",
              "[1] 49390\n",
              "\n",
              "[[26]]$testing_pos\n",
              "[1] 375\n",
              "\n",
              "[[26]]$envios\n",
              "[1] 4375\n",
              "\n",
              "[[26]]$aciertos\n",
              "[1] 230\n",
              "\n",
              "[[26]]$ganancia_test\n",
              "[1] 48250000\n",
              "\n",
              "\n",
              "[[27]]\n",
              "[[27]]$semilla\n",
              "[1] 393241\n",
              "\n",
              "[[27]]$testing\n",
              "[1] 49387\n",
              "\n",
              "[[27]]$testing_pos\n",
              "[1] 375\n",
              "\n",
              "[[27]]$envios\n",
              "[1] 3850\n",
              "\n",
              "[[27]]$aciertos\n",
              "[1] 219\n",
              "\n",
              "[[27]]$ganancia_test\n",
              "[1] 49100000\n",
              "\n",
              "\n",
              "[[28]]\n",
              "[[28]]$semilla\n",
              "[1] 385709\n",
              "\n",
              "[[28]]$testing\n",
              "[1] 49378\n",
              "\n",
              "[[28]]$testing_pos\n",
              "[1] 377\n",
              "\n",
              "[[28]]$envios\n",
              "[1] 3827\n",
              "\n",
              "[[28]]$aciertos\n",
              "[1] 217\n",
              "\n",
              "[[28]]$ganancia_test\n",
              "[1] 48530000\n",
              "\n",
              "\n",
              "[[29]]\n",
              "[[29]]$semilla\n",
              "[1] 379163\n",
              "\n",
              "[[29]]$testing\n",
              "[1] 49379\n",
              "\n",
              "[[29]]$testing_pos\n",
              "[1] 379\n",
              "\n",
              "[[29]]$envios\n",
              "[1] 3854\n",
              "\n",
              "[[29]]$aciertos\n",
              "[1] 212\n",
              "\n",
              "[[29]]$ganancia_test\n",
              "[1] 46260000\n",
              "\n",
              "\n",
              "[[30]]\n",
              "[[30]]$semilla\n",
              "[1] 703957\n",
              "\n",
              "[[30]]$testing\n",
              "[1] 49373\n",
              "\n",
              "[[30]]$testing_pos\n",
              "[1] 375\n",
              "\n",
              "[[30]]$envios\n",
              "[1] 3367\n",
              "\n",
              "[[30]]$aciertos\n",
              "[1] 215\n",
              "\n",
              "[[30]]$ganancia_test\n",
              "[1] 52330000\n",
              "\n",
              "\n",
              "[[31]]\n",
              "[[31]]$semilla\n",
              "[1] 803731\n",
              "\n",
              "[[31]]$testing\n",
              "[1] 49383\n",
              "\n",
              "[[31]]$testing_pos\n",
              "[1] 374\n",
              "\n",
              "[[31]]$envios\n",
              "[1] 3364\n",
              "\n",
              "[[31]]$aciertos\n",
              "[1] 196\n",
              "\n",
              "[[31]]$ganancia_test\n",
              "[1] 44760000\n",
              "\n",
              "\n",
              "[[32]]\n",
              "[[32]]$semilla\n",
              "[1] 692779\n",
              "\n",
              "[[32]]$testing\n",
              "[1] 49375\n",
              "\n",
              "[[32]]$testing_pos\n",
              "[1] 378\n",
              "\n",
              "[[32]]$envios\n",
              "[1] 2781\n",
              "\n",
              "[[32]]$aciertos\n",
              "[1] 191\n",
              "\n",
              "[[32]]$ganancia_test\n",
              "[1] 48590000\n",
              "\n",
              "\n",
              "[[33]]\n",
              "[[33]]$semilla\n",
              "[1] 690997\n",
              "\n",
              "[[33]]$testing\n",
              "[1] 49373\n",
              "\n",
              "[[33]]$testing_pos\n",
              "[1] 371\n",
              "\n",
              "[[33]]$envios\n",
              "[1] 3554\n",
              "\n",
              "[[33]]$aciertos\n",
              "[1] 182\n",
              "\n",
              "[[33]]$ganancia_test\n",
              "[1] 37260000\n",
              "\n",
              "\n",
              "[[34]]\n",
              "[[34]]$semilla\n",
              "[1] 403327\n",
              "\n",
              "[[34]]$testing\n",
              "[1] 49366\n",
              "\n",
              "[[34]]$testing_pos\n",
              "[1] 372\n",
              "\n",
              "[[34]]$envios\n",
              "[1] 3610\n",
              "\n",
              "[[34]]$aciertos\n",
              "[1] 200\n",
              "\n",
              "[[34]]$ganancia_test\n",
              "[1] 43900000\n",
              "\n",
              "\n",
              "[[35]]\n",
              "[[35]]$semilla\n",
              "[1] 991327\n",
              "\n",
              "[[35]]$testing\n",
              "[1] 49378\n",
              "\n",
              "[[35]]$testing_pos\n",
              "[1] 375\n",
              "\n",
              "[[35]]$envios\n",
              "[1] 3629\n",
              "\n",
              "[[35]]$aciertos\n",
              "[1] 222\n",
              "\n",
              "[[35]]$ganancia_test\n",
              "[1] 52510000\n",
              "\n",
              "\n",
              "[[36]]\n",
              "[[36]]$semilla\n",
              "[1] 911689\n",
              "\n",
              "[[36]]$testing\n",
              "[1] 49378\n",
              "\n",
              "[[36]]$testing_pos\n",
              "[1] 377\n",
              "\n",
              "[[36]]$envios\n",
              "[1] 3792\n",
              "\n",
              "[[36]]$aciertos\n",
              "[1] 216\n",
              "\n",
              "[[36]]$ganancia_test\n",
              "[1] 48480000\n",
              "\n",
              "\n",
              "[[37]]\n",
              "[[37]]$semilla\n",
              "[1] 602179\n",
              "\n",
              "[[37]]$testing\n",
              "[1] 49368\n",
              "\n",
              "[[37]]$testing_pos\n",
              "[1] 369\n",
              "\n",
              "[[37]]$envios\n",
              "[1] 2591\n",
              "\n",
              "[[37]]$aciertos\n",
              "[1] 189\n",
              "\n",
              "[[37]]$ganancia_test\n",
              "[1] 49690000\n",
              "\n",
              "\n",
              "[[38]]\n",
              "[[38]]$semilla\n",
              "[1] 764887\n",
              "\n",
              "[[38]]$testing\n",
              "[1] 49375\n",
              "\n",
              "[[38]]$testing_pos\n",
              "[1] 371\n",
              "\n",
              "[[38]]$envios\n",
              "[1] 3517\n",
              "\n",
              "[[38]]$aciertos\n",
              "[1] 208\n",
              "\n",
              "[[38]]$ganancia_test\n",
              "[1] 48030000\n",
              "\n",
              "\n",
              "[[39]]\n",
              "[[39]]$semilla\n",
              "[1] 417037\n",
              "\n",
              "[[39]]$testing\n",
              "[1] 49379\n",
              "\n",
              "[[39]]$testing_pos\n",
              "[1] 373\n",
              "\n",
              "[[39]]$envios\n",
              "[1] 3000\n",
              "\n",
              "[[39]]$aciertos\n",
              "[1] 187\n",
              "\n",
              "[[39]]$ganancia_test\n",
              "[1] 44800000\n",
              "\n",
              "\n",
              "[[40]]\n",
              "[[40]]$semilla\n",
              "[1] 351859\n",
              "\n",
              "[[40]]$testing\n",
              "[1] 49380\n",
              "\n",
              "[[40]]$testing_pos\n",
              "[1] 378\n",
              "\n",
              "[[40]]$envios\n",
              "[1] 2703\n",
              "\n",
              "[[40]]$aciertos\n",
              "[1] 186\n",
              "\n",
              "[[40]]$ganancia_test\n",
              "[1] 47370000\n",
              "\n",
              "\n",
              "[[41]]\n",
              "[[41]]$semilla\n",
              "[1] 631457\n",
              "\n",
              "[[41]]$testing\n",
              "[1] 49385\n",
              "\n",
              "[[41]]$testing_pos\n",
              "[1] 380\n",
              "\n",
              "[[41]]$envios\n",
              "[1] 3614\n",
              "\n",
              "[[41]]$aciertos\n",
              "[1] 209\n",
              "\n",
              "[[41]]$ganancia_test\n",
              "[1] 47460000\n",
              "\n",
              "\n",
              "[[42]]\n",
              "[[42]]$semilla\n",
              "[1] 515677\n",
              "\n",
              "[[42]]$testing\n",
              "[1] 49382\n",
              "\n",
              "[[42]]$testing_pos\n",
              "[1] 375\n",
              "\n",
              "[[42]]$envios\n",
              "[1] 3356\n",
              "\n",
              "[[42]]$aciertos\n",
              "[1] 214\n",
              "\n",
              "[[42]]$ganancia_test\n",
              "[1] 52040000\n",
              "\n",
              "\n",
              "[[43]]\n",
              "[[43]]$semilla\n",
              "[1] 686639\n",
              "\n",
              "[[43]]$testing\n",
              "[1] 49377\n",
              "\n",
              "[[43]]$testing_pos\n",
              "[1] 372\n",
              "\n",
              "[[43]]$envios\n",
              "[1] 3599\n",
              "\n",
              "[[43]]$aciertos\n",
              "[1] 219\n",
              "\n",
              "[[43]]$ganancia_test\n",
              "[1] 51610000\n",
              "\n",
              "\n",
              "[[44]]\n",
              "[[44]]$semilla\n",
              "[1] 243109\n",
              "\n",
              "[[44]]$testing\n",
              "[1] 49388\n",
              "\n",
              "[[44]]$testing_pos\n",
              "[1] 376\n",
              "\n",
              "[[44]]$envios\n",
              "[1] 3296\n",
              "\n",
              "[[44]]$aciertos\n",
              "[1] 201\n",
              "\n",
              "[[44]]$ganancia_test\n",
              "[1] 47440000\n",
              "\n",
              "\n",
              "[[45]]\n",
              "[[45]]$semilla\n",
              "[1] 588619\n",
              "\n",
              "[[45]]$testing\n",
              "[1] 49373\n",
              "\n",
              "[[45]]$testing_pos\n",
              "[1] 376\n",
              "\n",
              "[[45]]$envios\n",
              "[1] 4221\n",
              "\n",
              "[[45]]$aciertos\n",
              "[1] 239\n",
              "\n",
              "[[45]]$ganancia_test\n",
              "[1] 53390000\n",
              "\n",
              "\n",
              "[[46]]\n",
              "[[46]]$semilla\n",
              "[1] 292027\n",
              "\n",
              "[[46]]$testing\n",
              "[1] 49383\n",
              "\n",
              "[[46]]$testing_pos\n",
              "[1] 372\n",
              "\n",
              "[[46]]$envios\n",
              "[1] 3353\n",
              "\n",
              "[[46]]$aciertos\n",
              "[1] 196\n",
              "\n",
              "[[46]]$ganancia_test\n",
              "[1] 44870000\n",
              "\n",
              "\n",
              "[[47]]\n",
              "[[47]]$semilla\n",
              "[1] 492299\n",
              "\n",
              "[[47]]$testing\n",
              "[1] 49384\n",
              "\n",
              "[[47]]$testing_pos\n",
              "[1] 380\n",
              "\n",
              "[[47]]$envios\n",
              "[1] 2908\n",
              "\n",
              "[[47]]$aciertos\n",
              "[1] 187\n",
              "\n",
              "[[47]]$ganancia_test\n",
              "[1] 45720000\n",
              "\n",
              "\n",
              "[[48]]\n",
              "[[48]]$semilla\n",
              "[1] 563743\n",
              "\n",
              "[[48]]$testing\n",
              "[1] 49379\n",
              "\n",
              "[[48]]$testing_pos\n",
              "[1] 376\n",
              "\n",
              "[[48]]$envios\n",
              "[1] 4439\n",
              "\n",
              "[[48]]$aciertos\n",
              "[1] 234\n",
              "\n",
              "[[48]]$ganancia_test\n",
              "[1] 49210000\n",
              "\n",
              "\n",
              "[[49]]\n",
              "[[49]]$semilla\n",
              "[1] 792629\n",
              "\n",
              "[[49]]$testing\n",
              "[1] 49377\n",
              "\n",
              "[[49]]$testing_pos\n",
              "[1] 373\n",
              "\n",
              "[[49]]$envios\n",
              "[1] 3769\n",
              "\n",
              "[[49]]$aciertos\n",
              "[1] 222\n",
              "\n",
              "[[49]]$ganancia_test\n",
              "[1] 51110000\n",
              "\n",
              "\n",
              "[[50]]\n",
              "[[50]]$semilla\n",
              "[1] 736717\n",
              "\n",
              "[[50]]$testing\n",
              "[1] 49385\n",
              "\n",
              "[[50]]$testing_pos\n",
              "[1] 374\n",
              "\n",
              "[[50]]$envios\n",
              "[1] 3314\n",
              "\n",
              "[[50]]$aciertos\n",
              "[1] 209\n",
              "\n",
              "[[50]]$ganancia_test\n",
              "[1] 50460000\n",
              "\n"
            ]
          },
          "metadata": {}
        }
      ]
    },
    {
      "cell_type": "code",
      "source": [
        "# paso la lista a vector\n",
        "tb_salida <- rbindlist(salidas)\n",
        "print( tb_salida)"
      ],
      "metadata": {
        "id": "unGWiKRMGimU",
        "outputId": "537b35b8-cb6b-42e5-ef95-7f4301fe2f5a",
        "colab": {
          "base_uri": "https://localhost:8080/"
        }
      },
      "execution_count": null,
      "outputs": [
        {
          "output_type": "stream",
          "name": "stdout",
          "text": [
            "    semilla testing testing_pos envios aciertos ganancia_test\n",
            "      <int>   <int>       <int>  <int>    <int>         <num>\n",
            " 1:  555221   49389         377   3677      200      43230000\n",
            " 2:  736369   49388         373   3607      212      48730000\n",
            " 3:  885289   49376         375   3203      192      44770000\n",
            " 4:  402361   49368         373   4057      227      50230000\n",
            " 5:  815897   49371         374   3432      225      55680000\n",
            " 6:  580549   49383         376   3690      220      51100000\n",
            " 7:  171583   49379         373   3182      201      48580000\n",
            " 8:  360049   49373         376   3449      209      49110000\n",
            " 9:  564269   49372         371   3014      209      53460000\n",
            "10:  544667   49386         381   3550      204      46100000\n",
            "11:  885551   49370         376   3601      213      49190000\n",
            "12:  916703   49387         376   3018      192      46620000\n",
            "13:  191299   49383         374   3892      215      47080000\n",
            "14:  970457   49373         377   3175      203      49450000\n",
            "15:  208469   49380         378   2589      189      49710000\n",
            "16:  375017   49383         373   2598      195      52020000\n",
            "17:  804751   49371         376   3711      224      52490000\n",
            "18:  243421   49391         378   2834      189      47260000\n",
            "19:  642953   49382         375   3046      191      45940000\n",
            "20:  127931   49383         379   3793      223      51270000\n",
            "21:  937003   49383         373   3517      199      44430000\n",
            "22:  592393   49375         375   3061      194      46990000\n",
            "23:  106033   49391         377   4108      226      49320000\n",
            "24:  307577   49390         376   3627      224      53330000\n",
            "25:  844439   49383         370   3324      212      51560000\n",
            "26:  925051   49390         375   4375      230      48250000\n",
            "27:  393241   49387         375   3850      219      49100000\n",
            "28:  385709   49378         377   3827      217      48530000\n",
            "29:  379163   49379         379   3854      212      46260000\n",
            "30:  703957   49373         375   3367      215      52330000\n",
            "31:  803731   49383         374   3364      196      44760000\n",
            "32:  692779   49375         378   2781      191      48590000\n",
            "33:  690997   49373         371   3554      182      37260000\n",
            "34:  403327   49366         372   3610      200      43900000\n",
            "35:  991327   49378         375   3629      222      52510000\n",
            "36:  911689   49378         377   3792      216      48480000\n",
            "37:  602179   49368         369   2591      189      49690000\n",
            "38:  764887   49375         371   3517      208      48030000\n",
            "39:  417037   49379         373   3000      187      44800000\n",
            "40:  351859   49380         378   2703      186      47370000\n",
            "41:  631457   49385         380   3614      209      47460000\n",
            "42:  515677   49382         375   3356      214      52040000\n",
            "43:  686639   49377         372   3599      219      51610000\n",
            "44:  243109   49388         376   3296      201      47440000\n",
            "45:  588619   49373         376   4221      239      53390000\n",
            "46:  292027   49383         372   3353      196      44870000\n",
            "47:  492299   49384         380   2908      187      45720000\n",
            "48:  563743   49379         376   4439      234      49210000\n",
            "49:  792629   49377         373   3769      222      51110000\n",
            "50:  736717   49385         374   3314      209      50460000\n",
            "    semilla testing testing_pos envios aciertos ganancia_test\n"
          ]
        }
      ]
    },
    {
      "cell_type": "code",
      "source": [
        "# calulo la salida\n",
        "for( i in seq(10, 50, 10) )\n",
        "{\n",
        "  cat( i, \"\\t\", tb_salida[ 1:i, mean(ganancia_test)], \"\\n\" )\n",
        "}\n"
      ],
      "metadata": {
        "id": "oGoadhBKGimV",
        "outputId": "39f4c15e-abd9-4beb-e53a-8ad58d55c937",
        "colab": {
          "base_uri": "https://localhost:8080/"
        }
      },
      "execution_count": null,
      "outputs": [
        {
          "output_type": "stream",
          "name": "stdout",
          "text": [
            "10 \t 49099000 \n",
            "20 \t 49101000 \n",
            "30 \t 49070667 \n",
            "40 \t 48437750 \n",
            "50 \t 48616400 \n"
          ]
        }
      ]
    },
    {
      "cell_type": "markdown",
      "source": [
        "### Acciones a realizar\n",
        "* Reportar la  los resultados en la planilla colaborativa hoja  **C2-nsem**\n",
        "* Se discutirá en clase la variabilidad de las distintas cantidades de semillas"
      ],
      "metadata": {
        "id": "dO9yQKt7GimV"
      }
    },
    {
      "cell_type": "markdown",
      "source": [
        "\n",
        "\n",
        "---\n",
        "\n"
      ],
      "metadata": {
        "id": "ziFKwIlBGimW"
      }
    },
    {
      "cell_type": "markdown",
      "source": [
        "# 5  DiezMil -Monte Carlo Cross Validation\n",
        "## Clase 02  Experimento 5"
      ],
      "metadata": {
        "id": "2jncHe-KJLUg"
      }
    },
    {
      "cell_type": "markdown",
      "source": [
        "Mostrar a los estudiantes el resultado de un experimento en donde se ha corrido una Monte Carlo Cross Validation utilizando diez mil semillas y relacionar la cantidad de semillas con el resultado del Teorema Central del Límite\n",
        "<br>Los resultados se muestran en esta misma guia y se comentan en clase,Bajo ningún concepto se solicitará a l@s estudiantes hacer este experimento en clase ya que lleva varias horas en correr.\n"
      ],
      "metadata": {
        "id": "vUzSGZGOJZq8"
      }
    },
    {
      "cell_type": "markdown",
      "source": [
        "Aqui usted NO debe correr absolutamente nada, el experimento ya fue corrido por la cátedra y le muestra los resultados."
      ],
      "metadata": {
        "id": "G0YGjTMxuTSg"
      }
    },
    {
      "cell_type": "markdown",
      "source": [
        "## 5.1\n",
        "Estos resultados han sido corridos por la cátedra.\n",
        "\n",
        "![Distribucion de las ganancias](https://storage.googleapis.com/open-courses/austral2025-af91/labo1r/C2_E5_distribucion.jpg)"
      ],
      "metadata": {
        "id": "7NRUb3WtJikc"
      }
    },
    {
      "cell_type": "markdown",
      "source": [
        "![salida](https://storage.googleapis.com/open-courses/austral2025-af91/labo1r/C2_E5_salida.jpg)"
      ],
      "metadata": {
        "id": "tZ4X8wdSKc7G"
      }
    },
    {
      "cell_type": "markdown",
      "source": [
        "![tabla](https://storage.googleapis.com/open-courses/austral2025-af91/labo1r/C2_E5_tabla.jpg)\n",
        "\n",
        " 2    ~    1,96  =  3605406.2 / 1836264.3\n",
        "\n",
        "Por el teorema central del límite, un aumento de 4 veces de la cantidad de registros que se promedian el desvio estandar disminuye 2 veces ,  raiz(4 ) = 2"
      ],
      "metadata": {
        "id": "EsL5ukNWKS71"
      }
    },
    {
      "cell_type": "markdown",
      "source": [
        "\n",
        "\n",
        "---\n",
        "\n"
      ],
      "metadata": {
        "id": "OTLq8TC4LR0c"
      }
    },
    {
      "cell_type": "markdown",
      "source": [
        "# 6 Comparando dos distintos  modelos\n",
        "## Clase 02  Experimento 6"
      ],
      "metadata": {
        "id": "sAS1bfL8LmBv"
      }
    },
    {
      "cell_type": "markdown",
      "source": [
        "## 6.1  Objetivos\n",
        "Presentar a los alumnos la dificultad que se presenta ante la comparación de dos modelos, uno posee un poder predictivo claramente mayor al otro.\n",
        "Comparación simple de media de ganancias, versus probabilidad que un modelo sea superior a otro."
      ],
      "metadata": {
        "id": "KzwdMJDZLmB9"
      }
    },
    {
      "cell_type": "markdown",
      "source": [
        "## 6.2 Introduccion\n",
        "Estos son los dos arboles de muy distinta profundidad.\n",
        "<br>¿Cuál de ellos es mejor? ¿Cuál elijo?\n",
        "\n",
        "| Hiperparámetro | Arbol 1 | Arbol 2 |\n",
        "| --- | --: |  ---: |\n",
        "| cp | -1 | -1 |\n",
        "|minsplit | 170 | 250 |\n",
        "|minbucket | 70 | 125 |\n",
        "|maxdepth | 7 | 20 |\n",
        "\n"
      ],
      "metadata": {
        "id": "DDyFNmJ9L_CW"
      }
    },
    {
      "cell_type": "markdown",
      "source": [
        "## 6.3 Codigo dos distintos modelos"
      ],
      "metadata": {
        "id": "bQfwNsVzNrtI"
      }
    },
    {
      "cell_type": "markdown",
      "source": [
        "Esta parte se debe correr con el runtime en lenguaje **R** Ir al menu, Runtime -> Change Runtime Tipe -> Runtime type -> R"
      ],
      "metadata": {
        "id": "Ku7qQgKjNruJ"
      }
    },
    {
      "cell_type": "markdown",
      "source": [
        "El tiempo de corrida es de alrededor de 40 minutos"
      ],
      "metadata": {
        "id": "6jCdS3NMuKei"
      }
    },
    {
      "cell_type": "markdown",
      "source": [
        "limpio el ambiente de R"
      ],
      "metadata": {
        "id": "Z1EUBeHyNruK"
      }
    },
    {
      "cell_type": "code",
      "source": [
        "# limpio la memoria\n",
        "rm(list=ls(all.names=TRUE)) # remove all objects\n",
        "gc(full=TRUE, verbose=FALSE) # garbage collection"
      ],
      "metadata": {
        "id": "GxbC4V3zNruM",
        "colab": {
          "base_uri": "https://localhost:8080/",
          "height": 129
        },
        "outputId": "11d7d431-6338-418f-9cfd-b88358235db5"
      },
      "execution_count": 1,
      "outputs": [
        {
          "output_type": "display_data",
          "data": {
            "text/html": [
              "<table class=\"dataframe\">\n",
              "<caption>A matrix: 2 × 6 of type dbl</caption>\n",
              "<thead>\n",
              "\t<tr><th></th><th scope=col>used</th><th scope=col>(Mb)</th><th scope=col>gc trigger</th><th scope=col>(Mb)</th><th scope=col>max used</th><th scope=col>(Mb)</th></tr>\n",
              "</thead>\n",
              "<tbody>\n",
              "\t<tr><th scope=row>Ncells</th><td> 657244</td><td>35.2</td><td>1454474</td><td>77.7</td><td>1326118</td><td>70.9</td></tr>\n",
              "\t<tr><th scope=row>Vcells</th><td>1220271</td><td> 9.4</td><td>8388608</td><td>64.0</td><td>1975128</td><td>15.1</td></tr>\n",
              "</tbody>\n",
              "</table>\n"
            ],
            "text/markdown": "\nA matrix: 2 × 6 of type dbl\n\n| <!--/--> | used | (Mb) | gc trigger | (Mb) | max used | (Mb) |\n|---|---|---|---|---|---|---|\n| Ncells |  657244 | 35.2 | 1454474 | 77.7 | 1326118 | 70.9 |\n| Vcells | 1220271 |  9.4 | 8388608 | 64.0 | 1975128 | 15.1 |\n\n",
            "text/latex": "A matrix: 2 × 6 of type dbl\n\\begin{tabular}{r|llllll}\n  & used & (Mb) & gc trigger & (Mb) & max used & (Mb)\\\\\n\\hline\n\tNcells &  657244 & 35.2 & 1454474 & 77.7 & 1326118 & 70.9\\\\\n\tVcells & 1220271 &  9.4 & 8388608 & 64.0 & 1975128 & 15.1\\\\\n\\end{tabular}\n",
            "text/plain": [
              "       used    (Mb) gc trigger (Mb) max used (Mb)\n",
              "Ncells  657244 35.2 1454474    77.7 1326118  70.9\n",
              "Vcells 1220271  9.4 8388608    64.0 1975128  15.1"
            ]
          },
          "metadata": {}
        }
      ]
    },
    {
      "cell_type": "markdown",
      "source": [
        "* Instalacion de la libreria  rpart.plot  para dibujar el arbol\n",
        "* invocacion de las librerias  **data.table** y  **rpart**"
      ],
      "metadata": {
        "id": "i2WkSCIhNruQ"
      }
    },
    {
      "cell_type": "code",
      "source": [
        "# cargo las librerias que necesito\n",
        "require(\"data.table\")\n",
        "require(\"rpart\")\n",
        "require(\"parallel\")\n",
        "\n",
        "if (!require(\"primes\")) install.packages(\"primes\")\n",
        "require(\"primes\")\n",
        "\n",
        "require(\"ggplot2\")"
      ],
      "metadata": {
        "id": "3bMsgZJWNruR",
        "colab": {
          "base_uri": "https://localhost:8080/"
        },
        "outputId": "6141aee8-fba5-4b74-c355-987aca71a962"
      },
      "execution_count": 2,
      "outputs": [
        {
          "output_type": "stream",
          "name": "stderr",
          "text": [
            "Loading required package: data.table\n",
            "\n",
            "Loading required package: rpart\n",
            "\n",
            "Loading required package: parallel\n",
            "\n",
            "Loading required package: primes\n",
            "\n",
            "Warning message in library(package, lib.loc = lib.loc, character.only = TRUE, logical.return = TRUE, :\n",
            "“there is no package called ‘primes’”\n",
            "Installing package into ‘/usr/local/lib/R/site-library’\n",
            "(as ‘lib’ is unspecified)\n",
            "\n",
            "Loading required package: primes\n",
            "\n",
            "Loading required package: ggplot2\n",
            "\n"
          ]
        }
      ]
    },
    {
      "cell_type": "markdown",
      "source": [
        "###  Accion a Realizar\n",
        "PARAM$semilla_primigenia  debe reemplazarse por SU primer semilla"
      ],
      "metadata": {
        "id": "t1lTXrKaNruT"
      }
    },
    {
      "cell_type": "code",
      "source": [
        "PARAM <- list()\n",
        "PARAM$semilla_primigenia <- 523519\n",
        "PARAM$qsemillas <- 20\n",
        "PARAM$training_pct <- 70L     # entre 1 y 100\n"
      ],
      "metadata": {
        "id": "QFbPtTCMNruV"
      },
      "execution_count": 5,
      "outputs": []
    },
    {
      "cell_type": "code",
      "source": [
        "# los dos arboles\n",
        "PARAM$rpart1 <- list (\n",
        "  \"cp\" = -1,\n",
        "  \"minsplit\" = 170,\n",
        "  \"minbucket\" = 70,\n",
        "  \"maxdepth\" = 7\n",
        ")\n",
        "\n",
        "\n",
        "PARAM$rpart2 <- list (\n",
        "  \"cp\" = -1,\n",
        "  \"minsplit\" = 250,\n",
        "  \"minbucket\" = 125,\n",
        "  \"maxdepth\" = 20\n",
        ")"
      ],
      "metadata": {
        "id": "GiBGk7WKQv2V"
      },
      "execution_count": 6,
      "outputs": []
    },
    {
      "cell_type": "code",
      "source": [
        "# particionar agrega una columna llamada fold a un dataset\n",
        "#  que consiste en una particion estratificada segun agrupa\n",
        "\n",
        "# particionar( data=dataset, division=c(70,30),\n",
        "#  agrupa=clase_ternaria, seed=semilla)   crea una particion 70, 30\n",
        "\n",
        "particionar <- function(\n",
        "    data, division, agrupa = \"\",\n",
        "    campo = \"fold\", start = 1, seed = NA) {\n",
        "  if (!is.na(seed)) set.seed(seed)\n",
        "\n",
        "  bloque <- unlist(mapply(function(x, y) {\n",
        "    rep(y, x)\n",
        "  }, division, seq(from = start, length.out = length(division))))\n",
        "\n",
        "  data[, (campo) := sample(rep(bloque, ceiling(.N / length(bloque))))[1:.N],\n",
        "    by = agrupa\n",
        "  ]\n",
        "}\n"
      ],
      "metadata": {
        "id": "2BabfKg7NruX"
      },
      "execution_count": 7,
      "outputs": []
    },
    {
      "cell_type": "code",
      "source": [
        "DosArbolesEstimarGanancia <- function(semilla, training_pct, param_rpart1, param_rpart2) {\n",
        "\n",
        "  # fuerzo impresion\n",
        "  print( paste( semilla, Sys.time()) )\n",
        "  flush.console()\n",
        "\n",
        "  # particiono estratificadamente el dataset\n",
        "  particionar(dataset,\n",
        "    division = c(training_pct, 100L -training_pct),\n",
        "    agrupa = \"clase_ternaria\",\n",
        "    seed = semilla # aqui se usa SU semilla\n",
        "  )\n",
        "\n",
        "  # genero el modelo\n",
        "  # predecir clase_ternaria a partir del resto\n",
        "  modelo1 <- rpart(\"clase_ternaria ~ .\",\n",
        "    data = dataset[fold == 1], # fold==1  es training,  el 70% de los datos\n",
        "    xval = 0,\n",
        "    control = param_rpart1\n",
        "  ) # aqui van los parametros del arbol\n",
        "\n",
        "  # aplico el modelo a los datos de testing\n",
        "  prediccion1 <- predict(modelo1, # el modelo que genere recien\n",
        "    dataset[fold == 2], # fold==2  es testing, el 30% de los datos\n",
        "    type = \"prob\"\n",
        "  ) # type= \"prob\"  es que devuelva la probabilidad\n",
        "\n",
        "\n",
        "  # calculo la ganancia en testing  qu es fold==2\n",
        "  ganancia_test1 <- dataset[\n",
        "    fold == 2,\n",
        "    sum(ifelse(prediccion1[, \"BAJA+2\"] > 0.025,\n",
        "      ifelse(clase_ternaria == \"BAJA+2\", 117000, -3000),\n",
        "      0\n",
        "    ))\n",
        "  ]\n",
        "\n",
        "  # escalo la ganancia como si fuera todo el dataset\n",
        "  ganancia_test_normalizada1 <- ganancia_test1 / (( 100 - training_pct ) / 100 )\n",
        "\n",
        "  modelo2 <- rpart(\"clase_ternaria ~ .\",\n",
        "    data = dataset[fold == 1], # fold==1  es training,  el 70% de los datos\n",
        "    xval = 0,\n",
        "    control = param_rpart2\n",
        "  ) # aqui van los parametros del arbol\n",
        "\n",
        "  # aplico el modelo a los datos de testing\n",
        "  prediccion2 <- predict(modelo2, # el modelo que genere recien\n",
        "    dataset[fold == 2], # fold==2  es testing, el 30% de los datos\n",
        "    type = \"prob\"\n",
        "  ) # type= \"prob\"  es que devuelva la probabilidad\n",
        "\n",
        "\n",
        "  # calculo la ganancia en testing  qu es fold==2\n",
        "  ganancia_test2 <- dataset[\n",
        "    fold == 2,\n",
        "    sum(ifelse(prediccion2[, \"BAJA+2\"] > 0.025,\n",
        "      ifelse(clase_ternaria == \"BAJA+2\", 117000, -3000),\n",
        "      0\n",
        "    ))\n",
        "  ]\n",
        "\n",
        "  # escalo la ganancia como si fuera todo el dataset\n",
        "  ganancia_test_normalizada2 <- ganancia_test2 / (( 100 - training_pct ) / 100 )\n",
        "\n",
        "  return(list(\n",
        "    \"semilla\" = semilla,\n",
        "    \"ganancia1\" = ganancia_test_normalizada1,\n",
        "    \"ganancia2\" = ganancia_test_normalizada2\n",
        "  ))\n",
        "}"
      ],
      "metadata": {
        "id": "YrGJgj4UNruZ"
      },
      "execution_count": 8,
      "outputs": []
    },
    {
      "cell_type": "code",
      "source": [
        "# carpeta de trabajo\n",
        "setwd(\"/content/buckets/b1/exp\")\n",
        "experimento <- \"exp206\"\n",
        "dir.create(experimento, showWarnings=FALSE)\n",
        "setwd( paste0(\"/content/buckets/b1/exp/\", experimento ))"
      ],
      "metadata": {
        "id": "2C2yjgQVNrud"
      },
      "execution_count": 9,
      "outputs": []
    },
    {
      "cell_type": "code",
      "source": [
        "# lectura del dataset\n",
        "dataset <- fread(\"/content/datasets/dataset_pequeno.csv\")\n",
        "\n",
        "# trabajo solo con los datos con clase, es decir 202107\n",
        "dataset <- dataset[clase_ternaria != \"\"]"
      ],
      "metadata": {
        "id": "oQeGcBnPNrug"
      },
      "execution_count": 10,
      "outputs": []
    },
    {
      "cell_type": "code",
      "source": [
        "detectCores()"
      ],
      "metadata": {
        "id": "gXKI2eXO9Osx",
        "colab": {
          "base_uri": "https://localhost:8080/",
          "height": 34
        },
        "outputId": "edd1ea39-7fdd-4892-eb6d-9c2f269788cf"
      },
      "execution_count": 11,
      "outputs": [
        {
          "output_type": "display_data",
          "data": {
            "text/html": [
              "2"
            ],
            "text/markdown": "2",
            "text/latex": "2",
            "text/plain": [
              "[1] 2"
            ]
          },
          "metadata": {}
        }
      ]
    },
    {
      "cell_type": "code",
      "source": [
        "# genero numeros primos\n",
        "primos <- generate_primes(min = 100000, max = 1000000)\n",
        "set.seed(PARAM$semilla_primigenia) # inicializo\n",
        "\n",
        "# me quedo con PARAM$qsemillas   semillas\n",
        "PARAM$semillas <- sample(primos, PARAM$qsemillas )"
      ],
      "metadata": {
        "id": "tU8S7_5ANrui"
      },
      "execution_count": 12,
      "outputs": []
    },
    {
      "cell_type": "code",
      "source": [
        "# demora interminables 60 minutos en correr en Google Colab\n",
        "Sys.time()\n",
        "\n",
        "salidas <- mcmapply( DosArbolesEstimarGanancia,\n",
        "  PARAM$semillas, # paso el vector de semillas\n",
        "  MoreArgs = list(PARAM$training_pct, PARAM$rpart1, PARAM$rpart2), # aqui paso el segundo parametro\n",
        "  SIMPLIFY = FALSE,\n",
        "  mc.cores = detectCores()\n",
        ")\n",
        "\n",
        "Sys.time()"
      ],
      "metadata": {
        "id": "mlF66CgxcHF3",
        "colab": {
          "base_uri": "https://localhost:8080/",
          "height": 54
        },
        "outputId": "6261c26f-e891-4f0a-edb0-b239471b5869"
      },
      "execution_count": 13,
      "outputs": [
        {
          "output_type": "display_data",
          "data": {
            "text/plain": [
              "[1] \"2025-10-25 19:51:34 UTC\""
            ]
          },
          "metadata": {}
        },
        {
          "output_type": "display_data",
          "data": {
            "text/plain": [
              "[1] \"2025-10-25 20:51:20 UTC\""
            ]
          },
          "metadata": {}
        }
      ]
    },
    {
      "cell_type": "code",
      "source": [
        "# paso la lista a vector\n",
        "tb_salida <- rbindlist(salidas)\n",
        "tb_salida"
      ],
      "metadata": {
        "id": "_g-_kccdNrum",
        "colab": {
          "base_uri": "https://localhost:8080/",
          "height": 725
        },
        "outputId": "4145518d-a607-48e3-cad0-3f7c0416096f"
      },
      "execution_count": 14,
      "outputs": [
        {
          "output_type": "display_data",
          "data": {
            "text/html": [
              "<table class=\"dataframe\">\n",
              "<caption>A data.table: 20 × 3</caption>\n",
              "<thead>\n",
              "\t<tr><th scope=col>semilla</th><th scope=col>ganancia1</th><th scope=col>ganancia2</th></tr>\n",
              "\t<tr><th scope=col>&lt;int&gt;</th><th scope=col>&lt;dbl&gt;</th><th scope=col>&lt;dbl&gt;</th></tr>\n",
              "</thead>\n",
              "<tbody>\n",
              "\t<tr><td>555221</td><td>43230000</td><td>31640000</td></tr>\n",
              "\t<tr><td>736369</td><td>48730000</td><td>46140000</td></tr>\n",
              "\t<tr><td>885289</td><td>44770000</td><td>43910000</td></tr>\n",
              "\t<tr><td>402361</td><td>50230000</td><td>39400000</td></tr>\n",
              "\t<tr><td>815897</td><td>55680000</td><td>39990000</td></tr>\n",
              "\t<tr><td>580549</td><td>51100000</td><td>45970000</td></tr>\n",
              "\t<tr><td>171583</td><td>48580000</td><td>44500000</td></tr>\n",
              "\t<tr><td>360049</td><td>49110000</td><td>47010000</td></tr>\n",
              "\t<tr><td>564269</td><td>53460000</td><td>46430000</td></tr>\n",
              "\t<tr><td>544667</td><td>46100000</td><td>41640000</td></tr>\n",
              "\t<tr><td>885551</td><td>49190000</td><td>46660000</td></tr>\n",
              "\t<tr><td>916703</td><td>46620000</td><td>38990000</td></tr>\n",
              "\t<tr><td>191299</td><td>47080000</td><td>42720000</td></tr>\n",
              "\t<tr><td>970457</td><td>49450000</td><td>44010000</td></tr>\n",
              "\t<tr><td>208469</td><td>49710000</td><td>39590000</td></tr>\n",
              "\t<tr><td>375017</td><td>52020000</td><td>40440000</td></tr>\n",
              "\t<tr><td>804751</td><td>52490000</td><td>40930000</td></tr>\n",
              "\t<tr><td>243421</td><td>47260000</td><td>41750000</td></tr>\n",
              "\t<tr><td>642953</td><td>45940000</td><td>44170000</td></tr>\n",
              "\t<tr><td>127931</td><td>51270000</td><td>48860000</td></tr>\n",
              "</tbody>\n",
              "</table>\n"
            ],
            "text/markdown": "\nA data.table: 20 × 3\n\n| semilla &lt;int&gt; | ganancia1 &lt;dbl&gt; | ganancia2 &lt;dbl&gt; |\n|---|---|---|\n| 555221 | 43230000 | 31640000 |\n| 736369 | 48730000 | 46140000 |\n| 885289 | 44770000 | 43910000 |\n| 402361 | 50230000 | 39400000 |\n| 815897 | 55680000 | 39990000 |\n| 580549 | 51100000 | 45970000 |\n| 171583 | 48580000 | 44500000 |\n| 360049 | 49110000 | 47010000 |\n| 564269 | 53460000 | 46430000 |\n| 544667 | 46100000 | 41640000 |\n| 885551 | 49190000 | 46660000 |\n| 916703 | 46620000 | 38990000 |\n| 191299 | 47080000 | 42720000 |\n| 970457 | 49450000 | 44010000 |\n| 208469 | 49710000 | 39590000 |\n| 375017 | 52020000 | 40440000 |\n| 804751 | 52490000 | 40930000 |\n| 243421 | 47260000 | 41750000 |\n| 642953 | 45940000 | 44170000 |\n| 127931 | 51270000 | 48860000 |\n\n",
            "text/latex": "A data.table: 20 × 3\n\\begin{tabular}{lll}\n semilla & ganancia1 & ganancia2\\\\\n <int> & <dbl> & <dbl>\\\\\n\\hline\n\t 555221 & 43230000 & 31640000\\\\\n\t 736369 & 48730000 & 46140000\\\\\n\t 885289 & 44770000 & 43910000\\\\\n\t 402361 & 50230000 & 39400000\\\\\n\t 815897 & 55680000 & 39990000\\\\\n\t 580549 & 51100000 & 45970000\\\\\n\t 171583 & 48580000 & 44500000\\\\\n\t 360049 & 49110000 & 47010000\\\\\n\t 564269 & 53460000 & 46430000\\\\\n\t 544667 & 46100000 & 41640000\\\\\n\t 885551 & 49190000 & 46660000\\\\\n\t 916703 & 46620000 & 38990000\\\\\n\t 191299 & 47080000 & 42720000\\\\\n\t 970457 & 49450000 & 44010000\\\\\n\t 208469 & 49710000 & 39590000\\\\\n\t 375017 & 52020000 & 40440000\\\\\n\t 804751 & 52490000 & 40930000\\\\\n\t 243421 & 47260000 & 41750000\\\\\n\t 642953 & 45940000 & 44170000\\\\\n\t 127931 & 51270000 & 48860000\\\\\n\\end{tabular}\n",
            "text/plain": [
              "   semilla ganancia1 ganancia2\n",
              "1  555221  43230000  31640000 \n",
              "2  736369  48730000  46140000 \n",
              "3  885289  44770000  43910000 \n",
              "4  402361  50230000  39400000 \n",
              "5  815897  55680000  39990000 \n",
              "6  580549  51100000  45970000 \n",
              "7  171583  48580000  44500000 \n",
              "8  360049  49110000  47010000 \n",
              "9  564269  53460000  46430000 \n",
              "10 544667  46100000  41640000 \n",
              "11 885551  49190000  46660000 \n",
              "12 916703  46620000  38990000 \n",
              "13 191299  47080000  42720000 \n",
              "14 970457  49450000  44010000 \n",
              "15 208469  49710000  39590000 \n",
              "16 375017  52020000  40440000 \n",
              "17 804751  52490000  40930000 \n",
              "18 243421  47260000  41750000 \n",
              "19 642953  45940000  44170000 \n",
              "20 127931  51270000  48860000 "
            ]
          },
          "metadata": {}
        }
      ]
    },
    {
      "cell_type": "code",
      "source": [
        "grafico <- ggplot( tb_salida, aes(x=ganancia1)) + geom_density(alpha=0.25, fill=\"green\", color=\"green\")  +\n",
        "             geom_density(data=tb_salida, aes(x=ganancia2), fill=\"purple\", color=\"purple\",  alpha=0.10)\n",
        "\n",
        "print(grafico)"
      ],
      "metadata": {
        "id": "-O0rg6btNrun",
        "colab": {
          "base_uri": "https://localhost:8080/",
          "height": 437
        },
        "outputId": "13ba66a2-c7e3-47c5-c271-d3d801a17f63"
      },
      "execution_count": 15,
      "outputs": [
        {
          "output_type": "display_data",
          "data": {
            "text/plain": [
              "plot without title"
            ],
            "image/png": "[encoded data removed]"
          },
          "metadata": {
            "image/png": {
              "width": 420,
              "height": 420
            }
          }
        }
      ]
    },
    {
      "cell_type": "code",
      "source": [
        "# imprimo en un .pdf  que va a la carpeta del experimento\n",
        "pdf(\"densidad_dos.pdf\")\n",
        "print(grafico)\n",
        "dev.off()"
      ],
      "metadata": {
        "id": "uSqrazOyU_LC",
        "colab": {
          "base_uri": "https://localhost:8080/",
          "height": 34
        },
        "outputId": "e4376495-a86c-4572-fe66-07fa63908ea7"
      },
      "execution_count": 16,
      "outputs": [
        {
          "output_type": "display_data",
          "data": {
            "text/html": [
              "<strong>agg_record_1035401248:</strong> 2"
            ],
            "text/markdown": "**agg_record_1035401248:** 2",
            "text/latex": "\\textbf{agg\\textbackslash{}\\_record\\textbackslash{}\\_1035401248:} 2",
            "text/plain": [
              "agg_record_1035401248 \n",
              "                    2 "
            ]
          },
          "metadata": {}
        }
      ]
    },
    {
      "cell_type": "code",
      "source": [
        "print( tb_salida[ , list( \"arbol1\" = mean( ganancia1),  \"arbol2\" = mean(ganancia2) ) ] )\n",
        "\n",
        "print( tb_salida[ , list( \"prob( m1 > m2)\" = sum(ganancia1 > ganancia2 )/ .N ) ]  )"
      ],
      "metadata": {
        "id": "LGv0LB_4R7US",
        "colab": {
          "base_uri": "https://localhost:8080/"
        },
        "outputId": "f5d98c60-cff8-439e-c57b-90721c45dbf1"
      },
      "execution_count": 17,
      "outputs": [
        {
          "output_type": "stream",
          "name": "stdout",
          "text": [
            "     arbol1   arbol2\n",
            "      <num>    <num>\n",
            "1: 49101000 42737500\n",
            "   prob( m1 > m2)\n",
            "            <num>\n",
            "1:              1\n"
          ]
        }
      ]
    },
    {
      "cell_type": "markdown",
      "source": [
        "### Acciones a realizar\n",
        "* Reportar la  los resultados en la planilla colaborativa hoja  **C2-dosModelos**\n",
        "* ¿Todos los alumnos hubieran elegido el mismo modelo aun con 20 semillas?"
      ],
      "metadata": {
        "id": "F6lFJf1VTi8b"
      }
    },
    {
      "cell_type": "markdown",
      "source": [
        "\n",
        "\n",
        "---\n",
        "\n"
      ],
      "metadata": {
        "id": "aOpy-XBKTi8n"
      }
    },
    {
      "cell_type": "markdown",
      "source": [
        "# 7 Comparando dos buenos  modelos\n",
        "## Clase 02  Experimento 7"
      ],
      "metadata": {
        "id": "EdzjiJf-dsEK"
      }
    },
    {
      "cell_type": "markdown",
      "source": [
        "## 7.1  Objetivos\n",
        "Presentar a los alumnos la dificultad que surge en la comparación de dos muy distintos, pero ambos buenos, modelos predictivos, y el costo computacional asociado a esa comparación\n",
        "<br>Comparación simple de media de ganancias, versus probabilidad que un modelo sea superior a otro.\n",
        "<br>Limitaciones de la MonteCarlo Cross Validation\n",
        "<br>Existencia del Test de Wilcoxon"
      ],
      "metadata": {
        "id": "FcBjp5XxdsEt"
      }
    },
    {
      "cell_type": "markdown",
      "source": [
        "## 7.2 Introduccion\n",
        "Estos son los dos arboles de muy distinta profundidad.\n",
        "<br>¿Cuál de ellos es mejor? ¿Cuál elijo?\n",
        "\n",
        "| Hiperparámetro | Arbol 1 | Arbol 2 |\n",
        "| --- | --: |  ---: |\n",
        "| cp | -1 | -1 |\n",
        "|minsplit | 170 | 1900 |\n",
        "|minbucket | 70 | 800 |\n",
        "|maxdepth | 7 | 3 |\n",
        "\n"
      ],
      "metadata": {
        "id": "tYcOIcwCdsEu"
      }
    },
    {
      "cell_type": "markdown",
      "source": [
        "## 7.3 Dos buenos modelos"
      ],
      "metadata": {
        "id": "r0NDA7GgdsEu"
      }
    },
    {
      "cell_type": "markdown",
      "source": [
        "Esta parte se debe correr con el runtime en lenguaje **R** Ir al menu, Runtime -> Change Runtime Tipe -> Runtime type -> R"
      ],
      "metadata": {
        "id": "21SJmGd7dsEv"
      }
    },
    {
      "cell_type": "markdown",
      "source": [
        "El tiempo de corrida es de alrededor de 50 minutos"
      ],
      "metadata": {
        "id": "Ne0e08KUt87w"
      }
    },
    {
      "cell_type": "markdown",
      "source": [
        "limpio el ambiente de R"
      ],
      "metadata": {
        "id": "q02SEGNwdsEv"
      }
    },
    {
      "cell_type": "code",
      "source": [
        "# limpio la memoria\n",
        "rm(list=ls(all.names=TRUE)) # remove all objects\n",
        "gc(full=TRUE, verbose=FALSE) # garbage collection"
      ],
      "metadata": {
        "id": "6c2ZJstWdsEw",
        "colab": {
          "base_uri": "https://localhost:8080/",
          "height": 129
        },
        "outputId": "11412d13-c64c-4e8a-cb15-87cd807442f8"
      },
      "execution_count": 18,
      "outputs": [
        {
          "output_type": "display_data",
          "data": {
            "text/html": [
              "<table class=\"dataframe\">\n",
              "<caption>A matrix: 2 × 6 of type dbl</caption>\n",
              "<thead>\n",
              "\t<tr><th></th><th scope=col>used</th><th scope=col>(Mb)</th><th scope=col>gc trigger</th><th scope=col>(Mb)</th><th scope=col>max used</th><th scope=col>(Mb)</th></tr>\n",
              "</thead>\n",
              "<tbody>\n",
              "\t<tr><th scope=row>Ncells</th><td>1401444</td><td>74.9</td><td> 2285510</td><td>122.1</td><td> 2285510</td><td>122.1</td></tr>\n",
              "\t<tr><th scope=row>Vcells</th><td>2603569</td><td>19.9</td><td>58635815</td><td>447.4</td><td>72795654</td><td>555.4</td></tr>\n",
              "</tbody>\n",
              "</table>\n"
            ],
            "text/markdown": "\nA matrix: 2 × 6 of type dbl\n\n| <!--/--> | used | (Mb) | gc trigger | (Mb) | max used | (Mb) |\n|---|---|---|---|---|---|---|\n| Ncells | 1401444 | 74.9 |  2285510 | 122.1 |  2285510 | 122.1 |\n| Vcells | 2603569 | 19.9 | 58635815 | 447.4 | 72795654 | 555.4 |\n\n",
            "text/latex": "A matrix: 2 × 6 of type dbl\n\\begin{tabular}{r|llllll}\n  & used & (Mb) & gc trigger & (Mb) & max used & (Mb)\\\\\n\\hline\n\tNcells & 1401444 & 74.9 &  2285510 & 122.1 &  2285510 & 122.1\\\\\n\tVcells & 2603569 & 19.9 & 58635815 & 447.4 & 72795654 & 555.4\\\\\n\\end{tabular}\n",
            "text/plain": [
              "       used    (Mb) gc trigger (Mb)  max used (Mb) \n",
              "Ncells 1401444 74.9  2285510   122.1  2285510 122.1\n",
              "Vcells 2603569 19.9 58635815   447.4 72795654 555.4"
            ]
          },
          "metadata": {}
        }
      ]
    },
    {
      "cell_type": "markdown",
      "source": [
        "* Instalacion de la libreria  rpart.plot  para dibujar el arbol\n",
        "* invocacion de las librerias  **data.table** y  **rpart**"
      ],
      "metadata": {
        "id": "62MIW0r1dsEx"
      }
    },
    {
      "cell_type": "code",
      "source": [
        "# cargo las librerias que necesito\n",
        "require(\"data.table\")\n",
        "require(\"rpart\")\n",
        "require(\"parallel\")\n",
        "\n",
        "if (!require(\"primes\")) install.packages(\"primes\")\n",
        "require(\"primes\")\n",
        "\n",
        "require(\"ggplot2\")"
      ],
      "metadata": {
        "id": "2Ke4n-N8dsEy"
      },
      "execution_count": 19,
      "outputs": []
    },
    {
      "cell_type": "markdown",
      "source": [
        "###  Accion a Realizar\n",
        "PARAM$semilla_primigenia  debe reemplazarse por SU primer semilla"
      ],
      "metadata": {
        "id": "UHSoeqi4dsEz"
      }
    },
    {
      "cell_type": "code",
      "source": [
        "PARAM <- list()\n",
        "PARAM$semilla_primigenia <- 523519\n",
        "PARAM$qsemillas <- 50\n",
        "PARAM$training_pct <- 70L     # entre 1 y 100\n"
      ],
      "metadata": {
        "id": "f08_sqfAdsEz"
      },
      "execution_count": 20,
      "outputs": []
    },
    {
      "cell_type": "code",
      "source": [
        "# los dos arboles\n",
        "PARAM$rpart1 <- list (\n",
        "  \"cp\" = -1,\n",
        "  \"minsplit\" = 170,\n",
        "  \"minbucket\" = 70,\n",
        "  \"maxdepth\" = 7\n",
        ")\n",
        "\n",
        "\n",
        "PARAM$rpart2 <- list (\n",
        "  \"cp\" = -1,\n",
        "  \"minsplit\" = 1900,\n",
        "  \"minbucket\" = 800,\n",
        "  \"maxdepth\" = 3\n",
        ")\n"
      ],
      "metadata": {
        "id": "L735D9rydsE0"
      },
      "execution_count": 21,
      "outputs": []
    },
    {
      "cell_type": "code",
      "source": [
        "# particionar agrega una columna llamada fold a un dataset\n",
        "#  que consiste en una particion estratificada segun agrupa\n",
        "\n",
        "# particionar( data=dataset, division=c(70,30),\n",
        "#  agrupa=clase_ternaria, seed=semilla)   crea una particion 70, 30\n",
        "\n",
        "particionar <- function(\n",
        "    data, division, agrupa = \"\",\n",
        "    campo = \"fold\", start = 1, seed = NA) {\n",
        "  if (!is.na(seed)) set.seed(seed)\n",
        "\n",
        "  bloque <- unlist(mapply(function(x, y) {\n",
        "    rep(y, x)\n",
        "  }, division, seq(from = start, length.out = length(division))))\n",
        "\n",
        "  data[, (campo) := sample(rep(bloque, ceiling(.N / length(bloque))))[1:.N],\n",
        "    by = agrupa\n",
        "  ]\n",
        "}\n"
      ],
      "metadata": {
        "id": "O56epLUGdsE1"
      },
      "execution_count": 22,
      "outputs": []
    },
    {
      "cell_type": "code",
      "source": [
        "DosArbolesEstimarGanancia <- function(semilla, training_pct, param_rpart1, param_rpart2) {\n",
        "  # fuerzo impresion\n",
        "  print( paste( semilla, Sys.time()) )\n",
        "  flush.console()\n",
        "\n",
        "  # particiono estratificadamente el dataset\n",
        "  particionar(dataset,\n",
        "    division = c(training_pct, 100L -training_pct),\n",
        "    agrupa = \"clase_ternaria\",\n",
        "    seed = semilla # aqui se usa SU semilla\n",
        "  )\n",
        "\n",
        "  # genero el modelo\n",
        "  # predecir clase_ternaria a partir del resto\n",
        "  modelo1 <- rpart(\"clase_ternaria ~ .\",\n",
        "    data = dataset[fold == 1], # fold==1  es training,  el 70% de los datos\n",
        "    xval = 0,\n",
        "    control = param_rpart1\n",
        "  ) # aqui van los parametros del arbol\n",
        "\n",
        "  # aplico el modelo a los datos de testing\n",
        "  prediccion1 <- predict(modelo1, # el modelo que genere recien\n",
        "    dataset[fold == 2], # fold==2  es testing, el 30% de los datos\n",
        "    type = \"prob\"\n",
        "  ) # type= \"prob\"  es que devuelva la probabilidad\n",
        "\n",
        "\n",
        "  # calculo la ganancia en testing  qu es fold==2\n",
        "  ganancia_test1 <- dataset[\n",
        "    fold == 2,\n",
        "    sum(ifelse(prediccion1[, \"BAJA+2\"] > 0.025,\n",
        "      ifelse(clase_ternaria == \"BAJA+2\", 117000, -3000),\n",
        "      0\n",
        "    ))\n",
        "  ]\n",
        "\n",
        "  # escalo la ganancia como si fuera todo el dataset\n",
        "  ganancia_test_normalizada1 <- ganancia_test1 / (( 100 - training_pct ) / 100 )\n",
        "\n",
        "  modelo2 <- rpart(\"clase_ternaria ~ .\",\n",
        "    data = dataset[fold == 1], # fold==1  es training,  el 70% de los datos\n",
        "    xval = 0,\n",
        "    control = param_rpart2\n",
        "  ) # aqui van los parametros del arbol\n",
        "\n",
        "  # aplico el modelo a los datos de testing\n",
        "  prediccion2 <- predict(modelo2, # el modelo que genere recien\n",
        "    dataset[fold == 2], # fold==2  es testing, el 30% de los datos\n",
        "    type = \"prob\"\n",
        "  ) # type= \"prob\"  es que devuelva la probabilidad\n",
        "\n",
        "\n",
        "  # calculo la ganancia en testing  qu es fold==2\n",
        "  ganancia_test2 <- dataset[\n",
        "    fold == 2,\n",
        "    sum(ifelse(prediccion2[, \"BAJA+2\"] > 0.025,\n",
        "      ifelse(clase_ternaria == \"BAJA+2\", 117000, -3000),\n",
        "      0\n",
        "    ))\n",
        "  ]\n",
        "\n",
        "  # escalo la ganancia como si fuera todo el dataset\n",
        "  ganancia_test_normalizada2 <- ganancia_test2 / (( 100 - training_pct ) / 100 )\n",
        "\n",
        "  return(list(\n",
        "    \"semilla\" = semilla,\n",
        "    \"ganancia1\" = ganancia_test_normalizada1,\n",
        "    \"ganancia2\" = ganancia_test_normalizada2\n",
        "  ))\n",
        "}"
      ],
      "metadata": {
        "id": "Bv_NorLhdsE1"
      },
      "execution_count": 23,
      "outputs": []
    },
    {
      "cell_type": "code",
      "source": [
        "# carpeta de trabajo\n",
        "setwd(\"/content/buckets/b1/exp\")\n",
        "experimento <- \"exp206\"\n",
        "dir.create(experimento, showWarnings=FALSE)\n",
        "setwd( paste0(\"/content/buckets/b1/exp/\", experimento ))"
      ],
      "metadata": {
        "id": "N9GarblIdsE3"
      },
      "execution_count": 24,
      "outputs": []
    },
    {
      "cell_type": "code",
      "source": [
        "# lectura del dataset\n",
        "dataset <- fread(\"/content/datasets/dataset_pequeno.csv\")\n",
        "\n",
        "# trabajo solo con los datos con clase, es decir 202107\n",
        "dataset <- dataset[clase_ternaria != \"\"]"
      ],
      "metadata": {
        "id": "Z05r3wdTdsE3"
      },
      "execution_count": 25,
      "outputs": []
    },
    {
      "cell_type": "code",
      "source": [
        "# genero numeros primos\n",
        "primos <- generate_primes(min = 100000, max = 1000000)\n",
        "set.seed(PARAM$semilla_primigenia) # inicializo\n",
        "\n",
        "# me quedo con PARAM$qsemillas   semillas\n",
        "PARAM$semillas <- sample(primos, PARAM$qsemillas )"
      ],
      "metadata": {
        "id": "m8ODrVrndsE4"
      },
      "execution_count": 26,
      "outputs": []
    },
    {
      "cell_type": "code",
      "source": [
        "# la funcion mcmapply  llama a la funcion DosArbolesEstimarGanancia\n",
        "#  tantas veces como valores tenga el vector  PARAM$semillas\n",
        "Sys.time()\n",
        "\n",
        "salidas <- mcmapply( DosArbolesEstimarGanancia,\n",
        "  PARAM$semillas, # paso el vector de semillas\n",
        "  MoreArgs = list(PARAM$training_pct, PARAM$rpart1, PARAM$rpart2), # aqui paso el segundo parametro\n",
        "  SIMPLIFY = FALSE,\n",
        "  mc.cores = detectCores()\n",
        ")\n",
        "\n",
        "Sys.time()"
      ],
      "metadata": {
        "id": "KQBhUXxJdsE5",
        "colab": {
          "base_uri": "https://localhost:8080/",
          "height": 54
        },
        "outputId": "93c0f063-235a-4e88-c98e-68719b6a688e"
      },
      "execution_count": 27,
      "outputs": [
        {
          "output_type": "display_data",
          "data": {
            "text/plain": [
              "[1] \"2025-10-25 20:53:20 UTC\""
            ]
          },
          "metadata": {}
        },
        {
          "output_type": "display_data",
          "data": {
            "text/plain": [
              "[1] \"2025-10-25 21:59:15 UTC\""
            ]
          },
          "metadata": {}
        }
      ]
    },
    {
      "cell_type": "code",
      "source": [
        "# paso la lista a vector\n",
        "tb_salida <- rbindlist(salidas)\n",
        "tb_salida"
      ],
      "metadata": {
        "id": "N0eS1CFFdsE5",
        "colab": {
          "base_uri": "https://localhost:8080/",
          "height": 1000
        },
        "outputId": "d51b326b-af2e-4c7f-f44a-0ef0c02e9c39"
      },
      "execution_count": 28,
      "outputs": [
        {
          "output_type": "display_data",
          "data": {
            "text/html": [
              "<table class=\"dataframe\">\n",
              "<caption>A data.table: 50 × 3</caption>\n",
              "<thead>\n",
              "\t<tr><th scope=col>semilla</th><th scope=col>ganancia1</th><th scope=col>ganancia2</th></tr>\n",
              "\t<tr><th scope=col>&lt;int&gt;</th><th scope=col>&lt;dbl&gt;</th><th scope=col>&lt;dbl&gt;</th></tr>\n",
              "</thead>\n",
              "<tbody>\n",
              "\t<tr><td>555221</td><td>43230000</td><td>44530000</td></tr>\n",
              "\t<tr><td>736369</td><td>48730000</td><td>49220000</td></tr>\n",
              "\t<tr><td>885289</td><td>44770000</td><td>47840000</td></tr>\n",
              "\t<tr><td>402361</td><td>50230000</td><td>43630000</td></tr>\n",
              "\t<tr><td>815897</td><td>55680000</td><td>51160000</td></tr>\n",
              "\t<tr><td>580549</td><td>51100000</td><td>49850000</td></tr>\n",
              "\t<tr><td>171583</td><td>48580000</td><td>51310000</td></tr>\n",
              "\t<tr><td>360049</td><td>49110000</td><td>49330000</td></tr>\n",
              "\t<tr><td>564269</td><td>53460000</td><td>49290000</td></tr>\n",
              "\t<tr><td>544667</td><td>46100000</td><td>49300000</td></tr>\n",
              "\t<tr><td>885551</td><td>49190000</td><td>51240000</td></tr>\n",
              "\t<tr><td>916703</td><td>46620000</td><td>47900000</td></tr>\n",
              "\t<tr><td>191299</td><td>47080000</td><td>46590000</td></tr>\n",
              "\t<tr><td>970457</td><td>49450000</td><td>48180000</td></tr>\n",
              "\t<tr><td>208469</td><td>49710000</td><td>48640000</td></tr>\n",
              "\t<tr><td>375017</td><td>52020000</td><td>53560000</td></tr>\n",
              "\t<tr><td>804751</td><td>52490000</td><td>49860000</td></tr>\n",
              "\t<tr><td>243421</td><td>47260000</td><td>43640000</td></tr>\n",
              "\t<tr><td>642953</td><td>45940000</td><td>48820000</td></tr>\n",
              "\t<tr><td>127931</td><td>51270000</td><td>52850000</td></tr>\n",
              "\t<tr><td>937003</td><td>44430000</td><td>46770000</td></tr>\n",
              "\t<tr><td>592393</td><td>46990000</td><td>52230000</td></tr>\n",
              "\t<tr><td>106033</td><td>49320000</td><td>48270000</td></tr>\n",
              "\t<tr><td>307577</td><td>53330000</td><td>48630000</td></tr>\n",
              "\t<tr><td>844439</td><td>51560000</td><td>48930000</td></tr>\n",
              "\t<tr><td>925051</td><td>48250000</td><td>50720000</td></tr>\n",
              "\t<tr><td>393241</td><td>49100000</td><td>49760000</td></tr>\n",
              "\t<tr><td>385709</td><td>48530000</td><td>46870000</td></tr>\n",
              "\t<tr><td>379163</td><td>46260000</td><td>47280000</td></tr>\n",
              "\t<tr><td>703957</td><td>52330000</td><td>48380000</td></tr>\n",
              "\t<tr><td>803731</td><td>44760000</td><td>40260000</td></tr>\n",
              "\t<tr><td>692779</td><td>48590000</td><td>46400000</td></tr>\n",
              "\t<tr><td>690997</td><td>37260000</td><td>40930000</td></tr>\n",
              "\t<tr><td>403327</td><td>43900000</td><td>46400000</td></tr>\n",
              "\t<tr><td>991327</td><td>52510000</td><td>49530000</td></tr>\n",
              "\t<tr><td>911689</td><td>48480000</td><td>52930000</td></tr>\n",
              "\t<tr><td>602179</td><td>49690000</td><td>48870000</td></tr>\n",
              "\t<tr><td>764887</td><td>48030000</td><td>45570000</td></tr>\n",
              "\t<tr><td>417037</td><td>44800000</td><td>44430000</td></tr>\n",
              "\t<tr><td>351859</td><td>47370000</td><td>43160000</td></tr>\n",
              "\t<tr><td>631457</td><td>47460000</td><td>42030000</td></tr>\n",
              "\t<tr><td>515677</td><td>52040000</td><td>48220000</td></tr>\n",
              "\t<tr><td>686639</td><td>51610000</td><td>45880000</td></tr>\n",
              "\t<tr><td>243109</td><td>47440000</td><td>44660000</td></tr>\n",
              "\t<tr><td>588619</td><td>53390000</td><td>49340000</td></tr>\n",
              "\t<tr><td>292027</td><td>44870000</td><td>43510000</td></tr>\n",
              "\t<tr><td>492299</td><td>45720000</td><td>45140000</td></tr>\n",
              "\t<tr><td>563743</td><td>49210000</td><td>49970000</td></tr>\n",
              "\t<tr><td>792629</td><td>51110000</td><td>52290000</td></tr>\n",
              "\t<tr><td>736717</td><td>50460000</td><td>44640000</td></tr>\n",
              "</tbody>\n",
              "</table>\n"
            ],
            "text/markdown": "\nA data.table: 50 × 3\n\n| semilla &lt;int&gt; | ganancia1 &lt;dbl&gt; | ganancia2 &lt;dbl&gt; |\n|---|---|---|\n| 555221 | 43230000 | 44530000 |\n| 736369 | 48730000 | 49220000 |\n| 885289 | 44770000 | 47840000 |\n| 402361 | 50230000 | 43630000 |\n| 815897 | 55680000 | 51160000 |\n| 580549 | 51100000 | 49850000 |\n| 171583 | 48580000 | 51310000 |\n| 360049 | 49110000 | 49330000 |\n| 564269 | 53460000 | 49290000 |\n| 544667 | 46100000 | 49300000 |\n| 885551 | 49190000 | 51240000 |\n| 916703 | 46620000 | 47900000 |\n| 191299 | 47080000 | 46590000 |\n| 970457 | 49450000 | 48180000 |\n| 208469 | 49710000 | 48640000 |\n| 375017 | 52020000 | 53560000 |\n| 804751 | 52490000 | 49860000 |\n| 243421 | 47260000 | 43640000 |\n| 642953 | 45940000 | 48820000 |\n| 127931 | 51270000 | 52850000 |\n| 937003 | 44430000 | 46770000 |\n| 592393 | 46990000 | 52230000 |\n| 106033 | 49320000 | 48270000 |\n| 307577 | 53330000 | 48630000 |\n| 844439 | 51560000 | 48930000 |\n| 925051 | 48250000 | 50720000 |\n| 393241 | 49100000 | 49760000 |\n| 385709 | 48530000 | 46870000 |\n| 379163 | 46260000 | 47280000 |\n| 703957 | 52330000 | 48380000 |\n| 803731 | 44760000 | 40260000 |\n| 692779 | 48590000 | 46400000 |\n| 690997 | 37260000 | 40930000 |\n| 403327 | 43900000 | 46400000 |\n| 991327 | 52510000 | 49530000 |\n| 911689 | 48480000 | 52930000 |\n| 602179 | 49690000 | 48870000 |\n| 764887 | 48030000 | 45570000 |\n| 417037 | 44800000 | 44430000 |\n| 351859 | 47370000 | 43160000 |\n| 631457 | 47460000 | 42030000 |\n| 515677 | 52040000 | 48220000 |\n| 686639 | 51610000 | 45880000 |\n| 243109 | 47440000 | 44660000 |\n| 588619 | 53390000 | 49340000 |\n| 292027 | 44870000 | 43510000 |\n| 492299 | 45720000 | 45140000 |\n| 563743 | 49210000 | 49970000 |\n| 792629 | 51110000 | 52290000 |\n| 736717 | 50460000 | 44640000 |\n\n",
            "text/latex": "A data.table: 50 × 3\n\\begin{tabular}{lll}\n semilla & ganancia1 & ganancia2\\\\\n <int> & <dbl> & <dbl>\\\\\n\\hline\n\t 555221 & 43230000 & 44530000\\\\\n\t 736369 & 48730000 & 49220000\\\\\n\t 885289 & 44770000 & 47840000\\\\\n\t 402361 & 50230000 & 43630000\\\\\n\t 815897 & 55680000 & 51160000\\\\\n\t 580549 & 51100000 & 49850000\\\\\n\t 171583 & 48580000 & 51310000\\\\\n\t 360049 & 49110000 & 49330000\\\\\n\t 564269 & 53460000 & 49290000\\\\\n\t 544667 & 46100000 & 49300000\\\\\n\t 885551 & 49190000 & 51240000\\\\\n\t 916703 & 46620000 & 47900000\\\\\n\t 191299 & 47080000 & 46590000\\\\\n\t 970457 & 49450000 & 48180000\\\\\n\t 208469 & 49710000 & 48640000\\\\\n\t 375017 & 52020000 & 53560000\\\\\n\t 804751 & 52490000 & 49860000\\\\\n\t 243421 & 47260000 & 43640000\\\\\n\t 642953 & 45940000 & 48820000\\\\\n\t 127931 & 51270000 & 52850000\\\\\n\t 937003 & 44430000 & 46770000\\\\\n\t 592393 & 46990000 & 52230000\\\\\n\t 106033 & 49320000 & 48270000\\\\\n\t 307577 & 53330000 & 48630000\\\\\n\t 844439 & 51560000 & 48930000\\\\\n\t 925051 & 48250000 & 50720000\\\\\n\t 393241 & 49100000 & 49760000\\\\\n\t 385709 & 48530000 & 46870000\\\\\n\t 379163 & 46260000 & 47280000\\\\\n\t 703957 & 52330000 & 48380000\\\\\n\t 803731 & 44760000 & 40260000\\\\\n\t 692779 & 48590000 & 46400000\\\\\n\t 690997 & 37260000 & 40930000\\\\\n\t 403327 & 43900000 & 46400000\\\\\n\t 991327 & 52510000 & 49530000\\\\\n\t 911689 & 48480000 & 52930000\\\\\n\t 602179 & 49690000 & 48870000\\\\\n\t 764887 & 48030000 & 45570000\\\\\n\t 417037 & 44800000 & 44430000\\\\\n\t 351859 & 47370000 & 43160000\\\\\n\t 631457 & 47460000 & 42030000\\\\\n\t 515677 & 52040000 & 48220000\\\\\n\t 686639 & 51610000 & 45880000\\\\\n\t 243109 & 47440000 & 44660000\\\\\n\t 588619 & 53390000 & 49340000\\\\\n\t 292027 & 44870000 & 43510000\\\\\n\t 492299 & 45720000 & 45140000\\\\\n\t 563743 & 49210000 & 49970000\\\\\n\t 792629 & 51110000 & 52290000\\\\\n\t 736717 & 50460000 & 44640000\\\\\n\\end{tabular}\n",
            "text/plain": [
              "   semilla ganancia1 ganancia2\n",
              "1  555221  43230000  44530000 \n",
              "2  736369  48730000  49220000 \n",
              "3  885289  44770000  47840000 \n",
              "4  402361  50230000  43630000 \n",
              "5  815897  55680000  51160000 \n",
              "6  580549  51100000  49850000 \n",
              "7  171583  48580000  51310000 \n",
              "8  360049  49110000  49330000 \n",
              "9  564269  53460000  49290000 \n",
              "10 544667  46100000  49300000 \n",
              "11 885551  49190000  51240000 \n",
              "12 916703  46620000  47900000 \n",
              "13 191299  47080000  46590000 \n",
              "14 970457  49450000  48180000 \n",
              "15 208469  49710000  48640000 \n",
              "16 375017  52020000  53560000 \n",
              "17 804751  52490000  49860000 \n",
              "18 243421  47260000  43640000 \n",
              "19 642953  45940000  48820000 \n",
              "20 127931  51270000  52850000 \n",
              "21 937003  44430000  46770000 \n",
              "22 592393  46990000  52230000 \n",
              "23 106033  49320000  48270000 \n",
              "24 307577  53330000  48630000 \n",
              "25 844439  51560000  48930000 \n",
              "26 925051  48250000  50720000 \n",
              "27 393241  49100000  49760000 \n",
              "28 385709  48530000  46870000 \n",
              "29 379163  46260000  47280000 \n",
              "30 703957  52330000  48380000 \n",
              "31 803731  44760000  40260000 \n",
              "32 692779  48590000  46400000 \n",
              "33 690997  37260000  40930000 \n",
              "34 403327  43900000  46400000 \n",
              "35 991327  52510000  49530000 \n",
              "36 911689  48480000  52930000 \n",
              "37 602179  49690000  48870000 \n",
              "38 764887  48030000  45570000 \n",
              "39 417037  44800000  44430000 \n",
              "40 351859  47370000  43160000 \n",
              "41 631457  47460000  42030000 \n",
              "42 515677  52040000  48220000 \n",
              "43 686639  51610000  45880000 \n",
              "44 243109  47440000  44660000 \n",
              "45 588619  53390000  49340000 \n",
              "46 292027  44870000  43510000 \n",
              "47 492299  45720000  45140000 \n",
              "48 563743  49210000  49970000 \n",
              "49 792629  51110000  52290000 \n",
              "50 736717  50460000  44640000 "
            ]
          },
          "metadata": {}
        }
      ]
    },
    {
      "cell_type": "code",
      "source": [
        "grafico <- ggplot( tb_salida, aes(x=ganancia1), fill=\"green\", color=\"green\") + geom_density(alpha=0.25)  +\n",
        "             geom_density(data=tb_salida, aes(x=ganancia2), fill=\"purple\", color=\"purple\",  alpha=0.10)\n",
        "\n",
        "print(grafico)"
      ],
      "metadata": {
        "id": "6vf28ujAdsE6",
        "colab": {
          "base_uri": "https://localhost:8080/",
          "height": 548
        },
        "outputId": "1a218148-04b7-4813-bdb4-4f00b3f7b420"
      },
      "execution_count": 29,
      "outputs": [
        {
          "output_type": "stream",
          "name": "stderr",
          "text": [
            "Warning message in fortify(data, ...):\n",
            "“\u001b[1m\u001b[22mArguments in `...` must be used.\n",
            "\u001b[31m✖\u001b[39m Problematic arguments:\n",
            "\u001b[36m•\u001b[39m fill = \"green\"\n",
            "\u001b[36m•\u001b[39m color = \"green\"\n",
            "\u001b[36mℹ\u001b[39m Did you misspell an argument name?”\n"
          ]
        },
        {
          "output_type": "display_data",
          "data": {
            "text/plain": [
              "plot without title"
            ],
            "image/png": "[encoded data removed]"
          },
          "metadata": {
            "image/png": {
              "width": 420,
              "height": 420
            }
          }
        }
      ]
    },
    {
      "cell_type": "code",
      "source": [
        "# imprimo en un .pdf  que va a la carpeta del experimento\n",
        "pdf(\"densidad_dos.pdf\")\n",
        "print(grafico)\n",
        "dev.off()"
      ],
      "metadata": {
        "id": "TA9lLa6-dsE6",
        "colab": {
          "base_uri": "https://localhost:8080/",
          "height": 34
        },
        "outputId": "8809e97f-253e-4be5-de94-b179dde3fd55"
      },
      "execution_count": 30,
      "outputs": [
        {
          "output_type": "display_data",
          "data": {
            "text/html": [
              "<strong>agg_record_2067094445:</strong> 2"
            ],
            "text/markdown": "**agg_record_2067094445:** 2",
            "text/latex": "\\textbf{agg\\textbackslash{}\\_record\\textbackslash{}\\_2067094445:} 2",
            "text/plain": [
              "agg_record_2067094445 \n",
              "                    2 "
            ]
          },
          "metadata": {}
        }
      ]
    },
    {
      "cell_type": "code",
      "source": [
        "# medias de las ganancias\n",
        "print( tb_salida[ , list( \"arbol1\" = mean( ganancia1),  \"arbol2\" = mean(ganancia2) ) ] )\n"
      ],
      "metadata": {
        "id": "xAOpyZTqdsE7",
        "colab": {
          "base_uri": "https://localhost:8080/"
        },
        "outputId": "efcbcc60-85f2-4c18-d73a-0ce9cfda0f8a"
      },
      "execution_count": 31,
      "outputs": [
        {
          "output_type": "stream",
          "name": "stdout",
          "text": [
            "     arbol1   arbol2\n",
            "      <num>    <num>\n",
            "1: 48616400 47774800\n"
          ]
        }
      ]
    },
    {
      "cell_type": "code",
      "source": [
        "# probabilidad que m1 sea mayor a m2\n",
        "print( tb_salida[ , list( \"prob( m1 > m2)\" = sum(ganancia1 > ganancia2 )/ .N ) ]  )"
      ],
      "metadata": {
        "id": "8rdPIcfzgob7",
        "colab": {
          "base_uri": "https://localhost:8080/"
        },
        "outputId": "b668b997-6b45-418e-8a43-a6bf1d3b5c00"
      },
      "execution_count": 32,
      "outputs": [
        {
          "output_type": "stream",
          "name": "stdout",
          "text": [
            "   prob( m1 > m2)\n",
            "            <num>\n",
            "1:           0.58\n"
          ]
        }
      ]
    },
    {
      "cell_type": "markdown",
      "source": [
        "### Acciones a realizar\n",
        "* Reportar la  los resultados en la planilla colaborativa hoja  **C2-dosBuenos**\n"
      ],
      "metadata": {
        "id": "nNNJWYRadsE7"
      }
    },
    {
      "cell_type": "markdown",
      "source": [
        "\n",
        "\n",
        "---\n",
        "\n"
      ],
      "metadata": {
        "id": "LTBEq6SEdsE8"
      }
    },
    {
      "cell_type": "markdown",
      "source": [],
      "metadata": {
        "id": "ebcTZX7Sg1Le"
      }
    },
    {
      "cell_type": "markdown",
      "source": [
        "# 8 Test de Wilcoxon\n",
        "## Clase 02  Experimento 8"
      ],
      "metadata": {
        "id": "RAtn4x6Bg1u1"
      }
    },
    {
      "cell_type": "markdown",
      "source": [],
      "metadata": {
        "id": "RWxjnSsVg_ol"
      }
    },
    {
      "cell_type": "markdown",
      "source": [
        "## 8.1  Objetivos\n",
        "\n",
        "¿Como calcular la cantidad mínima de semillas que hacen falta para tener cierta certeza que un modelo es superior a otro?"
      ],
      "metadata": {
        "id": "Gf0LF3ywhAEU"
      }
    },
    {
      "cell_type": "markdown",
      "source": [
        "## 8.2  Introduccion\n",
        "\n",
        "| Hiperparámetro | Arbol 1 | Arbol 2 |\n",
        "| --- | --: |  ---: |\n",
        "| cp | -1 | -1 |\n",
        "|minsplit | 170 | 250 |\n",
        "|minbucket | 70 | 125 |\n",
        "|maxdepth | 7 | 20 |\n",
        "\n",
        "<br>\n",
        "<br>\n",
        "\n",
        "\n",
        "| ordinal | semilla | ganancia1 | ganancia2 | p-value |\n",
        "| --- | --- |  --- |  --- |  --- |\n",
        "| 1 |378821 | 41,470,000 | 37,790,000 | 1.000 |\n",
        "| 2 | 964333  | 48,480,000  | 43,660,000 | 0.500 |\n",
        "| 3 | 187049 | 50,610,000 | 47,840,000 | 0.250 |\n",
        "| 4 | 205151 | 45,580,000 | 44,490,000 | 0.125 |\n",
        "| 5 | 813697 | 52,780,000 | 46,750,000 |  0.063 |\n",
        "| 6 | 344719 | 49,970,000 | 44,300,000 | 0.031 |\n",
        "|7 |127217  |52,810,000 | 42,840,000 |0.016 |\n",
        "| 8 | 464371 | 43,060,000 | 37,300,000 | 0.008 |\n",
        "| 9 | 645137 | 49,660,000 |43,730,000 | 0.004|\n",
        "\n",
        "\n"
      ],
      "metadata": {
        "id": "k4PJGTDViZne"
      }
    },
    {
      "cell_type": "markdown",
      "source": [
        "## 8.3 Codigo Test de Wilcoxon"
      ],
      "metadata": {
        "id": "gAeSRdWRhg61"
      }
    },
    {
      "cell_type": "code",
      "source": [
        "# 1 sola ganancia\n",
        "wilcox.test(\n",
        "  c(41470000),\n",
        "  c(37790000),\n",
        "  paired = TRUE\n",
        ")\n"
      ],
      "metadata": {
        "id": "6r5M0J0HdsE8"
      },
      "execution_count": null,
      "outputs": []
    },
    {
      "cell_type": "code",
      "source": [
        "# 2 ganancias\n",
        "wilcox.test(\n",
        "  c(41470000, 48480000),\n",
        "  c(37790000, 43660000),\n",
        "  paired = TRUE\n",
        ")\n"
      ],
      "metadata": {
        "id": "1pscqL9vLzYE"
      },
      "execution_count": null,
      "outputs": []
    },
    {
      "cell_type": "code",
      "source": [
        "# 3 ganancias\n",
        "wilcox.test(\n",
        "  c(41470000, 48480000, 50610000),\n",
        "  c(37790000, 43660000, 47840000),\n",
        "  paired = TRUE\n",
        ")"
      ],
      "metadata": {
        "id": "p3f_mtKwhSHA"
      },
      "execution_count": null,
      "outputs": []
    },
    {
      "cell_type": "code",
      "source": [
        "# 4 ganancias\n",
        "wilcox.test(\n",
        "  c(41470000, 48480000, 50610000, 45580000),\n",
        "  c(37790000, 43660000, 47840000, 44490000),\n",
        "  paired = TRUE\n",
        ")\n"
      ],
      "metadata": {
        "id": "-ijX69r9hT6Z"
      },
      "execution_count": null,
      "outputs": []
    },
    {
      "cell_type": "code",
      "source": [
        "# 5 ganancias\n",
        "wilcox.test(\n",
        "  c(41470000, 48480000, 50610000, 45580000, 52780000),\n",
        "  c(37790000, 43660000, 47840000, 44490000, 46750000),\n",
        "  paired = TRUE\n",
        ")"
      ],
      "metadata": {
        "id": "X9J_CHGehVfr"
      },
      "execution_count": null,
      "outputs": []
    },
    {
      "cell_type": "code",
      "source": [
        "# 6 ganancias\n",
        "wilcox.test(\n",
        "  c(41470000, 48480000, 50610000, 45580000, 52780000, 49970000),\n",
        "  c(37790000, 43660000, 47840000, 44490000, 46750000, 44300000),\n",
        "  paired = TRUE\n",
        ")"
      ],
      "metadata": {
        "id": "H3CNNonOhXp0"
      },
      "execution_count": null,
      "outputs": []
    },
    {
      "cell_type": "code",
      "source": [
        "# Finalmente el p-value es  0.03125  < 0.05\n",
        "# hicieron falta  SEIS semillas, seis ganancias, para\n",
        "#   afirmar que el modelo 1 es superior al modelo 2\n",
        "\n",
        "# 7 ganancias\n",
        "wilcox.test(\n",
        "  c(41470000, 48480000, 50610000, 45580000, 52780000, 49970000, 52810000),\n",
        "  c(37790000, 43660000, 47840000, 44490000, 46750000, 44300000, 42840000),\n",
        "  paired = TRUE\n",
        ")\n"
      ],
      "metadata": {
        "id": "NTW8kwY8hamz"
      },
      "execution_count": null,
      "outputs": []
    },
    {
      "cell_type": "code",
      "source": [
        "# 8 ganancias\n",
        "wilcox.test(\n",
        "  c(41470000, 48480000, 50610000, 45580000, 52780000, 49970000, 52810000, 43060000),\n",
        "  c(37790000, 43660000, 47840000, 44490000, 46750000, 44300000, 42840000, 37300000),\n",
        "  paired = TRUE\n",
        ")\n"
      ],
      "metadata": {
        "id": "Xks918w8hcgC"
      },
      "execution_count": null,
      "outputs": []
    },
    {
      "cell_type": "code",
      "source": [
        "# 9 ganancias\n",
        "wilcox.test(\n",
        "  c(41470000, 48480000, 50610000, 45580000, 52780000, 49970000, 52810000, 43060000, 49660000),\n",
        "  c(37790000, 43660000, 47840000, 44490000, 46750000, 44300000, 42840000, 37300000, 43730000),\n",
        "  paired = TRUE\n",
        ")"
      ],
      "metadata": {
        "id": "5x8L1PMGhdJR"
      },
      "execution_count": null,
      "outputs": []
    },
    {
      "cell_type": "markdown",
      "source": [
        "\n",
        "\n",
        "---\n",
        "\n"
      ],
      "metadata": {
        "id": "Qjay2WBIkhNm"
      }
    },
    {
      "cell_type": "markdown",
      "source": [
        "# 9 Comparando automaticamente modelos con test de Wilcoxon\n",
        "## Clase 02  Experimento 9"
      ],
      "metadata": {
        "id": "g2aqxlCIk3fk"
      }
    },
    {
      "cell_type": "markdown",
      "source": [],
      "metadata": {
        "id": "FhCY4sH8k3fw"
      }
    },
    {
      "cell_type": "markdown",
      "source": [
        "## 9.1  Objetivos\n",
        "\n",
        "Proveer un script que permita comparar dos arboles de decisión con la librería rpart utilizando la menor cantidad de cómputo que permita el Test de Wilxcoxon"
      ],
      "metadata": {
        "id": "a_ZVBKBHk3fx"
      }
    },
    {
      "cell_type": "markdown",
      "source": [
        "## 9.2  Introduccion\n",
        "\n",
        "| Hiperparámetro | Arbol 1 | Arbol 2 |\n",
        "| --- | --- |  --- |\n",
        "| cp | -1 | -1 |\n",
        "|minsplit | 1050 | 650 |\n",
        "|minbucket | 550 | 300 |\n",
        "|maxdepth |67 | 6 |\n",
        "\n",
        "\n"
      ],
      "metadata": {
        "id": "qCd56L0Ik3fx"
      }
    },
    {
      "cell_type": "markdown",
      "source": [
        "## 9.3 Codigo comparacion automatica Wilcoxon"
      ],
      "metadata": {
        "id": "NBtQsG3vk3fx"
      }
    },
    {
      "cell_type": "markdown",
      "source": [
        "Esta parte se debe correr con el runtime en lenguaje **R** Ir al menu, Runtime -> Change Runtime Tipe -> Runtime type -> R"
      ],
      "metadata": {
        "id": "-ARzDPORlpG6"
      }
    },
    {
      "cell_type": "markdown",
      "source": [
        "limpio el ambiente de R"
      ],
      "metadata": {
        "id": "-Sy-sLMXlpHI"
      }
    },
    {
      "cell_type": "code",
      "source": [
        "# limpio la memoria\n",
        "rm(list=ls(all.names=TRUE)) # remove all objects\n",
        "gc(full=TRUE, verbose=FALSE) # garbage collection"
      ],
      "metadata": {
        "id": "ZpST7lcHlpHI"
      },
      "execution_count": null,
      "outputs": []
    },
    {
      "cell_type": "markdown",
      "source": [
        "* Instalacion de la libreria  rpart.plot  para dibujar el arbol\n",
        "* invocacion de las librerias  **data.table** y  **rpart**"
      ],
      "metadata": {
        "id": "jHhAx3cvlpHJ"
      }
    },
    {
      "cell_type": "code",
      "source": [
        "# cargo las librerias que necesito\n",
        "require(\"data.table\")\n",
        "require(\"rpart\")\n",
        "require(\"parallel\")\n",
        "\n",
        "if (!require(\"primes\")) install.packages(\"primes\")\n",
        "require(\"primes\")\n",
        "\n",
        "require(\"ggplot2\")"
      ],
      "metadata": {
        "id": "cbPnXeeqlpHJ"
      },
      "execution_count": null,
      "outputs": []
    },
    {
      "cell_type": "markdown",
      "source": [
        "###  Accion a Realizar\n",
        "PARAM$semilla_primigenia  debe reemplazarse por SU primer semilla"
      ],
      "metadata": {
        "id": "_GQk_NEUlpHK"
      }
    },
    {
      "cell_type": "code",
      "source": [
        "PARAM <- list()\n",
        "PARAM$semilla_primigenia <- 102191\n",
        "PARAM$qsemillas_tope <- 50\n",
        "PARAM$training_pct <- 70L     # entre 1 y 100\n"
      ],
      "metadata": {
        "id": "Do801PIHlpHK"
      },
      "execution_count": null,
      "outputs": []
    },
    {
      "cell_type": "code",
      "source": [
        "# los dos arboles\n",
        "PARAM$rpart1 <- list (\n",
        "  \"cp\" = -1,\n",
        "  \"minsplit\" = 800,\n",
        "  \"minbucket\" = 400,\n",
        "  \"maxdepth\" = 7\n",
        ")\n",
        "\n",
        "\n",
        "PARAM$rpart2 <- list (\n",
        "  \"cp\" = -1,\n",
        "  \"minsplit\" = 650,\n",
        "  \"minbucket\" = 300,\n",
        "  \"maxdepth\" = 6\n",
        ")\n"
      ],
      "metadata": {
        "id": "KlC7gTc7lpHK"
      },
      "execution_count": null,
      "outputs": []
    },
    {
      "cell_type": "code",
      "source": [
        "# particionar agrega una columna llamada fold a un dataset\n",
        "#  que consiste en una particion estratificada segun agrupa\n",
        "\n",
        "# particionar( data=dataset, division=c(70,30),\n",
        "#  agrupa=clase_ternaria, seed=semilla)   crea una particion 70, 30\n",
        "\n",
        "particionar <- function(\n",
        "    data, division, agrupa = \"\",\n",
        "    campo = \"fold\", start = 1, seed = NA) {\n",
        "  if (!is.na(seed)) set.seed(seed)\n",
        "\n",
        "  bloque <- unlist(mapply(function(x, y) {\n",
        "    rep(y, x)\n",
        "  }, division, seq(from = start, length.out = length(division))))\n",
        "\n",
        "  data[, (campo) := sample(rep(bloque, ceiling(.N / length(bloque))))[1:.N],\n",
        "    by = agrupa\n",
        "  ]\n",
        "}\n"
      ],
      "metadata": {
        "id": "I7hOkZrxlpHL"
      },
      "execution_count": null,
      "outputs": []
    },
    {
      "cell_type": "code",
      "source": [
        "DosArbolesEstimarGanancia <- function(semilla, training_pct, param_rpart1, param_rpart2) {\n",
        "  # particiono estratificadamente el dataset\n",
        "  particionar(dataset,\n",
        "    division = c(training_pct, 100L -training_pct),\n",
        "    agrupa = \"clase_ternaria\",\n",
        "    seed = semilla # aqui se usa SU semilla\n",
        "  )\n",
        "\n",
        "  # genero el modelo\n",
        "  # predecir clase_ternaria a partir del resto\n",
        "  modelo1 <- rpart(\"clase_ternaria ~ .\",\n",
        "    data = dataset[fold == 1], # fold==1  es training,  el 70% de los datos\n",
        "    xval = 0,\n",
        "    control = param_rpart1\n",
        "  ) # aqui van los parametros del arbol\n",
        "\n",
        "  # aplico el modelo a los datos de testing\n",
        "  prediccion1 <- predict(modelo1, # el modelo que genere recien\n",
        "    dataset[fold == 2], # fold==2  es testing, el 30% de los datos\n",
        "    type = \"prob\"\n",
        "  ) # type= \"prob\"  es que devuelva la probabilidad\n",
        "\n",
        "\n",
        "  # calculo la ganancia en testing  qu es fold==2\n",
        "  ganancia_test1 <- dataset[\n",
        "    fold == 2,\n",
        "    sum(ifelse(prediccion1[, \"BAJA+2\"] > 0.025,\n",
        "      ifelse(clase_ternaria == \"BAJA+2\", 117000, -3000),\n",
        "      0\n",
        "    ))\n",
        "  ]\n",
        "\n",
        "  # escalo la ganancia como si fuera todo el dataset\n",
        "  ganancia_test_normalizada1 <- ganancia_test1 / (( 100 - training_pct ) / 100 )\n",
        "\n",
        "  modelo2 <- rpart(\"clase_ternaria ~ .\",\n",
        "    data = dataset[fold == 1], # fold==1  es training,  el 70% de los datos\n",
        "    xval = 0,\n",
        "    control = param_rpart2\n",
        "  ) # aqui van los parametros del arbol\n",
        "\n",
        "  # aplico el modelo a los datos de testing\n",
        "  prediccion2 <- predict(modelo2, # el modelo que genere recien\n",
        "    dataset[fold == 2], # fold==2  es testing, el 30% de los datos\n",
        "    type = \"prob\"\n",
        "  ) # type= \"prob\"  es que devuelva la probabilidad\n",
        "\n",
        "\n",
        "  # calculo la ganancia en testing  qu es fold==2\n",
        "  ganancia_test2 <- dataset[\n",
        "    fold == 2,\n",
        "    sum(ifelse(prediccion2[, \"BAJA+2\"] > 0.025,\n",
        "      ifelse(clase_ternaria == \"BAJA+2\", 117000, -3000),\n",
        "      0\n",
        "    ))\n",
        "  ]\n",
        "\n",
        "  # escalo la ganancia como si fuera todo el dataset\n",
        "  ganancia_test_normalizada2 <- ganancia_test2 / (( 100 - training_pct ) / 100 )\n",
        "\n",
        "  return(list(\n",
        "    \"semilla\" = semilla,\n",
        "    \"ganancia1\" = ganancia_test_normalizada1,\n",
        "    \"ganancia2\" = ganancia_test_normalizada2\n",
        "  ))\n",
        "}"
      ],
      "metadata": {
        "id": "vFpBSFBYlpHL"
      },
      "execution_count": null,
      "outputs": []
    },
    {
      "cell_type": "code",
      "source": [
        "# 1  ->  el modelo 1 es mejor\n",
        "# 2  ->  el modelo 2 es mejor\n",
        "# 0  ->  No se pudo determinar con el tope de qsemillas_tope\n",
        "\n",
        "\n",
        "MejorArbol <- function( qsemillas_tope, training_pct, param_rpart1, param_rpart2) {\n",
        "\n",
        "  # genero numeros primos\n",
        "  primos <- generate_primes(min = 100000, max = 1000000)\n",
        "  set.seed(PARAM$semilla_primigenia) # inicializo\n",
        "  # me quedo con PARAM$qsemillas   semillas\n",
        "  semillas <- sample(primos, qsemillas_tope )\n",
        "\n",
        "  pvalue <- 1.0\n",
        "  isem <- 1\n",
        "  vgan1 <- c() # almaceno ganancias del modelo1\n",
        "  vgan2 <- c() # almaceno ganancias del modelo2\n",
        "\n",
        "  while( (isem <= qsemillas_tope)  & (pvalue > 0.05) ) {\n",
        "\n",
        "    res <- DosArbolesEstimarGanancia(\n",
        "       semillas[ isem ],\n",
        "       training_pct,\n",
        "       param_rpart1,\n",
        "       param_rpart2\n",
        "    )\n",
        "\n",
        "    vgan1 <- c( vgan1, res$ganancia1 )\n",
        "    vgan2 <- c( vgan2, res$ganancia2 )\n",
        "\n",
        "    wt <- wilcox.test( vgan1, vgan2, paired=TRUE )\n",
        "    pvalue <- wt$p.value\n",
        "\n",
        "    cat( isem, res$ganancia1, res$ganancia2, pvalue, \"\\n\" )\n",
        "    flush.console()\n",
        "    isem <- isem + 1\n",
        "  }\n",
        "\n",
        "  out <- 0\n",
        "\n",
        "  if( pvalue < 0.05 & mean(vgan1) > mean(vgan2)  )  out <- 1\n",
        "  if( pvalue < 0.05 & mean(vgan1) < mean(vgan2)  )  out <- 2\n",
        "\n",
        "\n",
        "  return( list( \"out\" = out,\n",
        "    \"qsemillas\" = length(vgan1),\n",
        "    \"m1\" = mean( vgan1 ),\n",
        "    \"m2\" = mean( vgan2 )\n",
        "   ) )\n",
        "}\n"
      ],
      "metadata": {
        "id": "Cp8RnA_NmE8g"
      },
      "execution_count": null,
      "outputs": []
    },
    {
      "cell_type": "code",
      "source": [
        "# carpeta de trabajo\n",
        "setwd(\"/content/buckets/b1/exp\")\n",
        "experimento <- \"exp209\"\n",
        "dir.create(experimento, showWarnings=FALSE)\n",
        "setwd( paste0(\"/content/buckets/b1/exp/\", experimento ))"
      ],
      "metadata": {
        "id": "r1motpfOlpHM"
      },
      "execution_count": null,
      "outputs": []
    },
    {
      "cell_type": "code",
      "source": [
        "# lectura del dataset\n",
        "dataset <- fread(\"/content/datasets/dataset_pequeno.csv\")\n",
        "\n",
        "# trabajo solo con los datos con clase, es decir 202107\n",
        "dataset <- dataset[clase_ternaria != \"\"]"
      ],
      "metadata": {
        "id": "hT0LaKWumTSu"
      },
      "execution_count": null,
      "outputs": []
    },
    {
      "cell_type": "code",
      "source": [
        "Sys.time()\n",
        "\n",
        "comparacion <- MejorArbol(\n",
        "   PARAM$qsemillas_tope,\n",
        "   PARAM$training_pct,\n",
        "   PARAM$rpart1,\n",
        "   PARAM$rpart2\n",
        " )\n",
        "\n",
        "\n",
        "print( comparacion )\n",
        "\n",
        "Sys.time()"
      ],
      "metadata": {
        "id": "wsk0F77ambVW"
      },
      "execution_count": null,
      "outputs": []
    },
    {
      "cell_type": "markdown",
      "source": [
        "### Acciones a realizar\n",
        "* Reportar la  los resultados en la planilla colaborativa hoja  **C2-Wilcox**\n"
      ],
      "metadata": {
        "id": "d2br1bgJlpHQ"
      }
    },
    {
      "cell_type": "markdown",
      "source": [
        "\n",
        "\n",
        "---\n",
        "\n"
      ],
      "metadata": {
        "id": "x7SebtV2lpHQ"
      }
    }
  ]
}